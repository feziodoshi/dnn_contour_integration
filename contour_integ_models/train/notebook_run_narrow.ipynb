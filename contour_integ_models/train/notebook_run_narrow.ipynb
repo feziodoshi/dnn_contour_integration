{
 "cells": [
  {
   "cell_type": "code",
   "execution_count": 1,
   "id": "688dc05c-e201-436a-b49e-35e1036df28e",
   "metadata": {},
   "outputs": [
    {
     "name": "stdout",
     "output_type": "stream",
     "text": [
      "updated nov2\n"
     ]
    }
   ],
   "source": [
    "%config Completer.use_jedi = False\n",
    "\n",
    "import sys\n",
    "sys.path.insert(1,'../')\n",
    "sys.path.insert(1,'../models/')\n",
    "\n",
    "\n",
    "# Pytorch related\n",
    "import torch\n",
    "import torch.nn as nn\n",
    "import torchvision\n",
    "import torchvision.transforms as transforms\n",
    "from torchvision import datasets, transforms\n",
    "from torch.utils import data as dt\n",
    "from torchinfo import summary\n",
    "import torchvision.models as pretrained_models\n",
    "from alexnet_pytorch import AlexNet\n",
    "import torch.optim as optim\n",
    "from torch.utils.data import Dataset, DataLoader\n",
    "from torch.utils import model_zoo\n",
    "\n",
    "\n",
    "\n",
    "import numpy as np\n",
    "import pandas as pd\n",
    "import os\n",
    "\n",
    "\n",
    "# Extra imports\n",
    "# from pytorch_pretrained_vit import ViT\n",
    "from lib.feature_extractor import FeatureExtractor\n",
    "from lib.build_fe_ft_models import *\n",
    "from models import barlow_twins\n"
   ]
  },
  {
   "cell_type": "code",
   "execution_count": 2,
   "id": "e0394fda-b79c-40eb-9c00-e0875910b90a",
   "metadata": {},
   "outputs": [
    {
     "name": "stdout",
     "output_type": "stream",
     "text": [
      "updated nov2\n",
      "usage: train_narrow.py [-h] [--get-B GET_B] [--get-D GET_D [GET_D ...]]\n",
      "                       [--get-A GET_A [GET_A ...]] [--fine-tune N]\n",
      "                       [--base-model-name N] [--layer-name N] [--batch-size N]\n",
      "                       [--num-workers N] [--use-device N]\n",
      "                       [--total-num-epochs N] [--optimizer-name N]\n",
      "                       [--optimizer-lr N] [--optimizer-momentum N]\n",
      "                       [--optimizer-wd N] [--is-scheduler]\n",
      "\n",
      "Evaluate model features on ImageNet\n",
      "\n",
      "optional arguments:\n",
      "  -h, --help            show this help message and exit\n",
      "  --get-B GET_B         path element - global curvature - Comma seperated list\n",
      "  --get-D GET_D [GET_D ...]\n",
      "                        path element - distance between elements\n",
      "  --get-A GET_A [GET_A ...]\n",
      "                        path element - local curvature\n",
      "  --fine-tune N         Fine Tuning or Frozen weights in base model\n",
      "  --base-model-name N   base model to readout from\n",
      "  --layer-name N        layer of base model to readout from\n",
      "  --batch-size N        batch size\n",
      "  --num-workers N       number of workers\n",
      "  --use-device N        device - gpu or cpu\n",
      "  --total-num-epochs N  training epochs\n",
      "  --optimizer-name N    optimizer name\n",
      "  --optimizer-lr N      optimizer learning rate\n",
      "  --optimizer-momentum N\n",
      "                        optimizer momentum\n",
      "  --optimizer-wd N      optimizer weight decay\n",
      "  --is-scheduler        one cycle scheduler\n"
     ]
    }
   ],
   "source": [
    "!python train_narrow.py -h"
   ]
  },
  {
   "cell_type": "markdown",
   "id": "8dc66377-9b69-42d5-9cc9-d49b49c637d9",
   "metadata": {},
   "source": [
    "# Hyperparameters"
   ]
  },
  {
   "cell_type": "code",
   "execution_count": 3,
   "id": "4e3d62d3-cfa4-43f3-8c15-ecca0be146c7",
   "metadata": {},
   "outputs": [],
   "source": [
    "# base_model_name='alexnet-pytorch_regim_categ'\n",
    "# layer_name = 'classifier.0'\n",
    "\n",
    "# base_model_name = 'alexnet-barlow_regim_barlow'\n",
    "# layer_name = 'backbone'\n",
    "\n",
    "\n",
    "base_model_name = 'alexnet-random_nodata_notask'\n",
    "layer_name = 'avgpool'\n",
    "\n",
    "use_device='0'\n",
    "fine_tune='true'\n",
    "optimizer_lr=0.0001"
   ]
  },
  {
   "cell_type": "markdown",
   "id": "f979b57d-b437-4bd4-bf95-bb68705f061d",
   "metadata": {},
   "source": [
    "# Example training 1 layer for 2 epochs"
   ]
  },
  {
   "cell_type": "code",
   "execution_count": 4,
   "id": "dcc29314-a4b7-4d0b-b5fe-12b293c69cac",
   "metadata": {},
   "outputs": [],
   "source": [
    "# get_B='0,15,30'"
   ]
  },
  {
   "cell_type": "code",
   "execution_count": 5,
   "id": "0a89a7cc-7dfa-47e7-bba7-ec87af305d68",
   "metadata": {},
   "outputs": [],
   "source": [
    "# !python train_narrow.py --get-B $get_B --base-model-name $base_model_name --layer-name $layer_name --use-device $use_device --fine-tune $fine_tune --optimizer-lr $optimizer_lr"
   ]
  },
  {
   "cell_type": "markdown",
   "id": "a1492ed8-a0f9-4315-be73-38cb758b3e15",
   "metadata": {},
   "source": [
    "# Training across different beta experiences"
   ]
  },
  {
   "cell_type": "code",
   "execution_count": 6,
   "id": "d7c54abf-f068-41f9-aac0-d8350f8f490a",
   "metadata": {},
   "outputs": [],
   "source": [
    "all_get_B=['0','2','4','6','8','10','12','14','15','16','18','20','22','24','26','28','30','45','60','75','90']"
   ]
  },
  {
   "cell_type": "code",
   "execution_count": null,
   "id": "af8a7926-0cd9-424b-a3a1-064b7b66bab4",
   "metadata": {},
   "outputs": [
    {
     "name": "stdout",
     "output_type": "stream",
     "text": [
      "updated nov2\n",
      "0\n",
      "True\n",
      "  0%|          | 0/100 [00:00<?, ?it/s]\n",
      "updated nov2\n",
      "2\n",
      "True\n",
      "  0%|          | 0/100 [00:00<?, ?it/s]\n",
      "updated nov2\n",
      "4\n",
      "True\n",
      "  0%|          | 0/100 [00:00<?, ?it/s]\n",
      "updated nov2\n",
      "6\n",
      "True\n",
      "  0%|          | 0/100 [00:00<?, ?it/s]\n",
      "updated nov2\n",
      "8\n",
      "True\n",
      "  0%|          | 0/100 [00:00<?, ?it/s]\n",
      "updated nov2\n",
      "10\n",
      "True\n",
      "  0%|          | 0/100 [00:00<?, ?it/s]\n"
     ]
    }
   ],
   "source": [
    "for get_B in all_get_B:\n",
    "    !python train_narrow.py --get-B $get_B --base-model-name $base_model_name --layer-name $layer_name --use-device $use_device --fine-tune $fine_tune --optimizer-lr $optimizer_lr"
   ]
  },
  {
   "cell_type": "code",
   "execution_count": null,
   "id": "2711acf7-364e-483b-9618-719f92f93715",
   "metadata": {},
   "outputs": [],
   "source": [
    "print('Done')"
   ]
  },
  {
   "cell_type": "code",
   "execution_count": null,
   "id": "b5100fde-f49e-4d6b-a807-b5eeba3184c3",
   "metadata": {},
   "outputs": [],
   "source": []
  }
 ],
 "metadata": {
  "kernelspec": {
   "display_name": "Python 3 (ipykernel)",
   "language": "python",
   "name": "python3"
  },
  "language_info": {
   "codemirror_mode": {
    "name": "ipython",
    "version": 3
   },
   "file_extension": ".py",
   "mimetype": "text/x-python",
   "name": "python",
   "nbconvert_exporter": "python",
   "pygments_lexer": "ipython3",
   "version": "3.7.13"
  }
 },
 "nbformat": 4,
 "nbformat_minor": 5
}
