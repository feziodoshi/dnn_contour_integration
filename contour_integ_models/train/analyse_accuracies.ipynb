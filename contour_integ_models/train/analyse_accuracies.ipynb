{
 "cells": [
  {
   "cell_type": "code",
   "execution_count": 30,
   "id": "df4b6c5a-1831-45c1-b70b-08057373e5b8",
   "metadata": {},
   "outputs": [],
   "source": [
    "%config Completer.use_jedi = False\n",
    "\n",
    "import sys\n",
    "sys.path.insert(1,'../')\n",
    "sys.path.insert(1,'../models/')\n",
    "\n",
    "\n",
    "# Pytorch related\n",
    "import torch\n",
    "import torch.nn as nn\n",
    "import torchvision\n",
    "import torchvision.transforms as transforms\n",
    "from torchvision import datasets, transforms\n",
    "from torch.utils import data as dt\n",
    "from torchinfo import summary\n",
    "import torchvision.models as pretrained_models\n",
    "from alexnet_pytorch import AlexNet\n",
    "import torch.optim as optim\n",
    "from torch.utils.data import Dataset, DataLoader\n",
    "from torch.utils import model_zoo\n",
    "from IPython.html.widgets import interact, interactive, fixed\n",
    "\n",
    "\n",
    "import matplotlib.pyplot as plt\n",
    "%matplotlib inline\n",
    "import seaborn as sns\n",
    "\n",
    "\n",
    "import numpy as np\n",
    "import pandas as pd\n",
    "import os\n",
    "import glob\n",
    "import json\n",
    "\n",
    "\n",
    "\n",
    "# Extra imports\n",
    "from lib.feature_extractor import FeatureExtractor\n",
    "from lib.custom_dataset import Contour_Dataset\n",
    "from lib.build_fe_ft_models import *\n",
    "from lib.misc_functions import *\n",
    "from lib.field_stim_functions import *"
   ]
  },
  {
   "cell_type": "code",
   "execution_count": 2,
   "id": "46785882-00b0-4afe-a364-f31c8766af84",
   "metadata": {},
   "outputs": [],
   "source": [
    "device = torch.device('cuda:'+'3')"
   ]
  },
  {
   "cell_type": "markdown",
   "id": "16c9234e-0a4f-433c-be90-3d7264a6aca6",
   "metadata": {},
   "source": [
    "# Helper functions"
   ]
  },
  {
   "cell_type": "code",
   "execution_count": 3,
   "id": "bf636719-4f7e-42e7-9a67-acdc1aa6ea6e",
   "metadata": {},
   "outputs": [],
   "source": [
    "def get_train_val_acc(files):\n",
    "    all_models_train_acc={}\n",
    "    all_models_val_acc={}\n",
    "\n",
    "    for f in files:\n",
    "        checkpoint=torch.load(f)\n",
    "        all_models_train_acc[checkpoint['training_config']['layer_name']]=checkpoint['metrics']['train_acc'][-1]\n",
    "        all_models_val_acc[checkpoint['training_config']['layer_name']]=checkpoint['metrics']['val_acc'][-1]\n",
    "\n",
    "\n",
    "\n",
    "    myKeys = list(all_models_train_acc.keys())\n",
    "    myKeys.sort()\n",
    "    all_models_train_acc = {i: all_models_train_acc[i] for i in myKeys}\n",
    "\n",
    "\n",
    "\n",
    "    myKeys = list(all_models_val_acc.keys())\n",
    "    myKeys.sort()\n",
    "    all_models_val_acc = {i: all_models_val_acc[i] for i in myKeys}\n",
    "    \n",
    "    \n",
    "    return all_models_train_acc,all_models_val_acc"
   ]
  },
  {
   "cell_type": "code",
   "execution_count": 4,
   "id": "65d1a99e-1d13-4643-a95b-7fe7a45bf6cd",
   "metadata": {},
   "outputs": [],
   "source": [
    "def get_list_acc(acc_dict,list_layers):\n",
    "    acc=[]\n",
    "    for i in range(len(list_layers)):\n",
    "        # layer=list_layers[i].replace('_','.')\n",
    "        layer=list_layers[i]\n",
    "        if layer in acc_dict.keys():\n",
    "            acc.append(acc_dict[layer])\n",
    "            \n",
    "    return acc\n"
   ]
  },
  {
   "cell_type": "code",
   "execution_count": null,
   "id": "f6a9589c-8d0d-4338-8888-871decbb7ee1",
   "metadata": {},
   "outputs": [],
   "source": []
  },
  {
   "cell_type": "markdown",
   "id": "e2a3190e-8eb1-4844-8613-c5bb966e3a94",
   "metadata": {},
   "source": [
    "# 1. Training and Validation Accuracy (& Loss)"
   ]
  },
  {
   "cell_type": "markdown",
   "id": "c4e8afa0-cc0d-4cf0-bdf9-e1d28bf6c80c",
   "metadata": {},
   "source": [
    "### Load the model"
   ]
  },
  {
   "cell_type": "code",
   "execution_count": 5,
   "id": "f8b19134-43fd-4662-b3dd-3eec9113f596",
   "metadata": {},
   "outputs": [],
   "source": [
    "## Sup regular \n",
    "# checkpoint=torch.load('../../dev/model_hub/regular_alexnet/model_sup-regular_layer_avgpool_mode_finetune.pt')\n",
    "# checkpoint=torch.load('../../dev/model_hub/regular_alexnet/model_sup-regular_layer_avgpool_mode_frozen.pt')\n",
    "\n",
    "\n",
    "\n",
    "## Sup regular - Constrained finetuning\n",
    "# checkpoint=torch.load('../../dev/model_hub/constrained_finetuning/alexnet/B_018/model_sup-regular_layer_avgpool_mode_finetune.pt')\n",
    "\n",
    "\n",
    "## Resnet50 and Bagnet (9*9 and 33*33)\n",
    "# checkpoint=torch.load('../../dev/model_hub//bagnet_resnet/model_sup-resnet50_layer_avgpool_mode_finetune.pt')\n",
    "# checkpoint=torch.load('../../dev/model_hub/bagnet_resnet/model_sup-bagnet_layer_layer4_mode_finetune.pt')\n",
    "# checkpoint=torch.load('../../dev/model_hub/bagnet_resnet/model_sup-bagnet33_layer_layer4_mode_finetune.pt')\n",
    "\n",
    "\n",
    "## Sup stylized\n",
    "# checkpoint=torch.load('../../dev/model_hub/stylized_alexnet/model_sup-stylized_layer_avgpool_mode_finetune.pt')\n",
    "# checkpoint=torch.load('../../dev/model_hub/stylized_alexnet/model_sup-stylized_layer_avgpool_mode_frozen.pt')\n",
    "\n",
    "\n",
    "## Unsupervised\n",
    "# checkpoint=torch.load('../../dev/model_hub/unsupervised_alexnet/model_unsup-barlow_layer_backbone_mode_finetune.pt')\n",
    "# checkpoint=torch.load('../../dev/model_hub/unsupervised_alexnet/model_unsup-barlow_layer_backbone_mode_frozen.pt')\n",
    "\n",
    "## Vision Transformer\n",
    "# checkpoint=torch.load('../../dev/model_hub/vision_transformer/model_vit-regular_layer_transformer-blocks-0-attn_mode_frozen.pt')\n",
    "\n",
    "\n",
    "\n"
   ]
  },
  {
   "cell_type": "code",
   "execution_count": 6,
   "id": "1761869d-8005-4c95-8771-26650acd8cfd",
   "metadata": {},
   "outputs": [],
   "source": [
    "## Custom model\n",
    "\n",
    "\n",
    "checkpoint=torch.load('../../dev/new_ccn23/varying_ITM_largeRF/model_alexnet-styim-categ_layer_avgpool_mode_finetune_beta_020.pt')\n",
    "\n",
    "\n"
   ]
  },
  {
   "cell_type": "code",
   "execution_count": 7,
   "id": "1025bbd2-455b-4d62-a2ba-60cc59872652",
   "metadata": {},
   "outputs": [
    {
     "data": {
      "text/plain": [
       "{'root_directory': '/home/jovyan/work/Datasets/contour_integration/model-training/config_0/',\n",
       " 'get_B': [20],\n",
       " 'get_D': [32],\n",
       " 'get_A': [0],\n",
       " 'get_numElements': [12]}"
      ]
     },
     "execution_count": 7,
     "metadata": {},
     "output_type": "execute_result"
    }
   ],
   "source": [
    "checkpoint['visual_diet_config']"
   ]
  },
  {
   "cell_type": "code",
   "execution_count": 8,
   "id": "37fb71f2-a13e-4797-b225-15b61be9b22b",
   "metadata": {},
   "outputs": [
    {
     "data": {
      "text/plain": [
       "0.96"
      ]
     },
     "execution_count": 8,
     "metadata": {},
     "output_type": "execute_result"
    }
   ],
   "source": [
    "checkpoint['metrics']['val_acc'][-1]"
   ]
  },
  {
   "cell_type": "code",
   "execution_count": 9,
   "id": "7a558950-eefa-4877-8e8d-ab529868b0c0",
   "metadata": {},
   "outputs": [
    {
     "data": {
      "text/plain": [
       "<matplotlib.legend.Legend at 0x7f079d1c0ad0>"
      ]
     },
     "execution_count": 9,
     "metadata": {},
     "output_type": "execute_result"
    },
    {
     "data": {
      "image/png": "[encoded data removed]",
      "text/plain": [
       "<Figure size 432x576 with 1 Axes>"
      ]
     },
     "metadata": {
      "needs_background": "light"
     },
     "output_type": "display_data"
    }
   ],
   "source": [
    "plt.figure(figsize=(6,8))\n",
    "plt.plot(np.arange(len(checkpoint['metrics']['train_acc'])),checkpoint['metrics']['train_acc'],label='train')\n",
    "plt.plot(np.arange(len(checkpoint['metrics']['val_acc'])),checkpoint['metrics']['val_acc'],label='val')\n",
    "plt.axhline(y=0.5,linestyle='--',color='r',label='chance')\n",
    "\n",
    "plt.xlabel('Epochs',fontsize=15,labelpad=15)\n",
    "plt.ylabel('Accuracy',fontsize=15,labelpad=15)\n",
    "\n",
    "plt.gca().spines['top'].set_visible(False)\n",
    "plt.gca().spines['right'].set_visible(False)\n",
    "plt.yticks(fontsize=15)\n",
    "plt.xticks(fontsize=15)   \n",
    "plt.ylim(0.4,1.01)\n",
    "\n",
    "    \n",
    "plt.legend()"
   ]
  },
  {
   "cell_type": "code",
   "execution_count": 10,
   "id": "2478e0a6-6bd1-46ce-80c2-4683166adac5",
   "metadata": {},
   "outputs": [
    {
     "data": {
      "text/plain": [
       "<matplotlib.legend.Legend at 0x7f079d114510>"
      ]
     },
     "execution_count": 10,
     "metadata": {},
     "output_type": "execute_result"
    },
    {
     "data": {
      "image/png": "[encoded data removed]",
      "text/plain": [
       "<Figure size 432x288 with 1 Axes>"
      ]
     },
     "metadata": {
      "needs_background": "light"
     },
     "output_type": "display_data"
    }
   ],
   "source": [
    "plt.plot(np.arange(len(checkpoint['metrics']['train_acc'])),checkpoint['metrics']['train_acc'],label='train')\n",
    "plt.plot(np.arange(len(checkpoint['metrics']['val_acc'])),checkpoint['metrics']['val_acc'],label='val')    \n",
    "plt.legend()"
   ]
  },
  {
   "cell_type": "code",
   "execution_count": 11,
   "id": "3d4bdad0-274a-4d96-9d83-9147a5df5a41",
   "metadata": {},
   "outputs": [
    {
     "data": {
      "text/plain": [
       "_IncompatibleKeys(missing_keys=['base_model.classifier.1.weight', 'base_model.classifier.1.bias', 'base_model.classifier.4.weight', 'base_model.classifier.4.bias', 'base_model.classifier.6.weight', 'base_model.classifier.6.bias'], unexpected_keys=[])"
      ]
     },
     "execution_count": 11,
     "metadata": {},
     "output_type": "execute_result"
    }
   ],
   "source": [
    "loaded_spliced_model=SpliceModel(checkpoint['training_config']['base_model_name'],checkpoint['training_config']['layer_name'],fine_tune=checkpoint['training_config']['fine_tune'],device=device)\n",
    "\n",
    "loaded_spliced_model.load_state_dict(checkpoint['model_state_dict'],strict=False)"
   ]
  },
  {
   "cell_type": "code",
   "execution_count": null,
   "id": "c0821ff7-a024-40b5-b0f5-48fbc39de699",
   "metadata": {},
   "outputs": [],
   "source": []
  },
  {
   "cell_type": "markdown",
   "id": "42502c81-aed2-4dcd-a147-02663b67a3cb",
   "metadata": {},
   "source": [
    "# 2. Comparing alexnet avgpool finetune broad with and without AF"
   ]
  },
  {
   "cell_type": "code",
   "execution_count": 12,
   "id": "5f6eac00-ab90-4428-8554-44262eeff000",
   "metadata": {},
   "outputs": [],
   "source": [
    "\n",
    "alexnet_without_af=torch.load('../../dev/new_ccn23/alexnet_regimagenet_categ_finetune_broad/model_alexnet-pytorch-regim-categ_layer_avgpool_mode_finetune.pt')['metrics']['val_acc']\n",
    "alexnet_with_af=torch.load('../../dev/new_ccn23/alexnet_regimagenet_categ_finetune_broad_af/model_alexnet-pytorch-regim-categ_layer_avgpool_mode_finetune.pt')['metrics']['val_acc']\n"
   ]
  },
  {
   "cell_type": "code",
   "execution_count": null,
   "id": "07fc53fd-6488-4e56-b401-028eb69c646f",
   "metadata": {},
   "outputs": [],
   "source": [
    "plt.figure(figsize=(15,12))\n",
    "\n",
    "\n",
    "\n",
    "plt.plot(np.arange(len(alexnet_without_af)),alexnet_without_af,linewidth=3.0,label='alexnet_without_af')\n",
    "plt.plot(np.arange(len(alexnet_with_af)),alexnet_with_af,linewidth=3.0,label='alexnet_with_af')\n",
    "\n",
    "\n",
    "\n",
    "\n",
    "\n",
    "\n",
    "plt.axhline(y=0.5,linestyle='--',color='r',label='chance',alpha=0.1)\n",
    "\n",
    "plt.xlabel('Epochs',fontsize=15,labelpad=15)\n",
    "plt.ylabel('Validation Accuracy',fontsize=15,labelpad=15)\n",
    "\n",
    "plt.gca().spines['top'].set_visible(False)\n",
    "plt.gca().spines['right'].set_visible(False)\n",
    "plt.yticks(fontsize=15)\n",
    "plt.xticks(fontsize=15)   \n",
    "plt.ylim(0.4,1.01)\n",
    "\n",
    "    \n",
    "plt.legend(fontsize=12,frameon=False)\n",
    "\n",
    "plt.show()"
   ]
  },
  {
   "cell_type": "code",
   "execution_count": null,
   "id": "8979c976-0dd8-47f4-8c38-d5d216934a64",
   "metadata": {},
   "outputs": [],
   "source": []
  },
  {
   "cell_type": "code",
   "execution_count": null,
   "id": "9fccd00a-2fa9-404b-b046-26a4aa9564b7",
   "metadata": {},
   "outputs": [],
   "source": []
  },
  {
   "cell_type": "markdown",
   "id": "024234ef-f442-47c3-98d0-0cee30adc4f8",
   "metadata": {},
   "source": [
    "# 3. Comparing alexnet bagnet validation accuracies"
   ]
  },
  {
   "cell_type": "code",
   "execution_count": 125,
   "id": "2f34e97f-3482-4ff0-890f-64b1a63cc00e",
   "metadata": {},
   "outputs": [],
   "source": [
    "# alexnet_100=torch.load('../../dev/old/model_hub/bagnet_alexnet/model_alexnet-epoch-100_layer_avgpool_mode_finetune.pt')['metrics']['val_acc']\n",
    "# alexnet_50=torch.load('../../dev/old/model_hub/bagnet_alexnet/model_alexnet-epoch-050_layer_avgpool_mode_finetune.pt')['metrics']['val_acc']\n",
    "# alexnet_60=torch.load('../../dev/old/model_hub/bagnet_alexnet/model_alexnet-epoch-060_layer_avgpool_mode_finetune.pt')['metrics']['val_acc']\n",
    "\n",
    "# alexnet33=torch.load('../../dev/old/model_hub/bagnet_alexnet/model_alexnet-bagnet33_layer_features-9_mode_finetune.pt')['metrics']['val_acc']\n",
    "# alexnet31=torch.load('../../dev/old/model_hub/bagnet_alexnet/model_alexnet-bagnet31_layer_features-9_mode_finetune.pt')['metrics']['val_acc']\n",
    "# alexnet17=torch.load('../../dev/old/model_hub/bagnet_alexnet/model_alexnet-bagnet17_layer_features-9_mode_finetune.pt')['metrics']['val_acc']\n",
    "# alexnet11=torch.load('../../dev/old/model_hub/bagnet_alexnet/model_alexnet-bagnet11_layer_features-9_mode_finetune.pt')['metrics']['val_acc']"
   ]
  },
  {
   "cell_type": "code",
   "execution_count": 126,
   "id": "831c000d-7006-45f4-874c-9089a9fb5d1e",
   "metadata": {},
   "outputs": [],
   "source": [
    "alexnetbase=torch.load('../../dev/new_ccn23/alexnet_regimagenet_categ_finetune_broad/model_alexnet-pytorch-regim-categ_layer_features-12_mode_finetune.pt')['metrics']['val_acc']\n",
    "\n",
    "alexnetepoch50=torch.load('../../dev/new_ccn23/alexnet-epoch50_regimagenet_categ_finetune_broad/model_alexnet-epoch50-regim-categ_layer_features-12_mode_finetune.pt')['metrics']['val_acc']\n",
    "alexnetepoch100=torch.load('../../dev/new_ccn23/alexnet-epoch100_regimagenet_categ_finetune_broad/model_alexnet-epoch100-regim-categ_layer_features-12_mode_finetune.pt')['metrics']['val_acc']\n",
    "\n",
    "alexnet33=torch.load('../../dev/new_ccn23/alexnet-bagnet33_regimagenet_categ_finetune_broad/model_alexnet-bagnet33-regim-categ_layer_features-9_mode_finetune.pt')['metrics']['val_acc']\n",
    "alexnet31=torch.load('../../dev/new_ccn23/alexnet-bagnet31_regimagenet_categ_finetune_broad/model_alexnet-bagnet31-regim-categ_layer_features-9_mode_finetune.pt')['metrics']['val_acc']\n",
    "\n",
    "alexnet17=torch.load('../../dev/new_ccn23/alexnet-bagnet17_regimagenet_categ_finetune_broad/model_alexnet-bagnet17-regim-categ_layer_features-9_mode_finetune.pt')['metrics']['val_acc']\n",
    "alexnet11=torch.load('../../dev/new_ccn23/alexnet-bagnet11_regimagenet_categ_finetune_broad/model_alexnet-bagnet11-regim-categ_layer_features-9_mode_finetune.pt')['metrics']['val_acc']\n",
    "\n"
   ]
  },
  {
   "cell_type": "code",
   "execution_count": 127,
   "id": "e4ca8bcf-11c5-48a7-8abf-ed705cddccba",
   "metadata": {},
   "outputs": [
    {
     "name": "stdout",
     "output_type": "stream",
     "text": [
      "0.8883333333333334\n",
      "0.8933333333333334\n",
      "0.9033333333333334\n",
      "0.7066666666666667\n",
      "0.6183333333333334\n",
      "0.5700000000000001\n",
      "0.5233333333333333\n"
     ]
    }
   ],
   "source": [
    "print(alexnetbase[-1])\n",
    "print(alexnetepoch50[-1])\n",
    "print(alexnetepoch100[-1])\n",
    "\n",
    "\n",
    "print(alexnet33[-1])\n",
    "print(alexnet31[-1])\n",
    "print(alexnet17[-1])\n",
    "print(alexnet11[-1])"
   ]
  },
  {
   "cell_type": "code",
   "execution_count": 128,
   "id": "a19e1df5-9cb2-4b70-86cd-419301e2e824",
   "metadata": {},
   "outputs": [],
   "source": [
    "custom_colors = ['#1f78b4', '#33a02c', '#e31a1c', '#ff7f00', '#6a3d9a']"
   ]
  },
  {
   "cell_type": "code",
   "execution_count": 129,
   "id": "e170742b-ebd6-4151-8b80-c03d388a19e5",
   "metadata": {},
   "outputs": [],
   "source": [
    "color_shades_barplot=[(0.8229757785467128, 0.8898269896193771, 0.9527566320645905),\n",
    "                      (0.6965013456362937, 0.8248366013071895, 0.9092656670511342),\n",
    "                      (0.5168627450980392, 0.7357477893118032, 0.8601922337562476),\n",
    "                      (0.3363783160322953, 0.6255132641291811, 0.8067358708189158),\n",
    "                      (0.8275, 0.8275, 0.8275)]"
   ]
  },
  {
   "cell_type": "code",
   "execution_count": 130,
   "id": "71375b7a-4df3-4f87-9f16-bbe959b70cbb",
   "metadata": {},
   "outputs": [
    {
     "data": {
      "image/png": "[encoded data removed]",
      "text/plain": [
       "<Figure size 1080x864 with 1 Axes>"
      ]
     },
     "metadata": {
      "needs_background": "light"
     },
     "output_type": "display_data"
    }
   ],
   "source": [
    "plt.figure(figsize=(15,12))\n",
    "\n",
    "\n",
    "\n",
    "l1,=plt.plot(np.arange(len(alexnetbase)),alexnetbase,linewidth=3.0,color='lightgray',label='alexnet torchvision baseline (90 epochs)')\n",
    "# plt.plot(np.arange(len(alexnetepoch100)),alexnetepoch100,linewidth=1.0,color='k',label='alexnet-epoch100')\n",
    "plt.plot(np.arange(len(alexnetepoch50)),alexnetepoch50,linestyle='--',linewidth=3.0,color='k',label='alexnet-epoch50')\n",
    "\n",
    "\n",
    "plt.plot(np.arange(len(alexnet11)),alexnet11,linewidth=3.0,color=(0.8229757785467128, 0.8898269896193771, 0.9527566320645905),label='pinholenet-11')\n",
    "plt.plot(np.arange(len(alexnet17)),alexnet17,linewidth=3.0,color=(0.6965013456362937, 0.8248366013071895, 0.9092656670511342),label='pinholenet-17')\n",
    "\n",
    "plt.plot(np.arange(len(alexnet31)),alexnet31,linewidth=3.0,color=(0.5168627450980392, 0.7357477893118032, 0.8601922337562476),label='pinholenet-31')\n",
    "plt.plot(np.arange(len(alexnet33)),alexnet33,linewidth=3.0,color=(0.3363783160322953, 0.6255132641291811, 0.8067358708189158),label='pinholenet-33')\n",
    "\n",
    "\n",
    "\n",
    "\n",
    "\n",
    "\n",
    "\n",
    "\n",
    "\n",
    "\n",
    "\n",
    "# plt.axhline(y=0.5,linestyle='--',color='r',label='chance',alpha=0.1)\n",
    "\n",
    "plt.xlabel('Epochs',fontsize=15,labelpad=15)\n",
    "plt.ylabel('Contour Readout Accuracy',fontsize=15,labelpad=15)\n",
    "\n",
    "plt.gca().spines['top'].set_visible(False)\n",
    "plt.gca().spines['right'].set_visible(False)\n",
    "plt.yticks(fontsize=15)\n",
    "plt.xticks(fontsize=15)   \n",
    "plt.ylim(0.4,1.01)\n",
    "\n",
    "    \n",
    "# plt.legend(fontsize=12,frameon=False)\n",
    "plt.savefig('./dev/manuscript_figures/pinholenet_contour_lineplot.png', bbox_inches='tight', format='png', dpi=600)\n",
    "plt.show()"
   ]
  },
  {
   "cell_type": "code",
   "execution_count": 131,
   "id": "15c60463-ec7e-4686-b000-cfb5b4b9dd69",
   "metadata": {},
   "outputs": [
    {
     "data": {
      "image/png": "[encoded data removed]",
      "text/plain": [
       "<Figure size 864x1080 with 1 Axes>"
      ]
     },
     "metadata": {
      "needs_background": "light"
     },
     "output_type": "display_data"
    }
   ],
   "source": [
    "model_11_17_33_31_195_baseline=[0.5233333333333333, 0.5700000000000001, 0.6183333333333334, 0.7066666666666667,0.8883333333333334]\n",
    "\n",
    "models = ['P 11*11', 'P 17*17', 'P 31*31', 'P 33*33', 'P 195*195']\n",
    "\n",
    "# Plot bar chart\n",
    "fig, ax = plt.subplots(figsize=(12,15))\n",
    "bars = plt.bar(models, model_11_17_33_31_195_baseline, color=color_shades_barplot)\n",
    "\n",
    "# Optional: Add value annotations on each bar\n",
    "for bar in bars:\n",
    "    yval = bar.get_height()\n",
    "    # plt.text(bar.get_x() + bar.get_width()/2.0, yval, round(yval, 5), ha='center', va='bottom', fontsize=10)\n",
    "\n",
    "# Add labels and title\n",
    "plt.xlabel('Models', fontsize=12)\n",
    "plt.ylabel('Performance', fontsize=12)\n",
    "plt.title('Model Performance', fontsize=14)\n",
    "\n",
    "# Set the limit for y-axis (if needed)\n",
    "plt.ylim(0.5, 1.0)  # Adjust the upper limit to your highest value + some margin\n",
    "\n",
    "plt.gca().spines['top'].set_visible(False)\n",
    "plt.gca().spines['right'].set_visible(False)\n",
    "\n",
    "plt.savefig('./dev/manuscript_figures/pinholenet_contour_barplot.png', bbox_inches='tight', format='png', dpi=600)\n",
    "\n",
    "# Show plot\n",
    "plt.show()\n"
   ]
  },
  {
   "cell_type": "code",
   "execution_count": 132,
   "id": "3170ede6-7438-4576-bc32-28a308d381cb",
   "metadata": {},
   "outputs": [
    {
     "data": {
      "text/plain": [
       "0.3650000000000001"
      ]
     },
     "execution_count": 132,
     "metadata": {},
     "output_type": "execute_result"
    }
   ],
   "source": [
    "model_11_17_33_31_195_baseline=[0.5233333333333333, 0.5700000000000001, 0.6183333333333334, 0.7066666666666667,0.8883333333333334]\n",
    "np.max(model_11_17_33_31_195_baseline) - np.min(model_11_17_33_31_195_baseline)\n"
   ]
  },
  {
   "cell_type": "code",
   "execution_count": 133,
   "id": "4fbef82e-c376-4743-9075-bef6566092bc",
   "metadata": {},
   "outputs": [
    {
     "data": {
      "image/png": "[encoded data removed]",
      "text/plain": [
       "<Figure size 576x576 with 1 Axes>"
      ]
     },
     "metadata": {
      "needs_background": "light"
     },
     "output_type": "display_data"
    }
   ],
   "source": [
    "model_arch_names = ['pinhole11', 'pinhole17', 'pinhole31', 'pinhole33', 'alexnet-epoch100', 'alexnet-epoch50', 'alexnet-torchvision']\n",
    "\n",
    "objecrec_performance = [0.45632, 0.49344, 0.54446, 0.53936, 0.56546, 0.50232, 0.56522]\n",
    "contourinteg_performance = [0.5233333333333333, 0.5700000000000001, 0.6183333333333334, 0.7066666666666667, 0.9033333333333334, 0.8933333333333334, 0.8883333333333334]\n",
    "\n",
    "\n",
    "\n",
    "plt.figure(figsize=(8,8))\n",
    "\n",
    "\n",
    "custom_colors = ['#1f78b4', '#33a02c', '#e31a1c', '#ff7f00', '#6a3d9a', 'k', 'lightgray']\n",
    "# Ensure you have the right number of colors for the number of points\n",
    "if len(custom_colors) != len(objecrec_performance):\n",
    "    raise ValueError(\"Number of colors must match number of points\")\n",
    "\n",
    "plt.scatter(objecrec_performance, contourinteg_performance, marker='.',s=300, c=custom_colors)\n",
    "\n",
    "# Annotating each point with its label\n",
    "# for x, y, label in zip(objecrec_performance, contourinteg_performance, model_arch_names):\n",
    "#     plt.text(x, y, label, fontsize=9, ha='right', va='bottom')\n",
    "\n",
    "\n",
    "\n",
    "plt.xlim(0.0, 1.0)\n",
    "plt.ylim(0.5, 1.0)\n",
    "plt.gca().spines['top'].set_visible(False)\n",
    "plt.gca().spines['right'].set_visible(False)\n",
    "plt.yticks(fontsize=15)\n",
    "plt.xticks(fontsize=15)   \n",
    "\n",
    "\n",
    "\n",
    "\n",
    "plt.xlabel('Object Recognition Performance (chance=0.001)',fontsize=15)\n",
    "plt.ylabel('Contour Integration Performance (chance=0.5)',fontsize=15)\n",
    "\n",
    "plt.savefig('./dev/manuscript_figures/alexnet_pinholenet_contour_imagenet_accuracy.png', bbox_inches='tight', format='png', dpi=600)\n",
    "plt.show()\n"
   ]
  },
  {
   "cell_type": "code",
   "execution_count": null,
   "id": "26ba15a0-c67c-49f2-b9ff-1d10361f8ee5",
   "metadata": {},
   "outputs": [],
   "source": []
  },
  {
   "cell_type": "code",
   "execution_count": null,
   "id": "75b2e500-cf1b-4478-a350-532c0d534c82",
   "metadata": {},
   "outputs": [],
   "source": []
  },
  {
   "cell_type": "code",
   "execution_count": 134,
   "id": "861b18bb-3bc4-4e91-9e96-61d94091f477",
   "metadata": {},
   "outputs": [
    {
     "data": {
      "text/plain": [
       "0.7066666666666667"
      ]
     },
     "execution_count": 134,
     "metadata": {},
     "output_type": "execute_result"
    }
   ],
   "source": [
    "alexnet33[-1]"
   ]
  },
  {
   "cell_type": "code",
   "execution_count": 135,
   "id": "7cfd29a7-c7d6-4770-9d9f-32ac122b8897",
   "metadata": {},
   "outputs": [
    {
     "data": {
      "image/png": "[encoded data removed]",
      "text/plain": [
       "<Figure size 576x432 with 1 Axes>"
      ]
     },
     "metadata": {
      "needs_background": "light"
     },
     "output_type": "display_data"
    }
   ],
   "source": [
    "bars=['17','33','163']\n",
    "height=[alexnet17[-1],alexnet33[-1],alexnetbase[-1]]\n",
    "\n",
    "y_pos = np.arange(len(bars)) / 7.5  + 2\n",
    "color=['r','orange','g']\n",
    "\n",
    "\n",
    "plt.figure(figsize=(8,6))\n",
    "\n",
    "plt.gca().bar(y_pos, height, align='center', width=0.06, color=color, alpha=1.0, ecolor='gray', capsize=4)\n",
    "\n",
    "\n",
    "plt.xticks(y_pos, bars,fontsize=15,rotation=90)\n",
    "plt.yticks(fontsize=15)\n",
    "\n",
    "plt.ylim(0.5,1.0)\n",
    "\n",
    "plt.ylabel('Validation Accuracy',fontsize=25,labelpad=20)\n",
    "plt.xlabel('RF',fontsize=25,labelpad=20)\n",
    "\n",
    "plt.gca().spines['top'].set_visible(False)\n",
    "plt.gca().spines['right'].set_visible(False)\n",
    "plt.gca().spines['left'].set_visible(True)\n",
    "plt.gca().spines['bottom'].set_visible(True)\n",
    "# plt.savefig('./dev/ccn_figures/poster/alexnet_bagnet.png', format='png', dpi=300)\n",
    "plt.savefig('./dev/manuscript_figures/alexnet_bagnet.png', format='png', dpi=600)\n",
    "plt.show()"
   ]
  },
  {
   "cell_type": "markdown",
   "id": "8f2625e0-35dc-41da-9f95-fe15cd5bafb0",
   "metadata": {},
   "source": [
    "### 3b. Comparing alexnet bagnet validation accuracies and RF sizes as RF increases massively"
   ]
  },
  {
   "cell_type": "code",
   "execution_count": null,
   "id": "edb3bfa7-2187-42f4-98b6-09675670876c",
   "metadata": {},
   "outputs": [],
   "source": [
    "alexnet_base_rf=[19,67,99,131,195,323,512,512]\n",
    "pinhole_11_rf=[7,9,11,11,11,101,512,512]\n",
    "pinhole_17_rf=[9,13,17,17,17,101,512,512]\n",
    "pinhole_31_rf=[11,19,23,27,31,111,512,512]\n",
    "pinhole_33_rf=[13,25,29,33,33,111,512,512]\n",
    "\n",
    "\n",
    "x_lab=['C1','C2','C3','C4','C5','AP','F1','F2']"
   ]
  },
  {
   "cell_type": "code",
   "execution_count": null,
   "id": "53269244-8021-4173-8357-8e7b9e2fdf0f",
   "metadata": {},
   "outputs": [],
   "source": [
    "\n",
    "plt.figure(figsize=(15,12))\n",
    "\n",
    "\n",
    "\n",
    "plt.plot(np.arange(len(alexnet_base_rf)),alexnet_base_rf,linewidth=3.0,color='lightgray',label='standarad alexnet')\n",
    "\n",
    "plt.plot(np.arange(len(pinhole_11_rf)),pinhole_11_rf,linewidth=3.0,color=(0.8229757785467128, 0.8898269896193771, 0.9527566320645905),label='pinholenet-11')\n",
    "plt.plot(np.arange(len(pinhole_17_rf)),pinhole_17_rf,linewidth=3.0,color=(0.6965013456362937, 0.8248366013071895, 0.9092656670511342),label='pinholenet-17')\n",
    "plt.plot(np.arange(len(pinhole_31_rf)),pinhole_31_rf,linewidth=3.0,color=(0.5168627450980392, 0.7357477893118032, 0.8601922337562476),label='pinholenet-31')\n",
    "plt.plot(np.arange(len(pinhole_33_rf)),pinhole_33_rf,linewidth=3.0,color=(0.3363783160322953, 0.6255132641291811, 0.8067358708189158),label='pinholenet-33')\n",
    "\n",
    "\n",
    "for i in range(len(np.arange(len(alexnet_base_rf)))):\n",
    "    plt.axvline(np.arange(len(alexnet_base_rf))[i],linestyle='--',alpha=0.09,color='k')\n",
    "\n",
    "\n",
    "\n",
    "plt.xticks(np.arange(len(alexnet_base_rf)),x_lab,fontsize=15)\n",
    "plt.yticks(fontsize=15)\n",
    "\n",
    "plt.xlabel('Layer',fontsize=15,labelpad=15)\n",
    "plt.ylabel('Receptive Field Size',fontsize=15,labelpad=15)\n",
    "\n",
    "plt.gca().spines['top'].set_visible(False)\n",
    "plt.gca().spines['right'].set_visible(False)\n",
    "\n",
    "\n",
    "plt.legend().remove()\n",
    "plt.savefig('./dev/manuscript_figures/pinholenet_contour_rf_size.png', bbox_inches='tight', format='png', dpi=600)\n",
    "plt.show()"
   ]
  },
  {
   "cell_type": "code",
   "execution_count": null,
   "id": "3464daa4-d7a8-4722-8318-632fc38f67dd",
   "metadata": {},
   "outputs": [],
   "source": [
    "\n",
    "# Sample dataframe\n",
    "data = {\n",
    "    'model_name': ['P 11*11', 'P 17*17', 'P 31*31', 'P 33*33','Standard Alexnet',\n",
    "                  'P 11*11', 'P 17*17', 'P 31*31', 'P 33*33','Standard Alexnet',\n",
    "                  'P 11*11', 'P 17*17', 'P 31*31', 'P 33*33','Standard Alexnet'],\n",
    "    'layer_name': ['AP', 'AP', 'AP', 'AP', 'AP',\n",
    "                  'FC1','FC1','FC1','FC1','FC1',\n",
    "                  'FC2','FC2','FC2','FC2','FC2'],\n",
    "    'accuracy': [0.555,0.546,0.76,0.7967,0.915,\n",
    "                0.5316,0.54,0.775,0.8383,0.9433,\n",
    "                0.513,0.528,0.7633,0.8383,0.9367]\n",
    "}\n",
    "\n",
    "df = pd.DataFrame(data)\n",
    "\n",
    "# Sample colors with RGB values\n",
    "color_dict = {\n",
    "    'P 11*11': (0.8229757785467128, 0.8898269896193771, 0.9527566320645905),\n",
    "    'P 17*17': (0.6965013456362937, 0.8248366013071895, 0.9092656670511342),\n",
    "    'P 31*31': (0.5168627450980392, 0.7357477893118032, 0.8601922337562476),\n",
    "    'P 33*33': (0.3363783160322953, 0.6255132641291811, 0.8067358708189158),\n",
    "    'Standard Alexnet':(0.827, 0.827, 0.827)\n",
    "}\n",
    "\n",
    "# Create bar plot\n",
    "plt.figure(figsize=(15, 12))\n",
    "sns.barplot(data=df, x='layer_name', y='accuracy', hue='model_name', palette=color_dict, ci=None)\n",
    "\n",
    "# Adding titles and labels\n",
    "plt.title('Model Accuracy by Layer')\n",
    "plt.xlabel('Layer Name')\n",
    "plt.ylabel('Accuracy')\n",
    "plt.legend(title='Model Name').remove()\n",
    "\n",
    "\n",
    "plt.ylim(0.5, 1.0) \n",
    "\n",
    "\n",
    "plt.gca().spines['top'].set_visible(False)\n",
    "plt.gca().spines['right'].set_visible(False)\n",
    "plt.savefig('./dev/manuscript_figures/pinholenet_contour_training_classifier_head.png', bbox_inches='tight', format='png', dpi=600)\n",
    "# Display the plot\n",
    "plt.show()"
   ]
  },
  {
   "cell_type": "code",
   "execution_count": null,
   "id": "23a89042-e630-4778-aaa8-8e4d1c3d4342",
   "metadata": {},
   "outputs": [],
   "source": []
  },
  {
   "cell_type": "code",
   "execution_count": null,
   "id": "1846e493-0b74-4d91-94bd-cdf7f7e2d545",
   "metadata": {},
   "outputs": [],
   "source": [
    "torch.load('../../dev/new_ccn23/alexnet_regimagenet_categ_finetune_broad/model_alexnet-pytorch-regim-categ_layer_classifier-5_mode_finetune.pt')['metrics']['val_acc'][-1]"
   ]
  },
  {
   "cell_type": "code",
   "execution_count": null,
   "id": "61d132f3-51aa-455d-b342-f7e1800b08a6",
   "metadata": {},
   "outputs": [],
   "source": []
  },
  {
   "cell_type": "markdown",
   "id": "5f0393c2-0eef-46c2-a42e-cd6017c1e2ef",
   "metadata": {},
   "source": [
    "# 4. Looking at the AF models in heirrarchy"
   ]
  },
  {
   "cell_type": "code",
   "execution_count": null,
   "id": "bb3223b5-66df-415a-ba86-5d6c006fcfc1",
   "metadata": {},
   "outputs": [],
   "source": [
    "list_layers=['features_1',\n",
    " 'features_2',\n",
    " 'features_3',\n",
    " 'features_4',\n",
    " 'features_5',\n",
    " 'avgpool']\n",
    "\n",
    "for i in range(len(list_layers)):\n",
    "    list_layers[i]=list_layers[i].replace('_','.')"
   ]
  },
  {
   "cell_type": "code",
   "execution_count": null,
   "id": "86296df6-df54-42bf-8626-86a2e2ae7532",
   "metadata": {},
   "outputs": [],
   "source": [
    "sup_regular_finetune_files = glob.glob(\"../../dev/new_ccn23/alexnet_regimagenet_categ_finetune_broad_af/*finetune.pt\")\n",
    "sup_regular_finetune_acc={'train':get_train_val_acc(sup_regular_finetune_files)[0],'val':get_train_val_acc(sup_regular_finetune_files)[1]}"
   ]
  },
  {
   "cell_type": "code",
   "execution_count": null,
   "id": "bcffedfd-a28c-4687-b626-74abb621e306",
   "metadata": {},
   "outputs": [],
   "source": [
    "sup_regular_finetune_files"
   ]
  },
  {
   "cell_type": "code",
   "execution_count": null,
   "id": "b0d1d1ba-a881-452e-8295-fe3c2aa9e8d7",
   "metadata": {},
   "outputs": [],
   "source": [
    "plt.figure(figsize=(12,10))\n",
    "\n",
    "\n",
    "plt.plot(np.arange(len(get_list_acc(sup_regular_finetune_acc['val'],list_layers))),get_list_acc(sup_regular_finetune_acc['val'],list_layers),alpha=1.0,linewidth=4)\n",
    "plt.plot(np.arange(len(get_list_acc(sup_regular_finetune_acc['val'],list_layers))),get_list_acc(sup_regular_finetune_acc['val'],list_layers),'.',color='k',markersize=10,label='supervised regular finetune')\n",
    "# plt.axhline(y=0.5,linestyle='--',color='r',label='chance')\n",
    "\n",
    "\n",
    "# for i in range(len(get_list_acc(sup_regular_finetune_acc['val'],list_layers))):\n",
    "#     plt.axvline(i,linestyle='--',alpha=0.1,color='k')\n",
    "\n",
    "plt.xticks(np.arange(len(get_list_acc(sup_regular_finetune_acc['val'],list_layers))),list_layers,rotation=90,fontsize=15)\n",
    "plt.yticks(fontsize=15) \n",
    "# plt.ylim(0.4,1.01)\n",
    "plt.ylabel('Validation Accuracy',fontsize=15)\n",
    "plt.gca().spines['top'].set_visible(False)\n",
    "plt.gca().spines['right'].set_visible(False)\n",
    "# plt.legend()\n",
    "# plt.title('After 100 epochs of training')\n",
    "# plt.savefig('./dev/layer_acc.svg', format='svg', dpi=1200)\n",
    "# plt.savefig('./dev/ccn_figures/f1/layer_acc.png', format='png', dpi=600)\n",
    "plt.show()\n",
    "    \n",
    "    "
   ]
  },
  {
   "cell_type": "code",
   "execution_count": null,
   "id": "46123091-51df-4be7-990b-4c6f5a2444eb",
   "metadata": {},
   "outputs": [],
   "source": []
  },
  {
   "cell_type": "code",
   "execution_count": null,
   "id": "fd30ef6e-029d-48c3-8741-5287347a0f32",
   "metadata": {},
   "outputs": [],
   "source": []
  },
  {
   "cell_type": "code",
   "execution_count": null,
   "id": "55864cf4-f864-4615-9de8-6e0d8414cb1b",
   "metadata": {},
   "outputs": [],
   "source": []
  },
  {
   "cell_type": "markdown",
   "id": "47939753-8e35-4a78-927b-618b284ef599",
   "metadata": {},
   "source": [
    "# 5. Comparing resnet bagnet validation accuracies"
   ]
  },
  {
   "cell_type": "code",
   "execution_count": null,
   "id": "cb2db5af-2503-4064-9ce2-345609e15596",
   "metadata": {},
   "outputs": [],
   "source": [
    "# resnet50_val_acc=checkpoint['metrics']['val_acc']\n",
    "\n",
    "# bagnet_val_acc=checkpoint['metrics']['val_acc']\n",
    "\n",
    "# bagnet33_val_acc=checkpoint['metrics']['val_acc']"
   ]
  },
  {
   "cell_type": "code",
   "execution_count": null,
   "id": "b6dc954f-52ac-45d9-817d-8d2936b0ec33",
   "metadata": {},
   "outputs": [],
   "source": [
    "# plt.figure(figsize=(10,8))\n",
    "# plt.plot(np.arange(len(resnet50_val_acc)),resnet50_val_acc,linewidth=3.0,label='resnet',color='green')\n",
    "# plt.plot(np.arange(len(bagnet_val_acc)),bagnet_val_acc,linewidth=3.0,label='bagnet',color='red')\n",
    "\n",
    "# plt.axhline(y=0.5,linestyle='--',color='r',label='chance',alpha=0.1)\n",
    "\n",
    "# plt.xlabel('Epochs',fontsize=15,labelpad=15)\n",
    "# plt.ylabel('Validation Accuracy',fontsize=15,labelpad=15)\n",
    "\n",
    "# plt.gca().spines['top'].set_visible(False)\n",
    "# plt.gca().spines['right'].set_visible(False)\n",
    "# plt.yticks(fontsize=15)\n",
    "# plt.xticks(fontsize=15)   \n",
    "# plt.ylim(0.4,1.01)\n",
    "\n",
    "    \n",
    "# plt.legend()\n",
    "# plt.savefig('./dev/ccn_figures/f2/resnet_bagnet.png', format='png', dpi=1200)\n",
    "# plt.show()"
   ]
  },
  {
   "cell_type": "code",
   "execution_count": null,
   "id": "07c105ec-e4b4-4e8f-b7e4-5d48881b4d23",
   "metadata": {},
   "outputs": [],
   "source": [
    "# plt.figure(figsize=(15,10))\n",
    "# plt.plot(np.arange(len(resnet50_val_acc)),resnet50_val_acc,linewidth=3.0,label='Resnet50-Vanilla',color='green')\n",
    "# plt.plot(np.arange(len(bagnet_val_acc)),bagnet_val_acc,linewidth=3.0,label='Resnet50-Bagnet: RF 9px',color='red')\n",
    "# plt.plot(np.arange(len(bagnet33_val_acc)),bagnet33_val_acc,linewidth=3.0,label='Resnet50-Bagnet: RF 33px',color='blue')\n",
    "\n",
    "# plt.axhline(y=0.5,linestyle='--',color='r',label='chance',alpha=0.1)\n",
    "\n",
    "# plt.xlabel('Epochs',fontsize=15,labelpad=15)\n",
    "# plt.ylabel('Validation Accuracy',fontsize=15,labelpad=15)\n",
    "\n",
    "# plt.gca().spines['top'].set_visible(False)\n",
    "# plt.gca().spines['right'].set_visible(False)\n",
    "# plt.yticks(fontsize=15)\n",
    "# plt.xticks(fontsize=15)   \n",
    "# plt.ylim(0.4,1.01)\n",
    "\n",
    "    \n",
    "# plt.legend()\n",
    "# plt.savefig('./dev/ccn_figures/f2/resnet_bagnet_bagnet33.png', format='png', dpi=1200)\n",
    "# plt.show()"
   ]
  },
  {
   "cell_type": "code",
   "execution_count": null,
   "id": "e907707f-c110-4084-9d68-8c9c2c839cb9",
   "metadata": {},
   "outputs": [],
   "source": []
  },
  {
   "cell_type": "markdown",
   "id": "3decaa75-6622-4648-8a15-93d62068481f",
   "metadata": {},
   "source": [
    "# 6. Interactive explorer"
   ]
  },
  {
   "cell_type": "code",
   "execution_count": 136,
   "id": "ff2be44b-a05d-4f0f-a153-6533188908cc",
   "metadata": {},
   "outputs": [
    {
     "data": {
      "text/plain": [
       "['../../dev/new_ccn23/alexnet_regimagenet_categ_finetune_broad/model_alexnet-pytorch-regim-categ_layer_features-2_mode_finetune.pt',\n",
       " '../../dev/new_ccn23/alexnet_regimagenet_categ_finetune_broad/model_alexnet-pytorch-regim-categ_layer_classifier-4_mode_finetune.pt',\n",
       " '../../dev/new_ccn23/alexnet_regimagenet_categ_finetune_broad/model_alexnet-pytorch-regim-categ_layer_classifier-3_mode_finetune.pt',\n",
       " '../../dev/new_ccn23/alexnet_regimagenet_categ_finetune_broad/model_alexnet-pytorch-regim-categ_layer_avgpool_mode_finetune.pt',\n",
       " '../../dev/new_ccn23/alexnet_regimagenet_categ_finetune_broad/model_alexnet-pytorch-regim-categ_layer_classifier-0_mode_finetune.pt',\n",
       " '../../dev/new_ccn23/alexnet_regimagenet_categ_finetune_broad/model_alexnet-pytorch-regim-categ_layer_features-0_mode_finetune.pt',\n",
       " '../../dev/new_ccn23/alexnet_regimagenet_categ_finetune_broad/model_alexnet-pytorch-regim-categ_layer_features-6_mode_finetune.pt',\n",
       " '../../dev/new_ccn23/alexnet_regimagenet_categ_finetune_broad/model_alexnet-pytorch-regim-categ_layer_features-4_mode_finetune.pt',\n",
       " '../../dev/new_ccn23/alexnet_regimagenet_categ_finetune_broad/model_alexnet-pytorch-regim-categ_layer_classifier-5_mode_finetune.pt',\n",
       " '../../dev/new_ccn23/alexnet_regimagenet_categ_finetune_broad/model_alexnet-pytorch-regim-categ_layer_features-11_mode_finetune.pt',\n",
       " '../../dev/new_ccn23/alexnet_regimagenet_categ_finetune_broad/model_alexnet-pytorch-regim-categ_layer_features-3_mode_finetune.pt',\n",
       " '../../dev/new_ccn23/alexnet_regimagenet_categ_finetune_broad/model_alexnet-pytorch-regim-categ_layer_features-8_mode_finetune.pt',\n",
       " '../../dev/new_ccn23/alexnet_regimagenet_categ_finetune_broad/model_alexnet-pytorch-regim-categ_layer_classifier-1_mode_finetune.pt',\n",
       " '../../dev/new_ccn23/alexnet_regimagenet_categ_finetune_broad/model_alexnet-pytorch-regim-categ_layer_features-9_mode_finetune.pt',\n",
       " '../../dev/new_ccn23/alexnet_regimagenet_categ_finetune_broad/model_alexnet-pytorch-regim-categ_layer_features-12_mode_finetune.pt',\n",
       " '../../dev/new_ccn23/alexnet_regimagenet_categ_finetune_broad/model_alexnet-pytorch-regim-categ_layer_features-5_mode_finetune.pt',\n",
       " '../../dev/new_ccn23/alexnet_regimagenet_categ_finetune_broad/model_alexnet-pytorch-regim-categ_layer_classifier-6_mode_finetune.pt',\n",
       " '../../dev/new_ccn23/alexnet_regimagenet_categ_finetune_broad/model_alexnet-pytorch-regim-categ_layer_features-1_mode_finetune.pt',\n",
       " '../../dev/new_ccn23/alexnet_regimagenet_categ_finetune_broad/model_alexnet-pytorch-regim-categ_layer_classifier-2_mode_finetune.pt',\n",
       " '../../dev/new_ccn23/alexnet_regimagenet_categ_finetune_broad/model_alexnet-pytorch-regim-categ_layer_features-10_mode_finetune.pt',\n",
       " '../../dev/new_ccn23/alexnet_regimagenet_categ_finetune_broad/model_alexnet-pytorch-regim-categ_layer_features-7_mode_finetune.pt']"
      ]
     },
     "execution_count": 136,
     "metadata": {},
     "output_type": "execute_result"
    }
   ],
   "source": [
    "files = glob.glob(\"../../dev/new_ccn23/alexnet_regimagenet_categ_finetune_broad/*finetune.pt\")\n",
    "files"
   ]
  },
  {
   "cell_type": "code",
   "execution_count": 137,
   "id": "3369be16-4f5d-4f49-aa31-cd1c2576b1b6",
   "metadata": {},
   "outputs": [
    {
     "data": {
      "application/vnd.jupyter.widget-view+json": {
       "model_id": "1650b6ec08944001b9c454d83bbbe16f",
       "version_major": 2,
       "version_minor": 0
      },
      "text/plain": [
       "interactive(children=(Dropdown(description='selected_file', options=('../../dev/new_ccn23/alexnet_regimagenet_…"
      ]
     },
     "metadata": {},
     "output_type": "display_data"
    }
   ],
   "source": [
    "@interact(selected_file=files)\n",
    "def plot_diff_distribution_categories(selected_file):\n",
    "    checkpoint=torch.load(selected_file)\n",
    "    \n",
    "    \n",
    "    plt.figure(figsize=(14,4))\n",
    "    \n",
    "    plt.subplot(1,2,1)\n",
    "    plt.plot(np.arange(len(checkpoint['metrics']['train_acc'])),checkpoint['metrics']['train_acc'],label='train')\n",
    "    plt.plot(np.arange(len(checkpoint['metrics']['val_acc'])),checkpoint['metrics']['val_acc'],label='val')\n",
    "    plt.axhline(y=0.5,linestyle='--',color='r',label='chance')\n",
    "    \n",
    "    plt.ylabel('Accuracy',fontsize=10)\n",
    "    plt.xlabel('Epochs',fontsize=10)\n",
    "    plt.gca().spines['top'].set_visible(False)\n",
    "    plt.gca().spines['right'].set_visible(False)\n",
    "    plt.ylim(0.4,1.01)\n",
    "    plt.legend()\n",
    "    \n",
    "    \n",
    "    plt.subplot(1,2,2)\n",
    "    plt.plot(np.arange(len(checkpoint['metrics']['train_loss'])),checkpoint['metrics']['train_loss'],label='train')\n",
    "    plt.plot(np.arange(len(checkpoint['metrics']['val_loss'])),checkpoint['metrics']['val_loss'],label='val')\n",
    "    plt.ylabel('Loss',fontsize=10)\n",
    "    plt.xlabel('Epochs',fontsize=10)\n",
    "    plt.gca().spines['top'].set_visible(False)\n",
    "    plt.gca().spines['right'].set_visible(False)\n",
    "    plt.legend()\n",
    "    \n",
    "    \n",
    "    \n",
    "    plt.show()"
   ]
  },
  {
   "cell_type": "markdown",
   "id": "596313ee-5304-4062-9757-9474b41e0e26",
   "metadata": {},
   "source": [
    "# 7. Accuracy accross architecture/model heirarchary"
   ]
  },
  {
   "cell_type": "code",
   "execution_count": null,
   "id": "8b25ecbb-c1b1-4b2e-862a-0e36a6f1b7de",
   "metadata": {},
   "outputs": [],
   "source": [
    "list_layers=['features_0',\n",
    " 'features_1',\n",
    " 'features_2',\n",
    " 'features_3',\n",
    " 'features_4',\n",
    " 'features_5',\n",
    " 'features_6',\n",
    " 'features_7',\n",
    " 'features_8',\n",
    " 'features_9',\n",
    " 'features_10',\n",
    " 'features_11',\n",
    " 'features_12',\n",
    " 'avgpool',\n",
    " 'classifier_0',\n",
    " 'classifier_1',\n",
    " 'classifier_2',\n",
    " 'classifier_3',\n",
    " 'classifier_4',\n",
    " 'classifier_5',\n",
    " 'classifier_6']\n",
    "\n",
    "for i in range(len(list_layers)):\n",
    "    list_layers[i]=list_layers[i].replace('_','.')"
   ]
  },
  {
   "cell_type": "code",
   "execution_count": null,
   "id": "4202e24a-39e8-4722-a8bc-a70e142d8686",
   "metadata": {},
   "outputs": [],
   "source": [
    "sup_regular_finetune_files = glob.glob(\"../../dev/new_ccn23/alexnet_regimagenet_categ_finetune_broad/*finetune.pt\")\n",
    "sup_regular_finetune_acc={'train':get_train_val_acc(sup_regular_finetune_files)[0],'val':get_train_val_acc(sup_regular_finetune_files)[1]}"
   ]
  },
  {
   "cell_type": "code",
   "execution_count": null,
   "id": "5b995f14-e13d-4e34-be4e-c3591133e0d7",
   "metadata": {},
   "outputs": [],
   "source": [
    "sup_regular_finetune_acc"
   ]
  },
  {
   "cell_type": "code",
   "execution_count": null,
   "id": "5ec095d7-5fe9-42aa-b959-8ded5a445011",
   "metadata": {},
   "outputs": [],
   "source": [
    "sup_regular_finetune_files"
   ]
  },
  {
   "cell_type": "code",
   "execution_count": null,
   "id": "6a372504-7a3a-420c-9092-38b293eb52aa",
   "metadata": {},
   "outputs": [],
   "source": [
    "plt.figure(figsize=(12,10))\n",
    "\n",
    "\n",
    "plt.plot(np.arange(len(get_list_acc(sup_regular_finetune_acc['val'],list_layers))),get_list_acc(sup_regular_finetune_acc['val'],list_layers),alpha=1.0,linewidth=4)\n",
    "plt.plot(np.arange(len(get_list_acc(sup_regular_finetune_acc['val'],list_layers))),get_list_acc(sup_regular_finetune_acc['val'],list_layers),'.',color='k',markersize=10,label='supervised regular finetune')\n",
    "plt.axhline(y=0.5,linestyle='--',color='r',label='chance')\n",
    "\n",
    "\n",
    "# for i in range(len(get_list_acc(sup_regular_finetune_acc['val'],list_layers))):\n",
    "#     plt.axvline(i,linestyle='--',alpha=0.1,color='k')\n",
    "\n",
    "plt.xticks(np.arange(len(get_list_acc(sup_regular_finetune_acc['val'],list_layers))),list_layers,rotation=90,fontsize=15)\n",
    "plt.yticks(fontsize=15) \n",
    "plt.ylim(0.4,1.01)\n",
    "plt.ylabel('Validation Accuracy',fontsize=15)\n",
    "plt.gca().spines['top'].set_visible(False)\n",
    "plt.gca().spines['right'].set_visible(False)\n",
    "# plt.legend()\n",
    "# plt.title('After 100 epochs of training')\n",
    "# plt.savefig('./dev/layer_acc.svg', format='svg', dpi=1200)\n",
    "# plt.savefig('./dev/ccn_figures/f1/layer_acc.png', format='png', dpi=600)\n",
    "plt.show()\n",
    "    \n",
    "    "
   ]
  },
  {
   "cell_type": "code",
   "execution_count": null,
   "id": "956daa7b-89e3-4b64-9981-b0584d5e1151",
   "metadata": {},
   "outputs": [],
   "source": [
    "sup_regular_frozen_files =  glob.glob(\"../../dev/new_ccn23/alexnet_regimagenet_categ_frozen_broad/*frozen.pt\")\n",
    "sup_regular_frozen_acc={'train':get_train_val_acc(sup_regular_frozen_files)[0],'val':get_train_val_acc(sup_regular_frozen_files)[1]}"
   ]
  },
  {
   "cell_type": "code",
   "execution_count": null,
   "id": "8d5084de-ef4b-4adb-80a9-6b7ca4b9bf7b",
   "metadata": {},
   "outputs": [],
   "source": [
    "plt.figure(figsize=(12,10))\n",
    "\n",
    "\n",
    "plt.plot(np.arange(len(get_list_acc(sup_regular_finetune_acc['val'],list_layers))),get_list_acc(sup_regular_finetune_acc['val'],list_layers),alpha=0.8,linewidth=4)\n",
    "plt.plot(np.arange(len(get_list_acc(sup_regular_finetune_acc['val'],list_layers))),get_list_acc(sup_regular_finetune_acc['val'],list_layers),'.',color='k',markersize=10,label='supervised regular finetune')\n",
    "\n",
    "\n",
    "plt.plot(np.arange(len(get_list_acc(sup_regular_frozen_acc['val'],list_layers))),get_list_acc(sup_regular_frozen_acc['val'],list_layers),alpha=0.4,color='orange',linewidth=4)\n",
    "plt.plot(np.arange(len(get_list_acc(sup_regular_frozen_acc['val'],list_layers))),get_list_acc(sup_regular_frozen_acc['val'],list_layers),'.',alpha=0.6,color='k',markersize=10,label='supervised regular finetune')\n",
    "\n",
    "\n",
    "\n",
    "plt.axhline(y=0.5,linestyle='--',color='r',label='chance')\n",
    "\n",
    "\n",
    "for i in range(len(get_list_acc(sup_regular_finetune_acc['val'],list_layers))):\n",
    "    plt.axvline(i,linestyle='--',alpha=0.1,color='k')\n",
    "\n",
    "plt.xticks(np.arange(len(get_list_acc(sup_regular_finetune_acc['val'],list_layers))),list_layers,rotation=90,fontsize=15)\n",
    "plt.yticks(fontsize=15) \n",
    "plt.ylim(0.4,1.01)\n",
    "plt.ylabel('Validation Accuracy',fontsize=15)\n",
    "plt.gca().spines['top'].set_visible(False)\n",
    "plt.gca().spines['right'].set_visible(False)\n",
    "# plt.legend()\n",
    "# plt.title('After 100 epochs of training')\n",
    "# plt.savefig('./dev/layer_acc.svg', format='svg', dpi=1200)\n",
    "# plt.savefig('./dev/ccn_figures/poster/finetune_frozen_layer_acc.png', format='png', dpi=600)\n",
    "plt.show()\n",
    "    \n",
    "    "
   ]
  },
  {
   "cell_type": "code",
   "execution_count": null,
   "id": "4c72a00a-74f3-4fae-aba4-ee3d0ccc4804",
   "metadata": {},
   "outputs": [],
   "source": [
    "plt.figure(figsize=(12,10))\n",
    "\n",
    "\n",
    "plt.plot(np.arange(len(get_list_acc(sup_regular_finetune_acc['val'],list_layers))),get_list_acc(sup_regular_finetune_acc['val'],list_layers),alpha=1.0,linewidth=4)\n",
    "plt.plot(np.arange(len(get_list_acc(sup_regular_finetune_acc['val'],list_layers))),get_list_acc(sup_regular_finetune_acc['val'],list_layers),'.',color='k',markersize=10,label='supervised regular finetune')\n",
    "\n",
    "\n",
    "plt.plot(np.arange(len(get_list_acc(sup_regular_frozen_acc['val'],list_layers))),get_list_acc(sup_regular_frozen_acc['val'],list_layers),alpha=1.0,linewidth=4)\n",
    "plt.plot(np.arange(len(get_list_acc(sup_regular_frozen_acc['val'],list_layers))),get_list_acc(sup_regular_frozen_acc['val'],list_layers),'.',color='k',markersize=10,label='supervised regular finetune')\n",
    "\n",
    "\n",
    "\n",
    "plt.axhline(y=0.5,linestyle='--',color='r',label='chance')\n",
    "\n",
    "\n",
    "# for i in range(len(get_list_acc(sup_regular_finetune_acc['val'],list_layers))):\n",
    "#     plt.axvline(i,linestyle='--',alpha=0.1,color='k')\n",
    "\n",
    "plt.xticks(np.arange(len(get_list_acc(sup_regular_finetune_acc['val'],list_layers))),(np.arange(len(list_layers)) + 1)/len(list_layers),rotation=90,fontsize=15)\n",
    "plt.yticks(fontsize=15) \n",
    "plt.ylim(0.4,1.01)\n",
    "plt.ylabel('Validation Accuracy',fontsize=15)\n",
    "plt.gca().spines['top'].set_visible(False)\n",
    "plt.gca().spines['right'].set_visible(False)\n",
    "# plt.legend()\n",
    "# plt.title('After 100 epochs of training')\n",
    "# plt.savefig('./dev/layer_acc.svg', format='svg', dpi=1200)\n",
    "# plt.savefig('./dev/ccn_figures/f4/finetune_frozen_layer_acc.png', format='png', dpi=600)\n",
    "plt.show()\n",
    "    \n",
    "    "
   ]
  },
  {
   "cell_type": "markdown",
   "id": "59b89a79-901f-47a3-90dd-a0c663942d83",
   "metadata": {},
   "source": [
    "### 7b. Accuracy accross architecture/model heirarchary comparing stylized and regular frozen"
   ]
  },
  {
   "cell_type": "code",
   "execution_count": null,
   "id": "59f068be-73a4-4154-b1d6-d233cc2abc7b",
   "metadata": {},
   "outputs": [],
   "source": [
    "list_layers=['features_0',\n",
    " 'features_1',\n",
    " 'features_2',\n",
    " 'features_3',\n",
    " 'features_4',\n",
    " 'features_5',\n",
    " 'features_6',\n",
    " 'features_7',\n",
    " 'features_8',\n",
    " 'features_9',\n",
    " 'features_10',\n",
    " 'features_11',\n",
    " 'features_12',\n",
    " 'avgpool',\n",
    " 'classifier_0',\n",
    " 'classifier_1',\n",
    " 'classifier_2',\n",
    " 'classifier_3',\n",
    " 'classifier_4',\n",
    " 'classifier_5',\n",
    " 'classifier_6']\n",
    "\n",
    "for i in range(len(list_layers)):\n",
    "    list_layers[i]=list_layers[i].replace('_','.')"
   ]
  },
  {
   "cell_type": "code",
   "execution_count": null,
   "id": "f87bac75-fc46-428f-9045-5f5020e508a6",
   "metadata": {},
   "outputs": [],
   "source": [
    "sup_regular_finetune_files = glob.glob(\"../../dev/new_ccn23/alexnet_regimagenet_categ_finetune_broad/*finetune.pt\")\n",
    "sup_regular_finetune_acc={'train':get_train_val_acc(sup_regular_finetune_files)[0],'val':get_train_val_acc(sup_regular_finetune_files)[1]}"
   ]
  },
  {
   "cell_type": "code",
   "execution_count": null,
   "id": "434fec5a-cf89-4105-8913-27db25f2d731",
   "metadata": {},
   "outputs": [],
   "source": [
    "sup_regular_frozen_files =  glob.glob(\"../../dev/new_ccn23/alexnet_regimagenet_categ_frozen_broad/*frozen.pt\")\n",
    "sup_regular_frozen_acc={'train':get_train_val_acc(sup_regular_frozen_files)[0],'val':get_train_val_acc(sup_regular_frozen_files)[1]}"
   ]
  },
  {
   "cell_type": "code",
   "execution_count": null,
   "id": "a2483f2d-a06f-496f-b563-633a3ecde8cc",
   "metadata": {},
   "outputs": [],
   "source": [
    "stylized_regular_frozen_files =  glob.glob(\"../../dev/new_ccn23/alexnet-styim-categ_frozen_broad/*frozen.pt\")\n",
    "stylized_regular_frozen_acc={'train':get_train_val_acc(stylized_regular_frozen_files)[0],'val':get_train_val_acc(stylized_regular_frozen_files)[1]}\n",
    "\n",
    "\n"
   ]
  },
  {
   "cell_type": "code",
   "execution_count": null,
   "id": "f78e24bc-e1fa-472f-82f7-eeaf2808985c",
   "metadata": {},
   "outputs": [],
   "source": [
    "plt.figure(figsize=(12,10))\n",
    "\n",
    "\n",
    "plt.plot(np.arange(len(get_list_acc(sup_regular_finetune_acc['val'],list_layers))),get_list_acc(sup_regular_finetune_acc['val'],list_layers),alpha=0.8,linewidth=4,label='regular finetune')\n",
    "plt.plot(np.arange(len(get_list_acc(sup_regular_finetune_acc['val'],list_layers))),get_list_acc(sup_regular_finetune_acc['val'],list_layers),'.',color='k',markersize=10)\n",
    "\n",
    "\n",
    "plt.plot(np.arange(len(get_list_acc(sup_regular_frozen_acc['val'],list_layers))),get_list_acc(sup_regular_frozen_acc['val'],list_layers),alpha=0.4,color='orange',linewidth=4,label='regular frozen')\n",
    "plt.plot(np.arange(len(get_list_acc(sup_regular_frozen_acc['val'],list_layers))),get_list_acc(sup_regular_frozen_acc['val'],list_layers),'.',alpha=0.6,color='k',markersize=10)\n",
    "\n",
    "\n",
    "plt.plot(np.arange(len(get_list_acc(stylized_regular_frozen_acc['val'],list_layers))),get_list_acc(stylized_regular_frozen_acc['val'],list_layers),alpha=0.4,color='g',linewidth=4,label='stylized frozen')\n",
    "plt.plot(np.arange(len(get_list_acc(stylized_regular_frozen_acc['val'],list_layers))),get_list_acc(stylized_regular_frozen_acc['val'],list_layers),'.',alpha=0.6,color='k',markersize=10)\n",
    "\n",
    "\n",
    "\n",
    "plt.axhline(y=0.5,linestyle='--',color='r',label='chance')\n",
    "\n",
    "\n",
    "for i in range(len(get_list_acc(sup_regular_finetune_acc['val'],list_layers))):\n",
    "    plt.axvline(i,linestyle='--',alpha=0.1,color='k')\n",
    "\n",
    "plt.xticks(np.arange(len(get_list_acc(sup_regular_finetune_acc['val'],list_layers))),list_layers,rotation=90,fontsize=15)\n",
    "plt.yticks(fontsize=15) \n",
    "plt.ylim(0.4,1.01)\n",
    "plt.ylabel('Validation Accuracy',fontsize=15)\n",
    "plt.gca().spines['top'].set_visible(False)\n",
    "plt.gca().spines['right'].set_visible(False)\n",
    "plt.legend()\n",
    "# plt.title('After 100 epochs of training')\n",
    "# plt.savefig('./dev/layer_acc.svg', format='svg', dpi=1200)\n",
    "# plt.savefig('./dev/ccn_figures/poster/finetune_frozen_layer_acc.png', format='png', dpi=600)\n",
    "plt.show()\n",
    "    \n",
    "    "
   ]
  },
  {
   "cell_type": "markdown",
   "id": "fbe8b60e-06b3-49df-86cb-240a83ec4221",
   "metadata": {},
   "source": [
    "### 7c. Accuracy accross architecture/model heirarchary comparing stylized and regular frozen (+ adding random/untrained models too)"
   ]
  },
  {
   "cell_type": "code",
   "execution_count": null,
   "id": "5bbfdcc1-05c8-46a2-9352-e421a7959a6f",
   "metadata": {},
   "outputs": [],
   "source": [
    "list_layers=['features_0',\n",
    " 'features_1',\n",
    " 'features_2',\n",
    " 'features_3',\n",
    " 'features_4',\n",
    " 'features_5',\n",
    " 'features_6',\n",
    " 'features_7',\n",
    " 'features_8',\n",
    " 'features_9',\n",
    " 'features_10',\n",
    " 'features_11',\n",
    " 'features_12',\n",
    " 'avgpool',\n",
    " 'classifier_0',\n",
    " 'classifier_1',\n",
    " 'classifier_2',\n",
    " 'classifier_3',\n",
    " 'classifier_4',\n",
    " 'classifier_5',\n",
    " 'classifier_6']\n",
    "\n",
    "for i in range(len(list_layers)):\n",
    "    list_layers[i]=list_layers[i].replace('_','.')"
   ]
  },
  {
   "cell_type": "code",
   "execution_count": null,
   "id": "e76a5234-aad3-410a-975e-7408b039a738",
   "metadata": {},
   "outputs": [],
   "source": [
    "sup_regular_finetune_files = glob.glob(\"../../dev/new_ccn23/alexnet_regimagenet_categ_finetune_broad/*finetune.pt\")\n",
    "sup_regular_finetune_acc={'train':get_train_val_acc(sup_regular_finetune_files)[0],'val':get_train_val_acc(sup_regular_finetune_files)[1]}"
   ]
  },
  {
   "cell_type": "code",
   "execution_count": null,
   "id": "0c350f77-1c4b-4a76-befb-fc2558271582",
   "metadata": {},
   "outputs": [],
   "source": [
    "stylized_regular_finetune_files =  glob.glob(\"../../dev/new_ccn23/alexnet-styim-categ_finetune_broad/*finetune.pt\")\n",
    "stylized_regular_finetune_acc={'train':get_train_val_acc(stylized_regular_finetune_files)[0],'val':get_train_val_acc(stylized_regular_finetune_files)[1]}"
   ]
  },
  {
   "cell_type": "code",
   "execution_count": null,
   "id": "29dfc559-4b05-4b16-a00e-db55a9814fc4",
   "metadata": {},
   "outputs": [],
   "source": [
    "random_regular_finetune_files =  glob.glob(\"../../dev/new_ccn23/alexnet-random-nodata-notask_finetune_broad/*finetune.pt\")\n",
    "random_regular_finetune_acc={'train':get_train_val_acc(random_regular_finetune_files)[0],'val':get_train_val_acc(random_regular_finetune_files)[1]}"
   ]
  },
  {
   "cell_type": "code",
   "execution_count": null,
   "id": "a6bc537c-4ebd-45a0-a97f-03115ac7a37b",
   "metadata": {},
   "outputs": [],
   "source": []
  },
  {
   "cell_type": "code",
   "execution_count": null,
   "id": "67f80b2d-e349-436a-87ca-b806b4042b21",
   "metadata": {},
   "outputs": [],
   "source": []
  },
  {
   "cell_type": "code",
   "execution_count": null,
   "id": "953280d9-318e-4482-adf4-8e82d0baabf6",
   "metadata": {},
   "outputs": [],
   "source": []
  },
  {
   "cell_type": "code",
   "execution_count": null,
   "id": "b9b7872f-40a4-4828-8914-9f7228c07309",
   "metadata": {},
   "outputs": [],
   "source": [
    "sup_regular_frozen_files =  glob.glob(\"../../dev/new_ccn23/alexnet_regimagenet_categ_frozen_broad/*frozen.pt\")\n",
    "sup_regular_frozen_acc={'train':get_train_val_acc(sup_regular_frozen_files)[0],'val':get_train_val_acc(sup_regular_frozen_files)[1]}"
   ]
  },
  {
   "cell_type": "code",
   "execution_count": null,
   "id": "e3935b83-e74b-436e-af1b-9ad2c411f37a",
   "metadata": {},
   "outputs": [],
   "source": [
    "stylized_regular_frozen_files =  glob.glob(\"../../dev/new_ccn23/alexnet-styim-categ_frozen_broad/*frozen.pt\")\n",
    "stylized_regular_frozen_acc={'train':get_train_val_acc(stylized_regular_frozen_files)[0],'val':get_train_val_acc(stylized_regular_frozen_files)[1]}"
   ]
  },
  {
   "cell_type": "code",
   "execution_count": null,
   "id": "8b92e40b-d62a-4939-843e-df70fb87824c",
   "metadata": {},
   "outputs": [],
   "source": [
    "random_regular_frozen_files =  glob.glob(\"../../dev/new_ccn23/alexnet-random-nodata-notask_frozen_broad/*frozen.pt\")\n",
    "random_regular_frozen_acc={'train':get_train_val_acc(random_regular_frozen_files)[0],'val':get_train_val_acc(random_regular_frozen_files)[1]}"
   ]
  },
  {
   "cell_type": "code",
   "execution_count": null,
   "id": "ff5d409e-61c9-41e6-b4ef-d24af9c2a278",
   "metadata": {},
   "outputs": [],
   "source": []
  },
  {
   "cell_type": "code",
   "execution_count": null,
   "id": "a89ace6e-e593-4222-bafd-63b803906cd6",
   "metadata": {},
   "outputs": [],
   "source": []
  },
  {
   "cell_type": "code",
   "execution_count": null,
   "id": "eeb86ea2-ed71-4a6c-bd5d-28db4b3b05e2",
   "metadata": {},
   "outputs": [],
   "source": []
  },
  {
   "cell_type": "code",
   "execution_count": null,
   "id": "155d7dfe-3c21-4858-be58-68ede5d2e33c",
   "metadata": {},
   "outputs": [],
   "source": []
  },
  {
   "cell_type": "code",
   "execution_count": null,
   "id": "1f74423a-c149-474f-a5d3-a6d1ac82cf4a",
   "metadata": {},
   "outputs": [],
   "source": [
    "plt.figure(figsize=(12,10))\n",
    "\n",
    "\n",
    "plt.plot(np.arange(len(get_list_acc(sup_regular_finetune_acc['val'],list_layers))),get_list_acc(sup_regular_finetune_acc['val'],list_layers),alpha=0.8,linewidth=4,label='or finetune')\n",
    "plt.plot(np.arange(len(get_list_acc(sup_regular_finetune_acc['val'],list_layers))),get_list_acc(sup_regular_finetune_acc['val'],list_layers),'.',color='k',markersize=10)\n",
    "\n",
    "\n",
    "plt.plot(np.arange(len(get_list_acc(sup_regular_frozen_acc['val'],list_layers))),get_list_acc(sup_regular_frozen_acc['val'],list_layers),alpha=0.4,color='orange',linewidth=4,label='or frozen')\n",
    "plt.plot(np.arange(len(get_list_acc(sup_regular_frozen_acc['val'],list_layers))),get_list_acc(sup_regular_frozen_acc['val'],list_layers),'.',alpha=0.6,color='k',markersize=10)\n",
    "\n",
    "\n",
    "plt.plot(np.arange(len(get_list_acc(stylized_regular_frozen_acc['val'],list_layers))),get_list_acc(stylized_regular_frozen_acc['val'],list_layers),alpha=0.4,color='g',linewidth=4,label='stylized frozen')\n",
    "plt.plot(np.arange(len(get_list_acc(stylized_regular_frozen_acc['val'],list_layers))),get_list_acc(stylized_regular_frozen_acc['val'],list_layers),'.',alpha=0.6,color='k',markersize=10)\n",
    "\n",
    "\n",
    "\n",
    "\n",
    "plt.plot(np.arange(len(get_list_acc(random_regular_frozen_acc['val'],list_layers))),get_list_acc(random_regular_frozen_acc['val'],list_layers),alpha=0.4,color='indigo',linewidth=4,label='random frozen')\n",
    "plt.plot(np.arange(len(get_list_acc(random_regular_frozen_acc['val'],list_layers))),get_list_acc(random_regular_frozen_acc['val'],list_layers),'.',alpha=0.6,color='k',markersize=10)\n",
    "\n",
    "\n",
    "\n",
    "\n",
    "# plt.plot(np.arange(len(get_list_acc(random_regular_finetune_acc['val'],list_layers))),get_list_acc(random_regular_finetune_acc['val'],list_layers),alpha=0.4,color='deeppink',linewidth=4,label='random finetune')\n",
    "# plt.plot(np.arange(len(get_list_acc(random_regular_finetune_acc['val'],list_layers))),get_list_acc(random_regular_finetune_acc['val'],list_layers),'.',alpha=0.6,color='k',markersize=10)\n",
    "\n",
    "\n",
    "\n",
    "\n",
    "\n",
    "\n",
    "plt.axhline(y=0.5,linestyle='--',alpha=0.3,color='r',label='chance')\n",
    "\n",
    "\n",
    "for i in range(len(get_list_acc(sup_regular_finetune_acc['val'],list_layers))):\n",
    "    plt.axvline(i,linestyle='--',alpha=0.1,color='k')\n",
    "\n",
    "plt.xticks(np.arange(len(get_list_acc(sup_regular_finetune_acc['val'],list_layers))),list_layers,rotation=90,fontsize=15)\n",
    "plt.yticks(fontsize=15) \n",
    "plt.ylim(0.4,1.01)\n",
    "plt.ylabel('Validation Accuracy',fontsize=15)\n",
    "plt.gca().spines['top'].set_visible(False)\n",
    "plt.gca().spines['right'].set_visible(False)\n",
    "plt.legend()\n",
    "# plt.title('After 100 epochs of training')\n",
    "# plt.savefig('./dev/layer_acc.svg', format='svg', dpi=1200)\n",
    "plt.savefig('./dev/manuscript_figures/selected_broad_models.png', format='png', dpi=600)\n",
    "plt.show()\n",
    "    \n",
    "    "
   ]
  },
  {
   "cell_type": "code",
   "execution_count": null,
   "id": "ccc72cce-48cb-43dc-8bfb-86d96651735e",
   "metadata": {},
   "outputs": [],
   "source": [
    "plt.figure(figsize=(12,10))\n",
    "\n",
    "\n",
    "plt.plot(np.arange(len(get_list_acc(sup_regular_finetune_acc['val'],list_layers))),get_list_acc(sup_regular_finetune_acc['val'],list_layers),alpha=0.8,color='orange',linewidth=4,label='or finetune')\n",
    "plt.plot(np.arange(len(get_list_acc(sup_regular_finetune_acc['val'],list_layers))),get_list_acc(sup_regular_finetune_acc['val'],list_layers),'.',color='k',markersize=10)\n",
    "\n",
    "\n",
    "plt.plot(np.arange(len(get_list_acc(stylized_regular_finetune_acc['val'],list_layers))),get_list_acc(stylized_regular_finetune_acc['val'],list_layers),alpha=0.8,color='g',linewidth=4,label='stylized finetune')\n",
    "plt.plot(np.arange(len(get_list_acc(stylized_regular_finetune_acc['val'],list_layers))),get_list_acc(stylized_regular_finetune_acc['val'],list_layers),'.',color='k',markersize=10)\n",
    "\n",
    "\n",
    "\n",
    "plt.plot(np.arange(len(get_list_acc(random_regular_finetune_acc['val'],list_layers))),get_list_acc(random_regular_finetune_acc['val'],list_layers),alpha=0.8,color='indigo',linewidth=4,label='random finetune')\n",
    "plt.plot(np.arange(len(get_list_acc(random_regular_finetune_acc['val'],list_layers))),get_list_acc(random_regular_finetune_acc['val'],list_layers),'.',color='k',markersize=10)\n",
    "\n",
    "\n",
    "\n",
    "\n",
    "\n",
    "\n",
    "\n",
    "\n",
    "plt.plot(np.arange(len(get_list_acc(sup_regular_frozen_acc['val'],list_layers))),get_list_acc(sup_regular_frozen_acc['val'],list_layers),':',alpha=0.7,color='orange',linewidth=3,label='or frozen')\n",
    "plt.plot(np.arange(len(get_list_acc(sup_regular_frozen_acc['val'],list_layers))),get_list_acc(sup_regular_frozen_acc['val'],list_layers),'.',color='k',markersize=10)\n",
    "\n",
    "\n",
    "plt.plot(np.arange(len(get_list_acc(stylized_regular_frozen_acc['val'],list_layers))),get_list_acc(stylized_regular_frozen_acc['val'],list_layers),':',alpha=0.7,color='g',linewidth=3,label='stylized frozen')\n",
    "plt.plot(np.arange(len(get_list_acc(stylized_regular_frozen_acc['val'],list_layers))),get_list_acc(stylized_regular_frozen_acc['val'],list_layers),'.',color='k',markersize=10)\n",
    "\n",
    "\n",
    "\n",
    "\n",
    "plt.plot(np.arange(len(get_list_acc(random_regular_frozen_acc['val'],list_layers))),get_list_acc(random_regular_frozen_acc['val'],list_layers),':',alpha=0.7,color='indigo',linewidth=3,label='random frozen')\n",
    "plt.plot(np.arange(len(get_list_acc(random_regular_frozen_acc['val'],list_layers))),get_list_acc(random_regular_frozen_acc['val'],list_layers),'.',color='k',markersize=10)\n",
    "\n",
    "\n",
    "\n",
    "\n",
    "\n",
    "\n",
    "\n",
    "\n",
    "\n",
    "\n",
    "\n",
    "plt.axhline(y=0.5,linestyle='--',alpha=0.3,color='r',label='chance')\n",
    "\n",
    "\n",
    "for i in range(len(get_list_acc(sup_regular_finetune_acc['val'],list_layers))):\n",
    "    plt.axvline(i,linestyle='--',alpha=0.1,color='k')\n",
    "\n",
    "plt.xticks(np.arange(len(get_list_acc(sup_regular_finetune_acc['val'],list_layers))),list_layers,rotation=90,fontsize=15)\n",
    "plt.yticks(fontsize=15) \n",
    "plt.ylim(0.4,1.01)\n",
    "plt.ylabel('Validation Accuracy',fontsize=15)\n",
    "plt.gca().spines['top'].set_visible(False)\n",
    "plt.gca().spines['right'].set_visible(False)\n",
    "plt.legend()\n",
    "# plt.title('After 100 epochs of training')\n",
    "# plt.savefig('./dev/layer_acc.svg', format='svg', dpi=1200)\n",
    "plt.savefig('./dev/manuscript_figures/all_broad_models.png', format='png', dpi=600)\n",
    "plt.show()\n",
    "    \n",
    "    "
   ]
  },
  {
   "cell_type": "code",
   "execution_count": null,
   "id": "4516d81f-423a-4fda-b2fb-ed515ce48da4",
   "metadata": {},
   "outputs": [],
   "source": []
  },
  {
   "cell_type": "code",
   "execution_count": null,
   "id": "9ec73b52-7478-4950-8f87-90312c34ce29",
   "metadata": {},
   "outputs": [],
   "source": []
  },
  {
   "cell_type": "markdown",
   "id": "2fbac7f6-63b2-401e-9f66-270f84cc794a",
   "metadata": {},
   "source": [
    "# 8: Accuracy accross architecture/model heirarchary comparing stylized and regular frozen (+ adding random/untrained models too) - Getting confidence interval bars - Pub\n",
    "* Computing the accuracy again usiing the images"
   ]
  },
  {
   "cell_type": "markdown",
   "id": "90ef5214-e9bb-4cc5-bf06-27efb8d8ea35",
   "metadata": {},
   "source": [
    "### Functions"
   ]
  },
  {
   "cell_type": "code",
   "execution_count": null,
   "id": "094e7202-a4bd-46c1-ae26-12a4f5bee071",
   "metadata": {},
   "outputs": [],
   "source": [
    "def get_prediction(model_file_paths):\n",
    "    model_valacc_scores={}\n",
    "    for file in tqdm(model_file_paths):\n",
    "\n",
    "        # Model\n",
    "        checkpoint=torch.load(file)\n",
    "        # loaded_spliced_model=SpliceModel(checkpoint['training_config']['base_model_name'],checkpoint['training_config']['layer_name'],fine_tune=checkpoint['training_config']['fine_tune'],device='cpu')\n",
    "        loaded_spliced_model=SpliceModel(checkpoint['training_config']['base_model_name'],checkpoint['training_config']['layer_name'],fine_tune=checkpoint['training_config']['fine_tune'],device=device)\n",
    "        loaded_spliced_model.load_state_dict(checkpoint['model_state_dict'],strict=False)\n",
    "        \n",
    "        change_train_eval_mode(loaded_spliced_model,loaded_spliced_model.fine_tune,train_eval_mode='eval')\n",
    "\n",
    "\n",
    "\n",
    "\n",
    "        model_valacc_scores[checkpoint['training_config']['layer_name']]=np.array([])\n",
    "        for (inputs, b, d, alpha, nel, labels, record) in tqdm(val_loader_norm,disable=True):\n",
    "            inputs = inputs.to(device)\n",
    "            labels = labels.to(device)\n",
    "\n",
    "            outputs= loaded_spliced_model.forward(inputs)\n",
    "            _, preds = torch.max(outputs, 1)\n",
    "\n",
    "            model_valacc_scores[checkpoint['training_config']['layer_name']]=np.concatenate((model_valacc_scores[checkpoint['training_config']['layer_name']],(preds == labels).float().cpu().numpy()))\n",
    "    \n",
    "    \n",
    "    return model_valacc_scores"
   ]
  },
  {
   "cell_type": "code",
   "execution_count": null,
   "id": "b2e54fc9-c350-417d-a03b-bb026a5ac7ec",
   "metadata": {},
   "outputs": [],
   "source": [
    "def get_list_acc_mean_std_ci(sal_dict,list_layers):\n",
    "    mean_sal=[]\n",
    "    std_sal=[]\n",
    "    confint_sal=[]\n",
    "    \n",
    "    \n",
    "    confint_lower=[]\n",
    "    confint_upper=[]\n",
    "    \n",
    "    for i in range(len(list_layers)):\n",
    "        # layer=list_layers[i].replace('_','.')\n",
    "        layer=list_layers[i]\n",
    "        if layer in sal_dict.keys():\n",
    "            mean_sal.append(np.mean(sal_dict[layer]))\n",
    "            \n",
    "            std_sal.append(np.std(sal_dict[layer],ddof=1))\n",
    "            \n",
    "            confint_sal.append(1.96*(np.std(sal_dict[layer],ddof=1) / np.sqrt(len(sal_dict[layer]))))\n",
    "            \n",
    "            confint_lower.append(np.percentile(sal_dict[layer], 2.5))\n",
    "            confint_upper.append(np.percentile(sal_dict[layer], 97.5))\n",
    "            \n",
    "    return mean_sal,std_sal,confint_sal,confint_lower,confint_upper\n"
   ]
  },
  {
   "cell_type": "code",
   "execution_count": null,
   "id": "333e88ce-1575-438f-94d4-61c3e9114a89",
   "metadata": {},
   "outputs": [],
   "source": []
  },
  {
   "cell_type": "markdown",
   "id": "42c240ec-bc2e-4a7b-982b-eac408899539",
   "metadata": {},
   "source": [
    "### Hyperparameters and validation dataset extraction"
   ]
  },
  {
   "cell_type": "code",
   "execution_count": null,
   "id": "cc1b0481-3fa2-442c-9706-f592df5614b4",
   "metadata": {},
   "outputs": [],
   "source": [
    "visual_diet_config={'root_directory':os.path.expanduser('/home/jovyan/work/Datasets/contour_integration/model-training/config_0/'),'get_B':[0,15,30,45,60,75],'get_D':[32],'get_A':[0],'get_numElements':[12]}\n",
    "\n"
   ]
  },
  {
   "cell_type": "code",
   "execution_count": null,
   "id": "c9f66df9-267b-4e4c-9f1f-db595a2e2033",
   "metadata": {},
   "outputs": [],
   "source": [
    "root_directory=visual_diet_config['root_directory']\n",
    "get_B=visual_diet_config['get_B']\n",
    "get_D=visual_diet_config['get_D']\n",
    "get_A=visual_diet_config['get_A']\n",
    "get_numElements=visual_diet_config['get_numElements']"
   ]
  },
  {
   "cell_type": "code",
   "execution_count": null,
   "id": "6cdaeceb-72f8-496e-a215-56a8da3e9410",
   "metadata": {},
   "outputs": [],
   "source": [
    "img_dim=512"
   ]
  },
  {
   "cell_type": "code",
   "execution_count": null,
   "id": "c0c17e41-2c10-4278-897c-f5873d558532",
   "metadata": {},
   "outputs": [],
   "source": [
    "batch_size=32\n",
    "num_workers=8\n",
    "device = torch.device('cuda:'+'3')\n",
    "# device = 'cpu'\n",
    "device"
   ]
  },
  {
   "cell_type": "code",
   "execution_count": null,
   "id": "5196b2a9-794b-4881-99b1-c11927f4ac63",
   "metadata": {},
   "outputs": [],
   "source": [
    "# normalize images using parameters from the training image set\n",
    "data_transform = transforms.Compose([       \n",
    " transforms.Resize(img_dim),                   \n",
    " transforms.CenterCrop((img_dim,img_dim)),         \n",
    " transforms.ToTensor(),                    \n",
    " transforms.Normalize(                      \n",
    " mean=[0.485, 0.456, 0.406],                \n",
    " std=[0.229, 0.224, 0.225]                  \n",
    " )])\n",
    "\n",
    "data_transform_without_norm = transforms.Compose([       \n",
    " transforms.Resize(img_dim),                   \n",
    " transforms.CenterCrop((img_dim,img_dim)),         \n",
    " transforms.ToTensor()                    \n",
    " ])"
   ]
  },
  {
   "cell_type": "code",
   "execution_count": null,
   "id": "d910cb79-b5f4-42f5-80e4-31623547bf9c",
   "metadata": {},
   "outputs": [],
   "source": [
    "val_dataset_norm = Contour_Dataset(root=root_directory,transform=data_transform,train=False,get_B=get_B,get_D=get_D,get_A=get_A,get_numElements=get_numElements)\n",
    "val_loader_norm = torch.utils.data.DataLoader(dataset=val_dataset_norm, batch_size=batch_size, num_workers=num_workers, shuffle=False)\n"
   ]
  },
  {
   "cell_type": "markdown",
   "id": "2a3b84c3-12ae-4afa-b935-11dfe809e090",
   "metadata": {},
   "source": [
    "### Collecting all the accuracy data"
   ]
  },
  {
   "cell_type": "code",
   "execution_count": null,
   "id": "d035f598-660e-4a82-8f90-b80a0ac328e5",
   "metadata": {},
   "outputs": [],
   "source": [
    "sup_regular_finetune_files = glob.glob(\"../../dev/new_ccn23/alexnet_regimagenet_categ_finetune_broad/*finetune.pt\")\n",
    "sup_regular_finetune_acc={'train':get_train_val_acc(sup_regular_finetune_files)[0],'val':get_train_val_acc(sup_regular_finetune_files)[1]}\n",
    "sup_regular_finetune_predictions=get_prediction(sup_regular_finetune_files)"
   ]
  },
  {
   "cell_type": "code",
   "execution_count": null,
   "id": "cd6d8c93-41d9-41ad-bf50-867dd8fa721d",
   "metadata": {},
   "outputs": [],
   "source": [
    "# stylized_regular_finetune_files =  glob.glob(\"../../dev/new_ccn23/alexnet-styim-categ_finetune_broad/*finetune.pt\")\n",
    "# stylized_regular_finetune_acc={'train':get_train_val_acc(stylized_regular_finetune_files)[0],'val':get_train_val_acc(stylized_regular_finetune_files)[1]}\n",
    "# stylized_regular_finetune_predictions=get_prediction(stylized_regular_finetune_files)"
   ]
  },
  {
   "cell_type": "code",
   "execution_count": null,
   "id": "eb340826-4407-427d-b0fb-7f056b7afc58",
   "metadata": {},
   "outputs": [],
   "source": [
    "# random_regular_finetune_files =  glob.glob(\"../../dev/new_ccn23/alexnet-random-nodata-notask_finetune_broad/*finetune.pt\")\n",
    "# random_regular_finetune_acc={'train':get_train_val_acc(random_regular_finetune_files)[0],'val':get_train_val_acc(random_regular_finetune_files)[1]}\n",
    "# random_regular_finetune_predictions=get_prediction(random_regular_finetune_files)"
   ]
  },
  {
   "cell_type": "code",
   "execution_count": null,
   "id": "36f68ceb-3066-419f-ada3-ea9a36982f0e",
   "metadata": {},
   "outputs": [],
   "source": [
    "sup_regular_frozen_files =  glob.glob(\"../../dev/new_ccn23/alexnet_regimagenet_categ_frozen_broad/*frozen.pt\")\n",
    "sup_regular_frozen_acc={'train':get_train_val_acc(sup_regular_frozen_files)[0],'val':get_train_val_acc(sup_regular_frozen_files)[1]}\n",
    "sup_regular_frozen_predictions=get_prediction(sup_regular_frozen_files)\n",
    "\n"
   ]
  },
  {
   "cell_type": "code",
   "execution_count": null,
   "id": "8d75712f-d35a-4c7b-98b7-bbaa8f09c86e",
   "metadata": {},
   "outputs": [],
   "source": [
    "stylized_regular_frozen_files =  glob.glob(\"../../dev/new_ccn23/alexnet-styim-categ_frozen_broad/*frozen.pt\")\n",
    "stylized_regular_frozen_acc={'train':get_train_val_acc(stylized_regular_frozen_files)[0],'val':get_train_val_acc(stylized_regular_frozen_files)[1]}\n",
    "stylized_regular_frozen_predictions=get_prediction(stylized_regular_frozen_files)\n",
    "\n"
   ]
  },
  {
   "cell_type": "code",
   "execution_count": null,
   "id": "0317b27f-b582-4138-8570-35a9f87ba283",
   "metadata": {},
   "outputs": [],
   "source": [
    "random_regular_frozen_files =  glob.glob(\"../../dev/new_ccn23/alexnet-random-nodata-notask_frozen_broad/*frozen.pt\")\n",
    "random_regular_frozen_acc={'train':get_train_val_acc(random_regular_frozen_files)[0],'val':get_train_val_acc(random_regular_frozen_files)[1]}\n",
    "random_regular_frozen_predictions=get_prediction(random_regular_frozen_files)\n",
    "\n"
   ]
  },
  {
   "cell_type": "markdown",
   "id": "e6f0b139-e74b-44a5-9004-a97883b46f20",
   "metadata": {},
   "source": [
    "### Plotting all the accuracy data"
   ]
  },
  {
   "cell_type": "code",
   "execution_count": null,
   "id": "fcc4c483-1f14-4e09-bb99-84b9cd95e45f",
   "metadata": {},
   "outputs": [],
   "source": [
    "list_layers=['features_0',\n",
    " 'features_1',\n",
    " 'features_2',\n",
    " 'features_3',\n",
    " 'features_4',\n",
    " 'features_5',\n",
    " 'features_6',\n",
    " 'features_7',\n",
    " 'features_8',\n",
    " 'features_9',\n",
    " 'features_10',\n",
    " 'features_11',\n",
    " 'features_12',\n",
    " 'avgpool',\n",
    " 'classifier_0',\n",
    " 'classifier_1',\n",
    " 'classifier_2',\n",
    " 'classifier_3',\n",
    " 'classifier_4',\n",
    " 'classifier_5',\n",
    " 'classifier_6']\n",
    "\n",
    "for i in range(len(list_layers)):\n",
    "    list_layers[i]=list_layers[i].replace('_','.')"
   ]
  },
  {
   "cell_type": "markdown",
   "id": "e05067cb-1223-4c6e-b605-2d92b55fa3ed",
   "metadata": {},
   "source": [
    "### Plots"
   ]
  },
  {
   "cell_type": "code",
   "execution_count": null,
   "id": "19053e4f-62f2-46ec-a4a8-d0784afd5dd2",
   "metadata": {},
   "outputs": [],
   "source": [
    "plt.figure(figsize=(12,10))\n",
    "\n",
    "\n",
    "plt.plot(np.arange(len(get_list_acc(sup_regular_finetune_acc['val'],list_layers))),get_list_acc(sup_regular_finetune_acc['val'],list_layers),alpha=0.8,linewidth=4,label='or finetune')\n",
    "plt.plot(np.arange(len(get_list_acc(sup_regular_finetune_acc['val'],list_layers))),get_list_acc(sup_regular_finetune_acc['val'],list_layers),'.',color='k',markersize=10)\n",
    "\n",
    "\n",
    "plt.plot(np.arange(len(get_list_acc(sup_regular_frozen_acc['val'],list_layers))),get_list_acc(sup_regular_frozen_acc['val'],list_layers),alpha=0.4,color='orange',linewidth=4,label='or frozen')\n",
    "plt.plot(np.arange(len(get_list_acc(sup_regular_frozen_acc['val'],list_layers))),get_list_acc(sup_regular_frozen_acc['val'],list_layers),'.',alpha=0.6,color='k',markersize=10)\n",
    "\n",
    "\n",
    "plt.plot(np.arange(len(get_list_acc(stylized_regular_frozen_acc['val'],list_layers))),get_list_acc(stylized_regular_frozen_acc['val'],list_layers),alpha=0.4,color='g',linewidth=4,label='stylized frozen')\n",
    "plt.plot(np.arange(len(get_list_acc(stylized_regular_frozen_acc['val'],list_layers))),get_list_acc(stylized_regular_frozen_acc['val'],list_layers),'.',alpha=0.6,color='k',markersize=10)\n",
    "\n",
    "\n",
    "plt.plot(np.arange(len(get_list_acc(random_regular_frozen_acc['val'],list_layers))),get_list_acc(random_regular_frozen_acc['val'],list_layers),alpha=0.4,color='indigo',linewidth=4,label='random frozen')\n",
    "plt.plot(np.arange(len(get_list_acc(random_regular_frozen_acc['val'],list_layers))),get_list_acc(random_regular_frozen_acc['val'],list_layers),'.',alpha=0.6,color='k',markersize=10)\n",
    "\n",
    "\n",
    "plt.axhline(y=0.5,linestyle='--',alpha=0.3,color='r',label='chance')\n",
    "\n",
    "\n",
    "for i in range(len(get_list_acc(sup_regular_finetune_acc['val'],list_layers))):\n",
    "    plt.axvline(i,linestyle='--',alpha=0.1,color='k')\n",
    "\n",
    "plt.xticks(np.arange(len(get_list_acc(sup_regular_finetune_acc['val'],list_layers))),list_layers,rotation=90,fontsize=15)\n",
    "plt.yticks(fontsize=15) \n",
    "plt.ylim(0.4,1.01)\n",
    "plt.ylabel('Validation Accuracy',fontsize=15)\n",
    "plt.gca().spines['top'].set_visible(False)\n",
    "plt.gca().spines['right'].set_visible(False)\n",
    "plt.legend()\n",
    "plt.show()\n",
    "    \n",
    "    "
   ]
  },
  {
   "cell_type": "code",
   "execution_count": null,
   "id": "7f460375-e9c6-48c7-955d-520fe8ec58f1",
   "metadata": {},
   "outputs": [],
   "source": [
    "plt.figure(figsize=(12,10))\n",
    "\n",
    "\n",
    "mean_sal,std_sal,confint_sal,confint_lower,confint_upper=get_list_acc_mean_std_ci(sup_regular_finetune_predictions,list_layers)\n",
    "plt.plot(np.arange(len(mean_sal)),mean_sal,alpha=0.8,linewidth=4)\n",
    "plt.plot(np.arange(len(mean_sal)),mean_sal,'.',color='k',markersize=10,label='or finetune')\n",
    "plt.fill_between(np.arange(len(mean_sal)), np.array(mean_sal) -  np.array(confint_sal),  np.array(mean_sal) +  np.array(confint_sal), color='C0', alpha=0.2)\n",
    "\n",
    "\n",
    "mean_sal,std_sal,confint_sal,confint_lower,confint_upper=get_list_acc_mean_std_ci(sup_regular_frozen_predictions,list_layers)\n",
    "plt.plot(np.arange(len(mean_sal)),mean_sal,alpha=0.8,color='orange',linewidth=4)\n",
    "plt.plot(np.arange(len(mean_sal)),mean_sal,'.',color='k',markersize=10,label='or frozen')\n",
    "plt.fill_between(np.arange(len(mean_sal)), np.array(mean_sal) -  np.array(confint_sal),  np.array(mean_sal) +  np.array(confint_sal), color='orange', alpha=0.2)\n",
    "\n",
    "\n",
    "\n",
    "mean_sal,std_sal,confint_sal,confint_lower,confint_upper=get_list_acc_mean_std_ci(stylized_regular_frozen_predictions,list_layers)\n",
    "plt.plot(np.arange(len(mean_sal)),mean_sal,alpha=0.8,color='g',linewidth=4)\n",
    "plt.plot(np.arange(len(mean_sal)),mean_sal,'.',color='k',markersize=10,label='stylized frozen')\n",
    "plt.fill_between(np.arange(len(mean_sal)), np.array(mean_sal) -  np.array(confint_sal),  np.array(mean_sal) +  np.array(confint_sal), color='g', alpha=0.2)\n",
    "\n",
    "\n",
    "\n",
    "mean_sal,std_sal,confint_sal,confint_lower,confint_upper=get_list_acc_mean_std_ci(random_regular_frozen_predictions,list_layers)\n",
    "plt.plot(np.arange(len(mean_sal)),mean_sal,alpha=0.8,color='indigo',linewidth=4)\n",
    "plt.plot(np.arange(len(mean_sal)),mean_sal,'.',color='k',markersize=10,label='random frozen')\n",
    "plt.fill_between(np.arange(len(mean_sal)), np.array(mean_sal) -  np.array(confint_sal),  np.array(mean_sal) +  np.array(confint_sal), color='indigo', alpha=0.2)\n",
    "\n",
    "\n",
    "\n",
    "plt.axhline(y=0.5,linestyle='--',alpha=0.3,color='r',label='chance')\n",
    "\n",
    "\n",
    "for i in range(len(get_list_acc(sup_regular_finetune_acc['val'],list_layers))):\n",
    "    plt.axvline(i,linestyle='--',alpha=0.1,color='k')\n",
    "\n",
    "plt.xticks(np.arange(len(get_list_acc(sup_regular_finetune_acc['val'],list_layers))),list_layers,rotation=90,fontsize=15)\n",
    "plt.yticks(fontsize=15) \n",
    "plt.ylim(0.4,1.01)\n",
    "plt.ylabel('Validation Accuracy',fontsize=15)\n",
    "plt.gca().spines['top'].set_visible(False)\n",
    "plt.gca().spines['right'].set_visible(False)\n",
    "plt.legend()\n",
    "plt.savefig('./dev/manuscript_figures/selected_broad_models_ci.png', format='png', dpi=600)\n",
    "plt.show()\n",
    "    \n",
    "    "
   ]
  },
  {
   "cell_type": "code",
   "execution_count": null,
   "id": "9879f3ae-d9d3-4e52-8d23-6eb9fc607753",
   "metadata": {},
   "outputs": [],
   "source": [
    "plt.figure(figsize=(14,10))\n",
    "\n",
    "\n",
    "spacing_x=2\n",
    "jitter_stylized=0.4\n",
    "\n",
    "color_or_finetune=(78/255,121/255,180/255)\n",
    "color_or_frozen=(209/255,111/255,28/255)\n",
    "color_stylized_frozen=(231/255,168/255,34/255)\n",
    "\n",
    "error_bar_width=3\n",
    "error_bar_cap=4\n",
    "\n",
    "\n",
    "\n",
    "mean_sal,std_sal,confint_sal,confint_lower,confint_upper=get_list_acc_mean_std_ci(sup_regular_finetune_predictions,list_layers)\n",
    "plt.errorbar(np.arange(len(mean_sal)) * spacing_x, mean_sal, \n",
    "             yerr=confint_sal, \n",
    "             capsize=error_bar_cap,elinewidth=error_bar_width,fmt='o', marker='o', color=color_or_finetune, markersize=10, \n",
    "             label='or finetune', alpha=0.8)\n",
    "\n",
    "\n",
    "\n",
    "\n",
    "mean_sal,std_sal,confint_sal,confint_lower,confint_upper=get_list_acc_mean_std_ci(sup_regular_frozen_predictions,list_layers)\n",
    "plt.errorbar(np.arange(len(mean_sal)) * spacing_x, mean_sal, \n",
    "             yerr=confint_sal, \n",
    "             capsize=error_bar_cap,elinewidth=error_bar_width,fmt='s', marker='s', color=color_or_frozen, markersize=10, \n",
    "             label='or frozen', alpha=0.8)\n",
    "\n",
    "\n",
    "\n",
    "mean_sal,std_sal,confint_sal,confint_lower,confint_upper=get_list_acc_mean_std_ci(stylized_regular_frozen_predictions,list_layers)\n",
    "plt.errorbar((np.arange(len(mean_sal)) * spacing_x) + jitter_stylized, mean_sal, \n",
    "             yerr=confint_sal, \n",
    "             capsize=error_bar_cap,elinewidth=error_bar_width,fmt='^', marker='^', color=color_stylized_frozen, markersize=10, \n",
    "             label='stylized frozen', alpha=0.8)\n",
    "\n",
    "\n",
    "\n",
    "mean_sal,std_sal,confint_sal,confint_lower,confint_upper=get_list_acc_mean_std_ci(random_regular_frozen_predictions,list_layers)\n",
    "plt.errorbar(np.arange(len(mean_sal)) * spacing_x, mean_sal, \n",
    "             yerr=confint_sal, \n",
    "             capsize=error_bar_cap,elinewidth=error_bar_width,fmt='d', marker='d', color='gray', markersize=15, \n",
    "             label='random frozen', alpha=0.8)\n",
    "\n",
    "\n",
    "\n",
    "plt.axhline(y=0.5,linestyle='--',alpha=0.3,color='r',label='chance')\n",
    "\n",
    "\n",
    "# for i in range(len(get_list_acc(sup_regular_finetune_acc['val'],list_layers))):\n",
    "#     plt.axvline(i*2,linestyle='--',alpha=0.1,color='k')\n",
    "\n",
    "plt.xticks(np.arange(len(get_list_acc(sup_regular_finetune_acc['val'],list_layers))) * spacing_x,list_layers,rotation=90,fontsize=15)\n",
    "plt.yticks(fontsize=15) \n",
    "plt.ylim(0.4,1.01)\n",
    "plt.ylabel('Validation Accuracy',fontsize=15)\n",
    "plt.gca().spines['top'].set_visible(False)\n",
    "plt.gca().spines['right'].set_visible(False)\n",
    "plt.legend()\n",
    "plt.savefig('./dev/manuscript_figures/selected_broad_models_ci.png', format='png', dpi=600)\n",
    "plt.show()\n",
    "    \n",
    "    "
   ]
  },
  {
   "cell_type": "markdown",
   "id": "626ba548-7f60-47ee-a30c-dac0ad53ee5d",
   "metadata": {},
   "source": [
    "#### **Pub**"
   ]
  },
  {
   "cell_type": "code",
   "execution_count": null,
   "id": "bc3a52fb-ee55-4c9a-9f4c-c487ef811d2d",
   "metadata": {},
   "outputs": [],
   "source": [
    "plt.figure(figsize=(14,10))\n",
    "\n",
    "\n",
    "spacing_x=2\n",
    "jitter_stylized=0.4\n",
    "\n",
    "color_or_finetune=(78/255,121/255,180/255)\n",
    "color_or_frozen=(209/255,111/255,28/255)\n",
    "color_stylized_frozen=(231/255,168/255,34/255)\n",
    "\n",
    "error_bar_width=3\n",
    "error_bar_cap=4\n",
    "\n",
    "\n",
    "\n",
    "mean_sal,std_sal,confint_sal,confint_lower,confint_upper=get_list_acc_mean_std_ci(sup_regular_finetune_predictions,list_layers)\n",
    "plt.errorbar(np.arange(len(mean_sal)) * spacing_x, mean_sal, \n",
    "             yerr=confint_sal, \n",
    "             capsize=error_bar_cap,elinewidth=error_bar_width,fmt='o', marker='o', color=color_or_finetune, markersize=10, \n",
    "             label='or finetune', alpha=0.8)\n",
    "\n",
    "\n",
    "\n",
    "\n",
    "mean_sal,std_sal,confint_sal,confint_lower,confint_upper=get_list_acc_mean_std_ci(sup_regular_frozen_predictions,list_layers)\n",
    "plt.errorbar(np.arange(len(mean_sal)) * spacing_x, mean_sal, \n",
    "             yerr=confint_sal, \n",
    "             capsize=error_bar_cap,elinewidth=error_bar_width,fmt='s', marker='o', color=color_or_frozen, markersize=10, \n",
    "             label='or frozen', alpha=0.8)\n",
    "\n",
    "\n",
    "\n",
    "mean_sal,std_sal,confint_sal,confint_lower,confint_upper=get_list_acc_mean_std_ci(random_regular_frozen_predictions,list_layers)\n",
    "plt.errorbar(np.arange(len(mean_sal)) * spacing_x, mean_sal, \n",
    "             yerr=confint_sal, \n",
    "             capsize=error_bar_cap,elinewidth=error_bar_width,fmt='d', marker='o', color='gray', markersize=10, \n",
    "             label='random frozen', alpha=0.8)\n",
    "\n",
    "\n",
    "\n",
    "plt.axhline(y=0.5,linestyle='--',alpha=0.3,color='r',label='chance')\n",
    "\n",
    "\n",
    "# for i in range(len(get_list_acc(sup_regular_finetune_acc['val'],list_layers))):\n",
    "#     plt.axvline(i*2,linestyle='--',alpha=0.1,color='k')\n",
    "\n",
    "plt.xticks(np.arange(len(get_list_acc(sup_regular_finetune_acc['val'],list_layers))) * spacing_x,list_layers,rotation=90,fontsize=15)\n",
    "plt.yticks(fontsize=15) \n",
    "plt.ylim(0.4,1.01)\n",
    "plt.ylabel('Validation Accuracy',fontsize=15)\n",
    "plt.gca().spines['top'].set_visible(False)\n",
    "plt.gca().spines['right'].set_visible(False)\n",
    "plt.legend()\n",
    "plt.savefig('./dev/manuscript_figures/f2_frozen_finetuning_comparison.png', format='png', dpi=600)\n",
    "plt.show()\n",
    "    \n",
    "    "
   ]
  },
  {
   "cell_type": "markdown",
   "id": "dbc9ccb2-628e-412b-834a-de6b02f4f9b1",
   "metadata": {},
   "source": [
    "# 9: Accuracy afor all images for selected models (not heiirarchy but any) - Pub\n",
    "* Computing the accuracy again usiing the images"
   ]
  },
  {
   "cell_type": "markdown",
   "id": "bbf2143c-03ce-4a39-9874-867c47920c09",
   "metadata": {},
   "source": [
    "### Functions"
   ]
  },
  {
   "cell_type": "code",
   "execution_count": 15,
   "id": "26ccd47a-bae9-4d4e-b9ef-0dea3da00527",
   "metadata": {},
   "outputs": [],
   "source": [
    "def get_prediction(model_file_paths):\n",
    "    model_valacc_scores={}\n",
    "    for file in tqdm(model_file_paths):\n",
    "\n",
    "        # Model\n",
    "        checkpoint=torch.load(file)\n",
    "        # loaded_spliced_model=SpliceModel(checkpoint['training_config']['base_model_name'],checkpoint['training_config']['layer_name'],fine_tune=checkpoint['training_config']['fine_tune'],device='cpu')\n",
    "        loaded_spliced_model=SpliceModel(checkpoint['training_config']['base_model_name'],checkpoint['training_config']['layer_name'],fine_tune=checkpoint['training_config']['fine_tune'],device=device)\n",
    "        loaded_spliced_model.load_state_dict(checkpoint['model_state_dict'],strict=False)\n",
    "        \n",
    "        change_train_eval_mode(loaded_spliced_model,loaded_spliced_model.fine_tune,train_eval_mode='eval')\n",
    "\n",
    "\n",
    "\n",
    "\n",
    "        model_valacc_scores[file.split('/')[-1]]=np.array([])\n",
    "        for (inputs, b, d, alpha, nel, labels, record) in tqdm(val_loader_norm,disable=True):\n",
    "            inputs = inputs.to(device)\n",
    "            labels = labels.to(device)\n",
    "\n",
    "            outputs= loaded_spliced_model.forward(inputs)\n",
    "            _, preds = torch.max(outputs, 1)\n",
    "\n",
    "            model_valacc_scores[file.split('/')[-1]]=np.concatenate((model_valacc_scores[file.split('/')[-1]],(preds == labels).float().cpu().numpy()))\n",
    "    \n",
    "    \n",
    "    return model_valacc_scores"
   ]
  },
  {
   "cell_type": "code",
   "execution_count": 16,
   "id": "d0d652c0-54c7-43de-8418-bd420553af54",
   "metadata": {},
   "outputs": [],
   "source": [
    "def get_list_acc_mean_std_ci(sal_dict):\n",
    "    mean_sal=[]\n",
    "    std_sal=[]\n",
    "    confint_sal=[]\n",
    "    \n",
    "    \n",
    "    confint_lower=[]\n",
    "    confint_upper=[]\n",
    "    \n",
    "    list_keys=[]\n",
    "    \n",
    "    for key in sal_dict.keys():\n",
    "        \n",
    "        \n",
    "        mean_sal.append(np.mean(sal_dict[key]))\n",
    "\n",
    "        std_sal.append(np.std(sal_dict[key],ddof=1))\n",
    "\n",
    "        confint_sal.append(1.96*(np.std(sal_dict[key],ddof=1) / np.sqrt(len(sal_dict[key]))))\n",
    "\n",
    "        confint_lower.append(np.percentile(sal_dict[key], 2.5))\n",
    "        confint_upper.append(np.percentile(sal_dict[key], 97.5))\n",
    "        \n",
    "        list_keys.append(key)\n",
    "            \n",
    "    return mean_sal,std_sal,confint_sal,confint_lower,confint_upper, list_keys\n"
   ]
  },
  {
   "cell_type": "markdown",
   "id": "8710c7d0-2db8-4ced-9454-5ee9f998e17f",
   "metadata": {},
   "source": [
    "### Hyperparameters and validation dataset extraction"
   ]
  },
  {
   "cell_type": "code",
   "execution_count": 17,
   "id": "03b59c5d-3b62-4df2-893a-c595b0e786a6",
   "metadata": {},
   "outputs": [],
   "source": [
    "visual_diet_config={'root_directory':os.path.expanduser('/home/jovyan/work/Datasets/contour_integration/model-training/config_0/'),'get_B':[0,15,30,45,60,75],'get_D':[32],'get_A':[0],'get_numElements':[12]}\n",
    "\n"
   ]
  },
  {
   "cell_type": "code",
   "execution_count": 18,
   "id": "853dcdd5-b131-4955-8cd7-fdaa866bc51c",
   "metadata": {},
   "outputs": [],
   "source": [
    "root_directory=visual_diet_config['root_directory']\n",
    "get_B=visual_diet_config['get_B']\n",
    "get_D=visual_diet_config['get_D']\n",
    "get_A=visual_diet_config['get_A']\n",
    "get_numElements=visual_diet_config['get_numElements']"
   ]
  },
  {
   "cell_type": "code",
   "execution_count": 19,
   "id": "dd1c1742-2e78-4506-a361-d6656d4701cf",
   "metadata": {},
   "outputs": [],
   "source": [
    "img_dim=512"
   ]
  },
  {
   "cell_type": "code",
   "execution_count": 20,
   "id": "768ecc2b-df5a-4cf8-98da-9f09b8cafe21",
   "metadata": {},
   "outputs": [
    {
     "data": {
      "text/plain": [
       "device(type='cuda', index=3)"
      ]
     },
     "execution_count": 20,
     "metadata": {},
     "output_type": "execute_result"
    }
   ],
   "source": [
    "batch_size=2\n",
    "num_workers=8\n",
    "device = torch.device('cuda:'+'3')\n",
    "# device = 'cpu'\n",
    "device"
   ]
  },
  {
   "cell_type": "code",
   "execution_count": 21,
   "id": "eeed8a3b-b481-421d-86b6-a99b5efba17b",
   "metadata": {},
   "outputs": [],
   "source": [
    "# normalize images using parameters from the training image set\n",
    "data_transform = transforms.Compose([       \n",
    " transforms.Resize(img_dim),                   \n",
    " transforms.CenterCrop((img_dim,img_dim)),         \n",
    " transforms.ToTensor(),                    \n",
    " transforms.Normalize(                      \n",
    " mean=[0.485, 0.456, 0.406],                \n",
    " std=[0.229, 0.224, 0.225]                  \n",
    " )])\n",
    "\n",
    "data_transform_without_norm = transforms.Compose([       \n",
    " transforms.Resize(img_dim),                   \n",
    " transforms.CenterCrop((img_dim,img_dim)),         \n",
    " transforms.ToTensor()                    \n",
    " ])"
   ]
  },
  {
   "cell_type": "code",
   "execution_count": 22,
   "id": "d22c1acd-9361-42a0-8ee7-9ced016d2dc6",
   "metadata": {},
   "outputs": [],
   "source": [
    "val_dataset_norm = Contour_Dataset(root=root_directory,transform=data_transform,train=False,get_B=get_B,get_D=get_D,get_A=get_A,get_numElements=get_numElements)\n",
    "val_loader_norm = torch.utils.data.DataLoader(dataset=val_dataset_norm, batch_size=batch_size, num_workers=num_workers, shuffle=False)\n"
   ]
  },
  {
   "cell_type": "markdown",
   "id": "37f985c6-1240-49b4-b46d-045a528c041e",
   "metadata": {},
   "source": [
    "### Collecting all the accuracy data"
   ]
  },
  {
   "cell_type": "code",
   "execution_count": 23,
   "id": "d010a5be-0c0e-4a6b-9814-38bcf5c3f1cd",
   "metadata": {},
   "outputs": [
    {
     "data": {
      "application/vnd.jupyter.widget-view+json": {
       "model_id": "33a6073653dc42d3873d4efd95d582b0",
       "version_major": 2,
       "version_minor": 0
      },
      "text/plain": [
       "  0%|          | 0/5 [00:00<?, ?it/s]"
      ]
     },
     "metadata": {},
     "output_type": "display_data"
    },
    {
     "name": "stdout",
     "output_type": "stream",
     "text": [
      "... loading checkpoint: ../../dev/base_model_weights/alexnet_bagnet11_72211_final_weights_pytorch2-d37f3073cd.pth\n",
      "... loading checkpoint: ../../dev/base_model_weights/alexnet_bagnet17_93311_final_weights_pytorch2-b051786873.pth\n",
      "... loading checkpoint: ../../dev/base_model_weights/alexnet_bagnet31_115333_final_weights_pytorch2-25355f56ff.pth\n",
      "... loading checkpoint: ../../dev/base_model_weights/alexnet_bagnet33_137331_final_weights_pytorch2-3b5d8dae71.pth\n"
     ]
    },
    {
     "data": {
      "application/vnd.jupyter.widget-view+json": {
       "model_id": "14ba0a2564d94628873725fb6832c68f",
       "version_major": 2,
       "version_minor": 0
      },
      "text/plain": [
       "  0%|          | 0/5 [00:00<?, ?it/s]"
      ]
     },
     "metadata": {},
     "output_type": "display_data"
    },
    {
     "name": "stdout",
     "output_type": "stream",
     "text": [
      "... loading checkpoint: ../../dev/base_model_weights/alexnet_bagnet11_72211_final_weights_pytorch2-d37f3073cd.pth\n",
      "... loading checkpoint: ../../dev/base_model_weights/alexnet_bagnet17_93311_final_weights_pytorch2-b051786873.pth\n",
      "... loading checkpoint: ../../dev/base_model_weights/alexnet_bagnet31_115333_final_weights_pytorch2-25355f56ff.pth\n",
      "... loading checkpoint: ../../dev/base_model_weights/alexnet_bagnet33_137331_final_weights_pytorch2-3b5d8dae71.pth\n"
     ]
    },
    {
     "data": {
      "application/vnd.jupyter.widget-view+json": {
       "model_id": "c9d05ee054ab4e0ea248e913b5e0873a",
       "version_major": 2,
       "version_minor": 0
      },
      "text/plain": [
       "  0%|          | 0/5 [00:00<?, ?it/s]"
      ]
     },
     "metadata": {},
     "output_type": "display_data"
    },
    {
     "name": "stdout",
     "output_type": "stream",
     "text": [
      "... loading checkpoint: ../../dev/base_model_weights/alexnet_bagnet11_72211_final_weights_pytorch2-d37f3073cd.pth\n",
      "... loading checkpoint: ../../dev/base_model_weights/alexnet_bagnet17_93311_final_weights_pytorch2-b051786873.pth\n",
      "... loading checkpoint: ../../dev/base_model_weights/alexnet_bagnet31_115333_final_weights_pytorch2-25355f56ff.pth\n",
      "... loading checkpoint: ../../dev/base_model_weights/alexnet_bagnet33_137331_final_weights_pytorch2-3b5d8dae71.pth\n"
     ]
    },
    {
     "data": {
      "application/vnd.jupyter.widget-view+json": {
       "model_id": "15190bc9055c45efa2f0f8b993f4baff",
       "version_major": 2,
       "version_minor": 0
      },
      "text/plain": [
       "  0%|          | 0/5 [00:00<?, ?it/s]"
      ]
     },
     "metadata": {},
     "output_type": "display_data"
    },
    {
     "name": "stdout",
     "output_type": "stream",
     "text": [
      "... loading checkpoint: ../../dev/base_model_weights/alexnet_bagnet11_72211_final_weights_pytorch2-d37f3073cd.pth\n",
      "... loading checkpoint: ../../dev/base_model_weights/alexnet_bagnet17_93311_final_weights_pytorch2-b051786873.pth\n",
      "... loading checkpoint: ../../dev/base_model_weights/alexnet_bagnet31_115333_final_weights_pytorch2-25355f56ff.pth\n",
      "... loading checkpoint: ../../dev/base_model_weights/alexnet_bagnet33_137331_final_weights_pytorch2-3b5d8dae71.pth\n"
     ]
    }
   ],
   "source": [
    "bagnet_conv5_finetune_files = ['../../dev/new_ccn23/alexnet-bagnet11_regimagenet_categ_finetune_broad/model_alexnet-bagnet11-regim-categ_layer_features-9_mode_finetune.pt',\n",
    "                        '../../dev/new_ccn23/alexnet-bagnet17_regimagenet_categ_finetune_broad/model_alexnet-bagnet17-regim-categ_layer_features-9_mode_finetune.pt',\n",
    "                        '../../dev/new_ccn23/alexnet-bagnet31_regimagenet_categ_finetune_broad/model_alexnet-bagnet31-regim-categ_layer_features-9_mode_finetune.pt',\n",
    "                        '../../dev/new_ccn23/alexnet-bagnet33_regimagenet_categ_finetune_broad/model_alexnet-bagnet33-regim-categ_layer_features-9_mode_finetune.pt',\n",
    "                        '../../dev/new_ccn23/alexnet_regimagenet_categ_finetune_broad/model_alexnet-pytorch-regim-categ_layer_features-12_mode_finetune.pt']\n",
    "bagnet_conv5_finetune_predictions=get_prediction(bagnet_conv5_finetune_files)\n",
    "\n",
    "\n",
    "\n",
    "\n",
    "\n",
    "\n",
    "\n",
    "bagnet_ap_finetune_files = ['../../dev/new_ccn23/alexnet-bagnet11_regimagenet_categ_finetune_broad/model_alexnet-bagnet11-regim-categ_layer_avgpool_mode_finetune.pt',\n",
    "                        '../../dev/new_ccn23/alexnet-bagnet17_regimagenet_categ_finetune_broad/model_alexnet-bagnet17-regim-categ_layer_avgpool_mode_finetune.pt',\n",
    "                        '../../dev/new_ccn23/alexnet-bagnet31_regimagenet_categ_finetune_broad/model_alexnet-bagnet31-regim-categ_layer_avgpool_mode_finetune.pt',\n",
    "                        '../../dev/new_ccn23/alexnet-bagnet33_regimagenet_categ_finetune_broad/model_alexnet-bagnet33-regim-categ_layer_avgpool_mode_finetune.pt',\n",
    "                        '../../dev/new_ccn23/alexnet_regimagenet_categ_finetune_broad/model_alexnet-pytorch-regim-categ_layer_avgpool_mode_finetune.pt']\n",
    "bagnet_ap_finetune_predictions=get_prediction(bagnet_ap_finetune_files)\n",
    "\n",
    "\n",
    "\n",
    "\n",
    "\n",
    "\n",
    "\n",
    "\n",
    "bagnet_fc1_finetune_files = ['../../dev/new_ccn23/alexnet-bagnet11_regimagenet_categ_finetune_broad/model_alexnet-bagnet11-regim-categ_layer_classifier-2_mode_finetune.pt',\n",
    "                        '../../dev/new_ccn23/alexnet-bagnet17_regimagenet_categ_finetune_broad/model_alexnet-bagnet17-regim-categ_layer_classifier-2_mode_finetune.pt',\n",
    "                        '../../dev/new_ccn23/alexnet-bagnet31_regimagenet_categ_finetune_broad/model_alexnet-bagnet31-regim-categ_layer_classifier-2_mode_finetune.pt',\n",
    "                        '../../dev/new_ccn23/alexnet-bagnet33_regimagenet_categ_finetune_broad/model_alexnet-bagnet33-regim-categ_layer_classifier-2_mode_finetune.pt',\n",
    "                        '../../dev/new_ccn23/alexnet_regimagenet_categ_finetune_broad/model_alexnet-pytorch-regim-categ_layer_classifier-2_mode_finetune.pt']\n",
    "bagnet_fc1_finetune_predictions=get_prediction(bagnet_fc1_finetune_files)\n",
    "\n",
    "\n",
    "\n",
    "\n",
    "\n",
    "\n",
    "\n",
    "bagnet_fc2_finetune_files = ['../../dev/new_ccn23/alexnet-bagnet11_regimagenet_categ_finetune_broad/model_alexnet-bagnet11-regim-categ_layer_classifier-5_mode_finetune.pt',\n",
    "                        '../../dev/new_ccn23/alexnet-bagnet17_regimagenet_categ_finetune_broad/model_alexnet-bagnet17-regim-categ_layer_classifier-5_mode_finetune.pt',\n",
    "                        '../../dev/new_ccn23/alexnet-bagnet31_regimagenet_categ_finetune_broad/model_alexnet-bagnet31-regim-categ_layer_classifier-5_mode_finetune.pt',\n",
    "                        '../../dev/new_ccn23/alexnet-bagnet33_regimagenet_categ_finetune_broad/model_alexnet-bagnet33-regim-categ_layer_classifier-5_mode_finetune.pt',\n",
    "                        '../../dev/new_ccn23/alexnet_regimagenet_categ_finetune_broad/model_alexnet-pytorch-regim-categ_layer_classifier-5_mode_finetune.pt']\n",
    "bagnet_fc2_finetune_predictions=get_prediction(bagnet_fc2_finetune_files)"
   ]
  },
  {
   "cell_type": "code",
   "execution_count": 112,
   "id": "f48c16c4-847f-4c3b-89fd-b3d932060ff5",
   "metadata": {},
   "outputs": [],
   "source": [
    "bagnet_conv5_mean_sal, _, bagnet_conv5_confint_sal, _, _, _ =get_list_acc_mean_std_ci(bagnet_conv5_finetune_predictions)\n",
    "\n",
    "\n",
    "bagnet_ap_mean_sal, _, bagnet_ap_confint_sal, _, _, _ =get_list_acc_mean_std_ci(bagnet_ap_finetune_predictions)\n",
    "\n",
    "\n",
    "bagnet_fc1_mean_sal, _, bagnet_fc1_confint_sal, _, _, _ =get_list_acc_mean_std_ci(bagnet_fc1_finetune_predictions)\n",
    "\n",
    "\n",
    "bagnet_fc2_mean_sal, _, bagnet_fc2_confint_sal, _, _, _ =get_list_acc_mean_std_ci(bagnet_fc2_finetune_predictions)\n"
   ]
  },
  {
   "cell_type": "markdown",
   "id": "ccfbabc4-bff9-49a4-82c6-9aa75290d396",
   "metadata": {},
   "source": [
    "### Plotting for bagnets"
   ]
  },
  {
   "cell_type": "code",
   "execution_count": 113,
   "id": "c2fa0f9d-7fa2-47e9-9c2d-f4dc58d0f04d",
   "metadata": {},
   "outputs": [],
   "source": [
    "color_shades_barplot=[(0.8229757785467128, 0.8898269896193771, 0.9527566320645905),\n",
    "                      (0.6965013456362937, 0.8248366013071895, 0.9092656670511342),\n",
    "                      (0.5168627450980392, 0.7357477893118032, 0.8601922337562476),\n",
    "                      (0.3363783160322953, 0.6255132641291811, 0.8067358708189158),\n",
    "                      (0.8275, 0.8275, 0.8275)]"
   ]
  },
  {
   "cell_type": "markdown",
   "id": "9513a51c-b617-4166-b47d-4f671f04a025",
   "metadata": {},
   "source": [
    "### Hand designed plot"
   ]
  },
  {
   "cell_type": "code",
   "execution_count": 114,
   "id": "87508b69-4d0e-4957-8c81-24ced4059aa9",
   "metadata": {},
   "outputs": [
    {
     "data": {
      "image/png": "[encoded data removed]",
      "text/plain": [
       "<Figure size 1080x864 with 1 Axes>"
      ]
     },
     "metadata": {
      "needs_background": "light"
     },
     "output_type": "display_data"
    }
   ],
   "source": [
    "# Sample dataframe\n",
    "data = {\n",
    "    'model_name': ['P 11*11', 'P 17*17', 'P 31*31', 'P 33*33','Standard Alexnet',\n",
    "                  'P 11*11', 'P 17*17', 'P 31*31', 'P 33*33','Standard Alexnet',\n",
    "                  'P 11*11', 'P 17*17', 'P 31*31', 'P 33*33','Standard Alexnet'],\n",
    "    'layer_name': ['AP', 'AP', 'AP', 'AP', 'AP',\n",
    "                  'FC1','FC1','FC1','FC1','FC1',\n",
    "                  'FC2','FC2','FC2','FC2','FC2'],\n",
    "    'accuracy': [0.555,0.546,0.76,0.7967,0.915,\n",
    "                0.5316,0.54,0.775,0.8383,0.9433,\n",
    "                0.513,0.528,0.7633,0.8383,0.9367]\n",
    "}\n",
    "\n",
    "df = pd.DataFrame(data)\n",
    "\n",
    "# Sample colors with RGB values\n",
    "color_dict = {\n",
    "    'P 11*11': (0.8229757785467128, 0.8898269896193771, 0.9527566320645905),\n",
    "    'P 17*17': (0.6965013456362937, 0.8248366013071895, 0.9092656670511342),\n",
    "    'P 31*31': (0.5168627450980392, 0.7357477893118032, 0.8601922337562476),\n",
    "    'P 33*33': (0.3363783160322953, 0.6255132641291811, 0.8067358708189158),\n",
    "    'Standard Alexnet':(0.827, 0.827, 0.827)\n",
    "}\n",
    "\n",
    "# Create bar plot\n",
    "plt.figure(figsize=(15, 12))\n",
    "sns.barplot(data=df, x='layer_name', y='accuracy', hue='model_name', palette=color_dict, ci=None)\n",
    "\n",
    "# Adding titles and labels\n",
    "plt.title('Model Accuracy by Layer')\n",
    "plt.xlabel('Layer Name')\n",
    "plt.ylabel('Accuracy')\n",
    "plt.legend(title='Model Name').remove()\n",
    "\n",
    "\n",
    "plt.ylim(0.5, 1.0) \n",
    "\n",
    "\n",
    "plt.gca().spines['top'].set_visible(False)\n",
    "plt.gca().spines['right'].set_visible(False)\n",
    "# Display the plot\n",
    "plt.show()"
   ]
  },
  {
   "cell_type": "markdown",
   "id": "8ee57c55-691a-4783-a4db-070840cf947f",
   "metadata": {},
   "source": [
    "### Plot using variables, same as before"
   ]
  },
  {
   "cell_type": "code",
   "execution_count": 115,
   "id": "7d178c2b-5882-4d2b-bfb0-c8e23086971b",
   "metadata": {},
   "outputs": [
    {
     "data": {
      "image/png": "[encoded data removed]",
      "text/plain": [
       "<Figure size 1080x864 with 1 Axes>"
      ]
     },
     "metadata": {
      "needs_background": "light"
     },
     "output_type": "display_data"
    }
   ],
   "source": [
    "data = {\n",
    "    'model_name': ['P 11*11', 'P 17*17', 'P 31*31', 'P 33*33','Standard Alexnet',\n",
    "                  'P 11*11', 'P 17*17', 'P 31*31', 'P 33*33','Standard Alexnet',\n",
    "                  'P 11*11', 'P 17*17', 'P 31*31', 'P 33*33','Standard Alexnet'],\n",
    "    \n",
    "    'layer_name': ['AP', 'AP', 'AP', 'AP', 'AP',\n",
    "                   'FC1','FC1','FC1','FC1','FC1',\n",
    "                   'FC2','FC2','FC2','FC2','FC2'],\n",
    "    \n",
    "    'accuracy': [*bagnet_ap_mean_sal,\n",
    "                *bagnet_fc1_mean_sal,\n",
    "                *bagnet_fc2_mean_sal]\n",
    "}\n",
    "\n",
    "df = pd.DataFrame(data)\n",
    "\n",
    "# Sample colors with RGB values\n",
    "color_dict = {\n",
    "    'P 11*11': (0.8229757785467128, 0.8898269896193771, 0.9527566320645905),\n",
    "    'P 17*17': (0.6965013456362937, 0.8248366013071895, 0.9092656670511342),\n",
    "    'P 31*31': (0.5168627450980392, 0.7357477893118032, 0.8601922337562476),\n",
    "    'P 33*33': (0.3363783160322953, 0.6255132641291811, 0.8067358708189158),\n",
    "    'Standard Alexnet':(0.827, 0.827, 0.827)\n",
    "}\n",
    "\n",
    "# Create bar plot\n",
    "plt.figure(figsize=(15, 12))\n",
    "sns.barplot(data=df, x='layer_name', y='accuracy', hue='model_name', palette=color_dict, ci=None)\n",
    "\n",
    "# Adding titles and labels\n",
    "plt.title('Model Accuracy by Layer')\n",
    "plt.xlabel('Layer Name')\n",
    "plt.ylabel('Accuracy')\n",
    "plt.legend(title='Model Name').remove()\n",
    "\n",
    "\n",
    "plt.ylim(0.5, 1.0) \n",
    "\n",
    "\n",
    "plt.gca().spines['top'].set_visible(False)\n",
    "plt.gca().spines['right'].set_visible(False)\n",
    "# plt.savefig('./dev/manuscript_figures/pinholenet_contour_training_classifier_head.png', bbox_inches='tight', format='png', dpi=600)\n",
    "# Display the plot\n",
    "plt.show()"
   ]
  },
  {
   "cell_type": "markdown",
   "id": "369e1705-d4ed-4406-a254-a6ea875ed287",
   "metadata": {},
   "source": [
    "## Error bars work for 2"
   ]
  },
  {
   "cell_type": "markdown",
   "id": "50402fea-e47e-4b49-b031-9887cf8b6b24",
   "metadata": {},
   "source": [
    "### Example to verify"
   ]
  },
  {
   "cell_type": "code",
   "execution_count": 118,
   "id": "878d7196-0c67-4fdd-87d0-375c95ecab71",
   "metadata": {},
   "outputs": [],
   "source": [
    "# data = {\n",
    "#     'model_name': ['P 11*11', 'P 17*17', 'P 31*31', 'P 33*33','Standard Alexnet',\n",
    "#                   'P 11*11', 'P 17*17', 'P 31*31', 'P 33*33','Standard Alexnet'],\n",
    "    \n",
    "#     'layer_name': ['L1', 'L1', 'L1', 'L1', 'L1',\n",
    "#                   'L2','L2','L2','L2','L2'],\n",
    "    \n",
    "#     'accuracy': [0.555,0.546,0.76,0.7967,0.915,\n",
    "#                 0.513,0.528,0.7633,0.8383,0.9367],\n",
    "    \n",
    "#     'error': [0.01, 0.01, 0.03, 0.01, 0.01,  # your actual error values\n",
    "#               0.03, 0.02, 0.01, 0.1, 0.02],\n",
    "    \n",
    "# }\n",
    "# df = pd.DataFrame(data)\n",
    "\n",
    "# # Sample colors with RGB values\n",
    "# color_dict = {\n",
    "#     'P 11*11': (0.8229757785467128, 0.8898269896193771, 0.9527566320645905),\n",
    "#     'P 17*17': (0.6965013456362937, 0.8248366013071895, 0.9092656670511342),\n",
    "#     'P 31*31': (0.5168627450980392, 0.7357477893118032, 0.8601922337562476),\n",
    "#     'P 33*33': (0.3363783160322953, 0.6255132641291811, 0.8067358708189158),\n",
    "#     'Standard Alexnet':(0.827, 0.827, 0.827)\n",
    "# }\n",
    "\n",
    "# plt.figure(figsize=(15, 12))\n",
    "# barplot = sns.barplot(data=df, x='layer_name', y='accuracy', hue='model_name', palette=color_dict, ci=None)\n",
    "\n",
    "# # Adjust the ylim to make sure error bars are visible\n",
    "# plt.ylim(0.4, 1.0)\n",
    "\n",
    "# # Since we have grouped data, we need to adjust the way we access the error values.\n",
    "# # We'll use groupby and get_group to get the correct subsets.\n",
    "# for name, group in df.groupby(['layer_name', 'model_name']):\n",
    "#     layer_name, model_name = name\n",
    "#     group_data = df[(df['layer_name'] == layer_name) & (df['model_name'] == model_name)]\n",
    "    \n",
    "#     # Get the positions of the bars for the current group\n",
    "#     positions = [p.get_x() + p.get_width() / 2 for p in barplot.patches if p.get_height() == group_data['accuracy'].values[0]]\n",
    "    \n",
    "#     # Plot the error bars for the current group\n",
    "#     plt.errorbar(positions, group_data['accuracy'], yerr=group_data['error'], fmt='none', c='k', capsize=5)\n",
    "\n",
    "# plt.title('Model Accuracy by Layer')\n",
    "# plt.xlabel('Layer Name')\n",
    "# plt.ylabel('Accuracy')\n",
    "\n",
    "# # Remove the legend if not needed\n",
    "# plt.legend(title='Model Name').remove()\n",
    "\n",
    "# # Spine visibility settings as before\n",
    "# plt.gca().spines['top'].set_visible(False)\n",
    "# plt.gca().spines['right'].set_visible(False)\n",
    "\n",
    "# plt.show()\n"
   ]
  },
  {
   "cell_type": "markdown",
   "id": "4d3df04c-11ec-42c6-917a-976675207fda",
   "metadata": {},
   "source": [
    "#### **Pub**"
   ]
  },
  {
   "cell_type": "code",
   "execution_count": 123,
   "id": "d98fb807-0225-4834-87db-e679b4cdcfe0",
   "metadata": {},
   "outputs": [
    {
     "data": {
      "image/png": "[encoded data removed]",
      "text/plain": [
       "<Figure size 1080x864 with 1 Axes>"
      ]
     },
     "metadata": {
      "needs_background": "light"
     },
     "output_type": "display_data"
    }
   ],
   "source": [
    "data = {\n",
    "    'model_name': ['P 11*11', 'P 17*17', 'P 31*31', 'P 33*33','Standard Alexnet',\n",
    "                  'P 11*11', 'P 17*17', 'P 31*31', 'P 33*33','Standard Alexnet'],\n",
    "    \n",
    "    'layer_name': ['C5', 'C5', 'C5', 'C5', 'C5',\n",
    "                   'FC2','FC2','FC2','FC2','FC2'],\n",
    "    \n",
    "    'accuracy': [*bagnet_conv5_mean_sal,\n",
    "                *bagnet_fc2_mean_sal],\n",
    "    \n",
    "    'error': [*bagnet_conv5_confint_sal,\n",
    "                *bagnet_fc2_confint_sal],\n",
    "    \n",
    "    \n",
    "}\n",
    "\n",
    "df = pd.DataFrame(data)\n",
    "\n",
    "# Sample colors with RGB values\n",
    "color_dict = {\n",
    "    'P 11*11': (0.8229757785467128, 0.8898269896193771, 0.9527566320645905),\n",
    "    'P 17*17': (0.6965013456362937, 0.8248366013071895, 0.9092656670511342),\n",
    "    'P 31*31': (0.5168627450980392, 0.7357477893118032, 0.8601922337562476),\n",
    "    'P 33*33': (0.3363783160322953, 0.6255132641291811, 0.8067358708189158),\n",
    "    'Standard Alexnet':(0.827, 0.827, 0.827)\n",
    "}\n",
    "\n",
    "plt.figure(figsize=(15, 12))\n",
    "barplot = sns.barplot(data=df, x='layer_name', y='accuracy', hue='model_name', palette=color_dict, ci=None)\n",
    "\n",
    "# Adjust the ylim to make sure error bars are visible\n",
    "plt.ylim(0.4, 1.0)\n",
    "\n",
    "# Since we have grouped data, we need to adjust the way we access the error values.\n",
    "# We'll use groupby and get_group to get the correct subsets.\n",
    "for name, group in df.groupby(['layer_name', 'model_name']):\n",
    "    layer_name, model_name = name\n",
    "    group_data = df[(df['layer_name'] == layer_name) & (df['model_name'] == model_name)]\n",
    "    \n",
    "    # Get the positions of the bars for the current group\n",
    "    positions = [p.get_x() + p.get_width() / 2 for p in barplot.patches if p.get_height() == group_data['accuracy'].values[0]]\n",
    "    \n",
    "    # Plot the error bars for the current group\n",
    "    plt.errorbar(positions, group_data['accuracy'], yerr=group_data['error'], fmt='none', c='k', capsize=5)\n",
    "\n",
    "plt.title('Model Accuracy by Layer')\n",
    "plt.xlabel('Layer Name')\n",
    "plt.ylabel('Accuracy')\n",
    "\n",
    "# Remove the legend if not needed\n",
    "plt.legend(title='Model Name').remove()\n",
    "\n",
    "# Spine visibility settings as before\n",
    "plt.gca().spines['top'].set_visible(False)\n",
    "plt.gca().spines['right'].set_visible(False)\n",
    "# plt.savefig('./dev/manuscript_figures/f3_bagnet_comparison.png', format='png', dpi=600)\n",
    "plt.show()"
   ]
  },
  {
   "cell_type": "code",
   "execution_count": null,
   "id": "2005e6f0-ff71-4fe5-bcae-12e3a056e7f1",
   "metadata": {},
   "outputs": [],
   "source": []
  },
  {
   "cell_type": "code",
   "execution_count": null,
   "id": "36614669-6e2f-406e-8df2-1beca281af94",
   "metadata": {},
   "outputs": [],
   "source": []
  },
  {
   "cell_type": "code",
   "execution_count": null,
   "id": "f25654ef-fe40-4535-8ad0-8f5f741bbb08",
   "metadata": {},
   "outputs": [],
   "source": []
  },
  {
   "cell_type": "code",
   "execution_count": null,
   "id": "6a6023da-7aac-4041-8612-73a0cdfc25bb",
   "metadata": {},
   "outputs": [],
   "source": []
  },
  {
   "cell_type": "code",
   "execution_count": null,
   "id": "faf40ec2-3d42-4bca-b3b3-9fc6284bd4fc",
   "metadata": {},
   "outputs": [],
   "source": []
  },
  {
   "cell_type": "code",
   "execution_count": null,
   "id": "432e0526-0ea7-46ef-bc64-ec6f759d1afb",
   "metadata": {},
   "outputs": [],
   "source": []
  },
  {
   "cell_type": "markdown",
   "id": "3918691c-80ea-4ab6-80de-cce095a2085f",
   "metadata": {},
   "source": [
    "# 10) Analyse other images [Gaboriforms]"
   ]
  },
  {
   "cell_type": "code",
   "execution_count": null,
   "id": "7883b9be-31ad-4b0a-95c3-b8a187f81442",
   "metadata": {},
   "outputs": [],
   "source": [
    "def get_output(files,all_images):\n",
    "    all_models_output={}\n",
    "\n",
    "\n",
    "    for f in tqdm(files):\n",
    "        checkpoint=torch.load(f)\n",
    "        loaded_spliced_model=SpliceModel(checkpoint['training_config']['base_model_name'],checkpoint['training_config']['layer_name'],fine_tune=checkpoint['training_config']['fine_tune'],device=device)\n",
    "        loaded_spliced_model.load_state_dict(checkpoint['model_state_dict'],strict=False)\n",
    "        output=loaded_spliced_model.forward(all_images).detach().cpu().numpy()\n",
    "        all_models_output[checkpoint['training_config']['layer_name']]=output\n",
    "\n",
    "\n",
    "\n",
    "    myKeys = list(all_models_output.keys())\n",
    "    myKeys.sort()\n",
    "    all_models_output = {i: all_models_output[i] for i in myKeys}\n",
    "    \n",
    "    return all_models_output"
   ]
  },
  {
   "cell_type": "code",
   "execution_count": null,
   "id": "8fa1422a-b8f4-4174-9f1e-14fb5afe1aa4",
   "metadata": {},
   "outputs": [],
   "source": [
    "def get_list_output(acc_dict,list_layers):\n",
    "    acc=[]\n",
    "    for i in range(len(list_layers)):\n",
    "        # layer=list_layers[i].replace('_','.')\n",
    "        layer=list_layers[i]\n",
    "        if layer in acc_dict.keys():\n",
    "            acc.append(acc_dict[layer])\n",
    "            \n",
    "    return acc\n"
   ]
  },
  {
   "cell_type": "markdown",
   "id": "a6e74d9f-e711-4ec7-80eb-b6e0a4a9105c",
   "metadata": {},
   "source": [
    "### Single image"
   ]
  },
  {
   "cell_type": "code",
   "execution_count": null,
   "id": "3c53c5c8-53f8-4e5b-af76-c3d9fec5c74c",
   "metadata": {},
   "outputs": [],
   "source": [
    "# normalize images using parameters from the training image set\n",
    "just_vis_transform= transforms.Compose([       \n",
    " transforms.Resize(256),transforms.Pad(128),\n",
    " transforms.CenterCrop((512,512)),transforms.ToTensor()])"
   ]
  },
  {
   "cell_type": "code",
   "execution_count": null,
   "id": "2e75201e-bc9e-4103-9e05-115852de5b20",
   "metadata": {},
   "outputs": [],
   "source": [
    "img=Image.open('dev/random_images/gaboriforms/sketch_N10_A_helvetica.png').convert('RGB')\n",
    "# img=Image.open('dev/random_images/gaboriforms/sketch_P10_A_helvetica.png').convert('RGB')\n",
    "# img=Image.open('dev/random_images/gaboriforms/sketch_P30_A_helvetica.png').convert('RGB')\n",
    "\n",
    "\n",
    "\n",
    "plt.imshow(np.array(img))\n",
    "plt.show()\n",
    "\n",
    "plt.imshow(np.transpose(just_vis_transform(img).numpy(),(1,2,0)))"
   ]
  },
  {
   "cell_type": "code",
   "execution_count": null,
   "id": "602eed83-a0a6-4f1c-8082-7572476ba58b",
   "metadata": {},
   "outputs": [],
   "source": [
    "# normalize images using parameters from the training image set\n",
    "gaboriform_transform= transforms.Compose([       \n",
    " transforms.Resize(256),transforms.Pad(128),\n",
    " transforms.CenterCrop((512,512)),         \n",
    " transforms.ToTensor(),                    \n",
    " transforms.Normalize(                      \n",
    " mean=[0.485, 0.456, 0.406],                \n",
    " std=[0.229, 0.224, 0.225])])"
   ]
  },
  {
   "cell_type": "code",
   "execution_count": null,
   "id": "64969c53-66a4-496d-a00d-0ae63660616d",
   "metadata": {},
   "outputs": [],
   "source": [
    "# img=Image.open('./dev/random_images/gaboriforms/sketch_Random_A_helvetica.png').convert('RGB')\n",
    "img=Image.open('dev/random_images/gaboriforms/sketch_P30_A_helvetica.png').convert('RGB')\n",
    "img=gaboriform_transform(img)\n",
    "img=img.to(device)\n",
    "img=torch.unsqueeze(img,0)\n",
    "img.shape"
   ]
  },
  {
   "cell_type": "code",
   "execution_count": null,
   "id": "0f7ff00f-0974-4a13-bbc7-fabee2f328b5",
   "metadata": {},
   "outputs": [],
   "source": [
    "output=loaded_spliced_model.forward(img).detach().cpu()\n",
    "output.shape"
   ]
  },
  {
   "cell_type": "markdown",
   "id": "398ba361-e5f4-41f7-8307-495f0bc7ccb2",
   "metadata": {},
   "source": [
    "### All images and all layers"
   ]
  },
  {
   "cell_type": "code",
   "execution_count": null,
   "id": "f708c6cf-56c6-4bbb-b739-01d1ce7786cb",
   "metadata": {},
   "outputs": [],
   "source": [
    "n10_img=Image.open('dev/random_images/gaboriforms/sketch_N10_A_helvetica.png').convert('RGB')\n",
    "n10_img=gaboriform_transform(n10_img).to(device)\n",
    "n10_img=torch.unsqueeze(n10_img,0)\n",
    "\n",
    "p10_img=Image.open('dev/random_images/gaboriforms/sketch_P10_A_helvetica.png').convert('RGB')\n",
    "p10_img=gaboriform_transform(p10_img).to(device)\n",
    "p10_img=torch.unsqueeze(p10_img,0)\n",
    "\n",
    "p30_img=Image.open('dev/random_images/gaboriforms/sketch_P30_A_helvetica.png').convert('RGB')\n",
    "p30_img=gaboriform_transform(p30_img).to(device)\n",
    "p30_img=torch.unsqueeze(p30_img,0)\n",
    "\n"
   ]
  },
  {
   "cell_type": "code",
   "execution_count": null,
   "id": "305cbd8c-88d3-4b51-b0be-01265c608f32",
   "metadata": {},
   "outputs": [],
   "source": [
    "all_images=torch.cat((n10_img,p10_img,p30_img),0)"
   ]
  },
  {
   "cell_type": "code",
   "execution_count": null,
   "id": "de054b64-8067-4d07-b259-6151178b3672",
   "metadata": {},
   "outputs": [],
   "source": [
    "list_layers=['features_0',\n",
    " 'features_1',\n",
    " 'features_2',\n",
    " 'features_3',\n",
    " 'features_4',\n",
    " 'features_5',\n",
    " 'features_6',\n",
    " 'features_7',\n",
    " 'features_8',\n",
    " 'features_9',\n",
    " 'features_10',\n",
    " 'features_11',\n",
    " 'features_12',\n",
    " 'avgpool',\n",
    " 'classifier_0',\n",
    " 'classifier_1',\n",
    " 'classifier_2',\n",
    " 'classifier_3',\n",
    " 'classifier_4',\n",
    " 'classifier_5',\n",
    " 'classifier_6']\n",
    "\n",
    "for i in range(len(list_layers)):\n",
    "    list_layers[i]=list_layers[i].replace('_','.')"
   ]
  },
  {
   "cell_type": "code",
   "execution_count": null,
   "id": "c207e874-35c8-4fd2-a427-bb56fa39ae26",
   "metadata": {},
   "outputs": [],
   "source": [
    "sup_regular_finetune_files = glob.glob(\"../../dev/model_hub/regular_alexnet/model_sup-regular_*finetune.pt\")"
   ]
  },
  {
   "cell_type": "code",
   "execution_count": null,
   "id": "bf4737dc-78bb-4be7-987d-ac290d8bf4d4",
   "metadata": {},
   "outputs": [],
   "source": [
    "all_models_output=get_list_acc(get_output(sup_regular_finetune_files,all_images),list_layers)\n",
    "\n",
    "all_models_output=np.array(all_models_output)"
   ]
  },
  {
   "cell_type": "code",
   "execution_count": null,
   "id": "becb11f6-175c-4a2f-bc4b-241d56713038",
   "metadata": {},
   "outputs": [],
   "source": [
    "all_models_output.shape"
   ]
  },
  {
   "cell_type": "code",
   "execution_count": null,
   "id": "a20ce69a-9a15-43e9-9cf6-ba1be0e51d83",
   "metadata": {},
   "outputs": [],
   "source": [
    "print(np.linalg.norm(all_models_output[0][0] - all_models_output[0][1]))\n",
    "print(np.linalg.norm(all_models_output[0][1] - all_models_output[0][2]))"
   ]
  },
  {
   "cell_type": "code",
   "execution_count": null,
   "id": "edddebc0-2b03-4441-a522-10564b4d0d2d",
   "metadata": {},
   "outputs": [],
   "source": [
    "list_distances=[]\n",
    "for i in range(all_models_output.shape[0]):\n",
    "    d1=np.linalg.norm(all_models_output[i][0] - all_models_output[i][1])\n",
    "    d2=np.linalg.norm(all_models_output[i][1] - all_models_output[i][2])\n",
    "    list_distances.append([d1,d2])\n",
    "list_distances=np.array(list_distances)"
   ]
  },
  {
   "cell_type": "code",
   "execution_count": null,
   "id": "d576a066-dfa5-48b2-9e3c-5b3993bd89ea",
   "metadata": {},
   "outputs": [],
   "source": [
    "list_corr=[]\n",
    "for i in range(all_models_output.shape[0]):\n",
    "    r1=np.corrcoef(all_models_output[i][0],all_models_output[i][1])[0][1]\n",
    "    r2=np.corrcoef(all_models_output[i][1],all_models_output[i][2])[0][1]\n",
    "    list_corr.append([r1,r2])\n",
    "list_corr=np.array(list_corr)"
   ]
  },
  {
   "cell_type": "code",
   "execution_count": null,
   "id": "72ec4f4b-4d45-493a-9cf2-e1360b5c8aad",
   "metadata": {},
   "outputs": [],
   "source": [
    "# print(all_models_output[3])\n",
    "# print(np.corrcoef(all_models_output[3][0],all_models_output[3][2]))\n",
    "# plt.plot(all_models_output[3][0],all_models_output[3][2])\n",
    "# print(all_models_output[3][0],all_models_output[3][2])"
   ]
  },
  {
   "cell_type": "markdown",
   "id": "6c243c4d-9b9b-4ff4-8e3a-e0102c8198db",
   "metadata": {},
   "source": [
    "#### list distances=for each layer globally similiar and dissimiliar"
   ]
  },
  {
   "cell_type": "code",
   "execution_count": null,
   "id": "6dc210ff-5ade-40ef-9c70-93043bb062f9",
   "metadata": {},
   "outputs": [],
   "source": [
    "plt.plot(np.arange(len(list_distances[:,0])),list_distances[:,0])\n",
    "plt.plot(np.arange(len(list_distances[:,1])),list_distances[:,1])"
   ]
  },
  {
   "cell_type": "code",
   "execution_count": null,
   "id": "16b59053-82cb-4c13-9e08-c24ff3de3ea4",
   "metadata": {},
   "outputs": [],
   "source": [
    "plt.plot(np.arange(len(list_corr[:,0])),list_corr[:,0])\n",
    "plt.plot(np.arange(len(list_corr[:,1])),list_corr[:,1])"
   ]
  },
  {
   "cell_type": "markdown",
   "id": "b1b558de-8eaa-49cc-a337-2d59e90d301e",
   "metadata": {},
   "source": [
    "# All images -> all layers of single ,model"
   ]
  },
  {
   "cell_type": "code",
   "execution_count": null,
   "id": "88d3b881-2642-4a59-87ba-84e79d68e77c",
   "metadata": {},
   "outputs": [],
   "source": [
    "n10_img=Image.open('dev/random_images/gaboriforms/sketch_N10_A_helvetica.png').convert('RGB')\n",
    "n10_img=gaboriform_transform(n10_img).to(device)\n",
    "n10_img=torch.unsqueeze(n10_img,0)\n",
    "\n",
    "p10_img=Image.open('dev/random_images/gaboriforms/sketch_P10_A_helvetica.png').convert('RGB')\n",
    "p10_img=gaboriform_transform(p10_img).to(device)\n",
    "p10_img=torch.unsqueeze(p10_img,0)\n",
    "\n",
    "p30_img=Image.open('dev/random_images/gaboriforms/sketch_P30_A_helvetica.png').convert('RGB')\n",
    "p30_img=gaboriform_transform(p30_img).to(device)\n",
    "p30_img=torch.unsqueeze(p30_img,0)\n",
    "\n",
    "\n",
    "random_img=Image.open('dev/random_images/gaboriforms/sketch_Random_A_helvetica.png').convert('RGB')\n",
    "random_img=gaboriform_transform(random_img).to(device)\n",
    "random_img=torch.unsqueeze(random_img,0)\n",
    "\n"
   ]
  },
  {
   "cell_type": "code",
   "execution_count": null,
   "id": "fb973839-2ac7-4507-b6ad-84e5092b161d",
   "metadata": {},
   "outputs": [],
   "source": [
    "all_images=torch.cat((n10_img,p10_img,p30_img,random_img),0)\n",
    "all_images.shape"
   ]
  },
  {
   "cell_type": "code",
   "execution_count": null,
   "id": "edf3f701-8f90-44b3-916c-96bbe46822f1",
   "metadata": {},
   "outputs": [],
   "source": [
    "# checkpoint=torch.load('../../dev/model_hub/regular_alexnet/model_sup-regular_layer_avgpool_mode_frozen.pt')\n",
    "# checkpoint=torch.load('../../dev/model_hub/stylized_alexnet/model_sup-stylized_layer_avgpool_mode_frozen.pt')\n",
    "\n",
    "\n",
    "# checkpoint=torch.load('../../dev/model_hub/regular_alexnet/model_sup-regular_layer_avgpool_mode_finetune.pt')\n",
    "checkpoint=torch.load('../../dev/model_hub/constrained_finetuning/alexnet/B_018/model_sup-regular_layer_avgpool_mode_finetune.pt')"
   ]
  },
  {
   "cell_type": "code",
   "execution_count": null,
   "id": "7308ef26-2f69-4f7c-a024-7ed18666dda8",
   "metadata": {},
   "outputs": [],
   "source": [
    "loaded_spliced_model=SpliceModel(checkpoint['training_config']['base_model_name'],checkpoint['training_config']['layer_name'],fine_tune=checkpoint['training_config']['fine_tune'],device=device)\n",
    "\n",
    "loaded_spliced_model.load_state_dict(checkpoint['model_state_dict'],strict=False)"
   ]
  },
  {
   "cell_type": "code",
   "execution_count": null,
   "id": "349a45c6-11ab-4850-af20-2dcf65391818",
   "metadata": {},
   "outputs": [],
   "source": [
    "loaded_spliced_model"
   ]
  },
  {
   "cell_type": "code",
   "execution_count": null,
   "id": "232dce8f-21cc-426a-86f2-2895c97acf9c",
   "metadata": {},
   "outputs": [],
   "source": [
    "# for name,module in loaded_spliced_model.base_model.named_modules():\n",
    "#     print(name)"
   ]
  },
  {
   "cell_type": "code",
   "execution_count": null,
   "id": "5cd96f42-2f7b-43ec-a1ff-2507c50b5bd9",
   "metadata": {},
   "outputs": [],
   "source": [
    "list_layers=['features.0','features.1','features.2','features.3','features.4','features.5','features.6','features.7','features.8','features.9','features.10','features.11','features.12','avgpool']\n",
    "for i in range(len(list_layers)):\n",
    "    list_layers[i]='base_model.'+list_layers[i]"
   ]
  },
  {
   "cell_type": "code",
   "execution_count": null,
   "id": "64e34b06-f611-4bf0-a50d-339dfa3fd9de",
   "metadata": {},
   "outputs": [],
   "source": [
    "list_distances=[]\n",
    "list_corr=[]\n",
    "\n",
    "for layer_name in list_layers:\n",
    "\n",
    "    output=None\n",
    "    with FeatureExtractor(loaded_spliced_model, layer_name) as extractor:\n",
    "\n",
    "        features = extractor(all_images)\n",
    "        temp_output=features[layer_name]\n",
    "        if(len(temp_output.shape)!=2):\n",
    "            temp_output=temp_output.view((temp_output.shape[0],-1))\n",
    "        output=temp_output.numpy()\n",
    "        \n",
    "        \n",
    "        d1=np.linalg.norm(output[0] - output[1])\n",
    "        d2=np.linalg.norm(output[1] - output[2])\n",
    "        d3_random=np.linalg.norm(output[1] - output[3])\n",
    "        list_distances.append([d1,d2,d3_random])\n",
    "        \n",
    "        \n",
    "        r1=np.corrcoef(output[0],output[1])[0][1]\n",
    "        r2=np.corrcoef(output[1],output[2])[0][1]\n",
    "        r3_random=np.corrcoef(output[1],output[3])[0][1]\n",
    "        list_corr.append([r1,r2,r3_random])\n",
    "\n",
    "    print(output.shape)\n",
    "list_distances=np.array(list_distances)\n",
    "list_corr=np.array(list_corr)"
   ]
  },
  {
   "cell_type": "code",
   "execution_count": null,
   "id": "1c5ef76c-a1e5-4a08-8a1f-f6e3de01fa01",
   "metadata": {},
   "outputs": [],
   "source": [
    "plt.plot(np.arange(len(list_distances[:,0])),list_distances[:,0],label='globally similiar')\n",
    "plt.plot(np.arange(len(list_distances[:,1])),list_distances[:,1],label='globally dissimiliar')\n",
    "plt.plot(np.arange(len(list_distances[:,2])),list_distances[:,2],label='random')\n",
    "plt.legend()\n",
    "plt.gca().spines['top'].set_visible(False)\n",
    "plt.gca().spines['right'].set_visible(False)"
   ]
  },
  {
   "cell_type": "code",
   "execution_count": null,
   "id": "dc029ced-4a60-40da-917c-486ad9dc7bf6",
   "metadata": {},
   "outputs": [],
   "source": [
    "plt.plot(np.arange(len(list_corr[:,0])),list_corr[:,0],label='globally similiar')\n",
    "plt.plot(np.arange(len(list_corr[:,1])),list_corr[:,1],label='globally dissimiliar')\n",
    "plt.plot(np.arange(len(list_corr[:,2])),list_corr[:,2],label='random')\n",
    "plt.ylim(0.0,1.1)\n",
    "plt.legend()\n",
    "plt.gca().spines['top'].set_visible(False)\n",
    "plt.gca().spines['right'].set_visible(False)"
   ]
  },
  {
   "cell_type": "markdown",
   "id": "2edf703e-071b-4e22-9544-f48bcfd514f4",
   "metadata": {},
   "source": [
    "## Comparing Alexnet 0R, Stylized Alexnet OR, CI-Broad, CI-Narrow"
   ]
  },
  {
   "cell_type": "code",
   "execution_count": null,
   "id": "2763ec03-0836-4a90-87f4-c1787fcbe4c1",
   "metadata": {},
   "outputs": [],
   "source": [
    "# alexnet_or=copy.deepcopy(list_corr)\n",
    "\n",
    "# alexnet_stylized=copy.deepcopy(list_corr)\n",
    "\n",
    "\n",
    "# alexnet_cibroad=copy.deepcopy(list_corr)\n",
    "\n",
    "\n",
    "# alexnet_cinarrow=copy.deepcopy(list_corr)"
   ]
  },
  {
   "cell_type": "code",
   "execution_count": null,
   "id": "83ceb178-0cc4-4e3d-b6ca-c7d00ed5b5d9",
   "metadata": {},
   "outputs": [],
   "source": [
    "plt.figure(figsize=(12,12))\n",
    "\n",
    "plt.subplot(2,2,1)\n",
    "plt.plot(np.arange(len(alexnet_or[:,0])),alexnet_or[:,0],label='globally similiar')\n",
    "plt.plot(np.arange(len(alexnet_or[:,1])),alexnet_or[:,1],label='globally dissimiliar')\n",
    "plt.plot(np.arange(len(alexnet_or[:,2])),alexnet_or[:,2],label='random')\n",
    "plt.ylim(0.0,1.1)\n",
    "plt.legend()\n",
    "plt.title('Alexnet OR')\n",
    "plt.xlabel('Model Layer')\n",
    "plt.ylabel('Correlation')\n",
    "plt.gca().spines['top'].set_visible(False)\n",
    "plt.gca().spines['right'].set_visible(False)\n",
    "\n",
    "\n",
    "\n",
    "\n",
    "plt.subplot(2,2,2)\n",
    "plt.plot(np.arange(len(alexnet_stylized[:,0])),alexnet_stylized[:,0],label='globally similiar')\n",
    "plt.plot(np.arange(len(alexnet_stylized[:,1])),alexnet_stylized[:,1],label='globally dissimiliar')\n",
    "plt.plot(np.arange(len(alexnet_stylized[:,2])),alexnet_stylized[:,2],label='random')\n",
    "plt.ylim(0.0,1.1)\n",
    "plt.legend()\n",
    "plt.title('Alexnet Stylized')\n",
    "plt.xlabel('Model Layer')\n",
    "plt.ylabel('Correlation')\n",
    "plt.gca().spines['top'].set_visible(False)\n",
    "plt.gca().spines['right'].set_visible(False)\n",
    "\n",
    "\n",
    "\n",
    "\n",
    "plt.subplot(2,2,3)\n",
    "plt.plot(np.arange(len(alexnet_cibroad[:,0])),alexnet_cibroad[:,0],label='globally similiar')\n",
    "plt.plot(np.arange(len(alexnet_cibroad[:,1])),alexnet_cibroad[:,1],label='globally dissimiliar')\n",
    "plt.plot(np.arange(len(alexnet_cibroad[:,2])),alexnet_cibroad[:,2],label='random')\n",
    "plt.ylim(0.0,1.1)\n",
    "plt.legend()\n",
    "plt.title('Alexnet CI Broad')\n",
    "plt.xlabel('Model Layer')\n",
    "plt.ylabel('Correlation')\n",
    "plt.gca().spines['top'].set_visible(False)\n",
    "plt.gca().spines['right'].set_visible(False)\n",
    "\n",
    "\n",
    "\n",
    "\n",
    "plt.subplot(2,2,4)\n",
    "plt.plot(np.arange(len(alexnet_cinarrow[:,0])),alexnet_cinarrow[:,0],label='globally similiar')\n",
    "plt.plot(np.arange(len(alexnet_cinarrow[:,1])),alexnet_cinarrow[:,1],label='globally dissimiliar')\n",
    "plt.plot(np.arange(len(alexnet_cinarrow[:,2])),alexnet_cinarrow[:,2],label='random')\n",
    "plt.ylim(0.0,1.1)\n",
    "plt.legend()\n",
    "plt.title('Alexnet CI Narrow')\n",
    "plt.xlabel('Model Layer')\n",
    "plt.ylabel('Correlation')\n",
    "plt.gca().spines['top'].set_visible(False)\n",
    "plt.gca().spines['right'].set_visible(False)\n",
    "\n",
    "\n"
   ]
  },
  {
   "cell_type": "code",
   "execution_count": null,
   "id": "6e37603c-f155-41eb-a129-b16f36a04979",
   "metadata": {},
   "outputs": [],
   "source": [
    "alexnet_or_diff=np.abs(alexnet_or[:,0] - alexnet_or[:,1])\n",
    "alexnet_stylized_diff=np.abs(alexnet_stylized[:,0] - alexnet_stylized[:,1])\n",
    "alexnet_cibroad_diff=np.abs(alexnet_cibroad[:,0] - alexnet_cibroad[:,1])\n",
    "alexnet_cinarrow_diff=np.abs(alexnet_cinarrow[:,0] - alexnet_cinarrow[:,1])"
   ]
  },
  {
   "cell_type": "code",
   "execution_count": null,
   "id": "440d6582-e987-4e02-8654-c9e16d52365c",
   "metadata": {},
   "outputs": [],
   "source": [
    "# plt.figure(figsize=(10,6))\n",
    "# plt.plot(np.arange(len(alexnet_or_diff)),alexnet_or_diff,label='Alexnet OR')\n",
    "# plt.plot(np.arange(len(alexnet_stylized_diff)),alexnet_stylized_diff,label='Alexnet Stylized')\n",
    "# plt.plot(np.arange(len(alexnet_cibroad_diff)),alexnet_cibroad_diff,label='Alexnet CI Broad')\n",
    "# plt.plot(np.arange(len(alexnet_cinarrow_diff)),alexnet_cinarrow_diff,label='Alexnet CI Narrow')\n",
    "# plt.gca().spines['top'].set_visible(False)\n",
    "# plt.gca().spines['right'].set_visible(False)\n",
    "# plt.legend()\n",
    "# plt.show()\n"
   ]
  },
  {
   "cell_type": "code",
   "execution_count": null,
   "id": "ddc68b24-0169-44f9-a55d-1b0b9a5d251f",
   "metadata": {},
   "outputs": [],
   "source": [
    "plt.figure(figsize=(10,10))\n",
    "\n",
    "plt.subplot(2,2,1)\n",
    "plt.plot(np.arange(len(alexnet_or_diff)),alexnet_or_diff,label='Alexnet OR')\n",
    "plt.ylim(0.0,0.07)\n",
    "plt.title('Alexnet OR')\n",
    "plt.gca().spines['top'].set_visible(False)\n",
    "plt.gca().spines['right'].set_visible(False)\n",
    "\n",
    "\n",
    "\n",
    "\n",
    "plt.subplot(2,2,2)\n",
    "plt.plot(np.arange(len(alexnet_stylized_diff)),alexnet_stylized_diff,label='Alexnet Stylized')\n",
    "plt.ylim(0.0,0.07)\n",
    "plt.title('Alexnet Stylized')\n",
    "plt.gca().spines['top'].set_visible(False)\n",
    "plt.gca().spines['right'].set_visible(False)\n",
    "\n",
    "\n",
    "\n",
    "\n",
    "plt.subplot(2,2,3)\n",
    "plt.plot(np.arange(len(alexnet_cibroad_diff)),alexnet_cibroad_diff,label='Alexnet CI Broad')\n",
    "plt.ylim(0.0,0.07)\n",
    "plt.title('Alexnet CI Broad')\n",
    "plt.gca().spines['top'].set_visible(False)\n",
    "plt.gca().spines['right'].set_visible(False)\n",
    "\n",
    "\n",
    "\n",
    "\n",
    "plt.subplot(2,2,4)\n",
    "plt.plot(np.arange(len(alexnet_cinarrow_diff)),alexnet_cinarrow_diff,label='Alexnet CI Narrow')\n",
    "plt.ylim(0.0,0.07)\n",
    "plt.title('Alexnet CI Narrow')\n",
    "plt.gca().spines['top'].set_visible(False)\n",
    "plt.gca().spines['right'].set_visible(False)\n",
    "\n",
    "\n"
   ]
  },
  {
   "cell_type": "code",
   "execution_count": null,
   "id": "d4da989a-d478-49b5-b5fd-1f72fdda64e7",
   "metadata": {},
   "outputs": [],
   "source": []
  },
  {
   "cell_type": "markdown",
   "id": "095b0f01-01bf-4dcc-ad2a-c9967b982667",
   "metadata": {},
   "source": [
    "# Previous analysis - OMIT"
   ]
  },
  {
   "cell_type": "markdown",
   "id": "c6b4e823-db89-4afc-a869-16a7ea1193bf",
   "metadata": {},
   "source": [
    "# Supervised regular vs stylized"
   ]
  },
  {
   "cell_type": "code",
   "execution_count": null,
   "id": "665e6076-c0c9-4b66-b400-ee74e485cd8e",
   "metadata": {},
   "outputs": [],
   "source": [
    "sup_regular_frozen_files = glob.glob(\"../../dev/updated_finetuned_models/model_sup-regular_*frozen.pt\")\n",
    "sup_regular_finetune_files = glob.glob(\"../../dev/updated_finetuned_models/model_sup-regular_*finetune.pt\")\n",
    "\n",
    "sup_stylized_frozen_files = glob.glob(\"../../dev/updated_finetuned_models/model_sup-stylized_*frozen.pt\")\n",
    "sup_stylized_finetune_files = glob.glob(\"../../dev/updated_finetuned_models/model_sup-stylized_*finetune.pt\")\n",
    "\n"
   ]
  },
  {
   "cell_type": "code",
   "execution_count": null,
   "id": "1573c145-4090-44cc-b79b-1178191cc0f0",
   "metadata": {},
   "outputs": [],
   "source": [
    "sup_regular_frozen_acc={'train':get_train_val_acc(sup_regular_frozen_files)[0],'val':get_train_val_acc(sup_regular_frozen_files)[1]}\n",
    "\n",
    "sup_regular_finetune_acc={'train':get_train_val_acc(sup_regular_finetune_files)[0],'val':get_train_val_acc(sup_regular_finetune_files)[1]}\n",
    "\n",
    "sup_stylized_frozen_acc={'train':get_train_val_acc(sup_stylized_frozen_files)[0],'val':get_train_val_acc(sup_stylized_frozen_files)[1]}\n",
    "\n",
    "sup_stylized_finetune_acc={'train':get_train_val_acc(sup_stylized_finetune_files)[0],'val':get_train_val_acc(sup_stylized_finetune_files)[1]}"
   ]
  },
  {
   "cell_type": "code",
   "execution_count": null,
   "id": "93bf57ff-c45b-4382-b10f-dce1cba87bf4",
   "metadata": {},
   "outputs": [],
   "source": [
    "sup_stylized_frozen_acc['val']"
   ]
  },
  {
   "cell_type": "code",
   "execution_count": null,
   "id": "320512f6-cda3-45d3-b083-6cf77c627029",
   "metadata": {},
   "outputs": [],
   "source": [
    "plt.figure(figsize=(12,10))\n",
    "\n",
    "\n",
    "\n",
    "plt.plot(np.arange(len(get_list_acc(sup_regular_frozen_acc['val'],list_layers))),get_list_acc(sup_regular_frozen_acc['val'],list_layers),'.',markersize=7,color='r',label='supervised regular frozen')\n",
    "plt.plot(np.arange(len(get_list_acc(sup_regular_frozen_acc['val'],list_layers))),get_list_acc(sup_regular_frozen_acc['val'],list_layers),alpha=0.4,color='r')\n",
    "\n",
    "plt.plot(np.arange(len(get_list_acc(sup_stylized_frozen_acc['val'],list_layers))),get_list_acc(sup_stylized_frozen_acc['val'],list_layers),'.',markersize=7,color='g',label='supervised stylized frozen')\n",
    "plt.plot(np.arange(len(get_list_acc(sup_stylized_frozen_acc['val'],list_layers))),get_list_acc(sup_stylized_frozen_acc['val'],list_layers),alpha=0.4,color='g')\n",
    "\n",
    "\n",
    "for i in range(len(get_list_acc(sup_stylized_frozen_acc['val'],list_layers))):\n",
    "    plt.axvline(i,linestyle='--',alpha=0.1,color='k')\n",
    "\n",
    "plt.xticks(np.arange(len(get_list_acc(sup_stylized_frozen_acc['val'],list_layers))),list_layers,rotation=90,fontsize=15)\n",
    "plt.yticks(fontsize=15) \n",
    "plt.ylim(0.5,1.0)\n",
    "plt.ylabel('Validation Accuracy',fontsize=15)\n",
    "plt.gca().spines['top'].set_visible(False)\n",
    "plt.gca().spines['right'].set_visible(False)\n",
    "plt.legend()\n",
    "plt.title('After 100 epochs of training')\n",
    "plt.show()\n",
    "\n"
   ]
  },
  {
   "cell_type": "code",
   "execution_count": null,
   "id": "8188516b-ff85-4be6-a698-acfe57b73cef",
   "metadata": {},
   "outputs": [],
   "source": [
    "plt.figure(figsize=(12,10))\n",
    "\n",
    "\n",
    "\n",
    "plt.plot(np.arange(len(get_list_acc(sup_regular_finetune_acc['val'],list_layers))),get_list_acc(sup_regular_finetune_acc['val'],list_layers),'.',markersize=7,color='r',label='supervised regular finetune')\n",
    "plt.plot(np.arange(len(get_list_acc(sup_regular_finetune_acc['val'],list_layers))),get_list_acc(sup_regular_finetune_acc['val'],list_layers),alpha=0.4,color='r')\n",
    "\n",
    "plt.plot(np.arange(len(get_list_acc(sup_stylized_finetune_acc['val'],list_layers))),get_list_acc(sup_stylized_finetune_acc['val'],list_layers),'.',markersize=7,color='g',label='supervised stylized finetune')\n",
    "plt.plot(np.arange(len(get_list_acc(sup_stylized_finetune_acc['val'],list_layers))),get_list_acc(sup_stylized_finetune_acc['val'],list_layers),alpha=0.4,color='g')\n",
    "\n",
    "\n",
    "\n",
    "for i in range(len(get_list_acc(sup_stylized_finetune_acc['val'],list_layers))):\n",
    "    plt.axvline(i,linestyle='--',alpha=0.1,color='k')\n",
    "\n",
    "plt.xticks(np.arange(len(get_list_acc(sup_stylized_finetune_acc['val'],list_layers))),list_layers,rotation=90,fontsize=15)\n",
    "plt.yticks(fontsize=15) \n",
    "plt.ylim(0.5,1.0)\n",
    "plt.ylabel('Validation Accuracy',fontsize=15)\n",
    "plt.gca().spines['top'].set_visible(False)\n",
    "plt.gca().spines['right'].set_visible(False)\n",
    "plt.legend()\n",
    "plt.title('After 100 epochs of training')\n",
    "plt.show()\n",
    "    \n",
    "    "
   ]
  },
  {
   "cell_type": "code",
   "execution_count": null,
   "id": "7b765290-ea51-4064-b021-ec4b25bca429",
   "metadata": {},
   "outputs": [],
   "source": [
    "plt.figure(figsize=(12,10))\n",
    "\n",
    "\n",
    "\n",
    "\n",
    "plt.plot(np.arange(len(get_list_acc(sup_regular_frozen_acc['val'],list_layers))),get_list_acc(sup_regular_frozen_acc['val'],list_layers),'.',markersize=7,color='r',label='frozen')\n",
    "plt.plot(np.arange(len(get_list_acc(sup_regular_frozen_acc['val'],list_layers))),get_list_acc(sup_regular_frozen_acc['val'],list_layers),alpha=0.4,color='r')\n",
    "\n",
    "plt.plot(np.arange(len(get_list_acc(sup_regular_finetune_acc['val'],list_layers))),get_list_acc(sup_regular_finetune_acc['val'],list_layers),'.',markersize=7,color='g',label='finetune')\n",
    "plt.plot(np.arange(len(get_list_acc(sup_regular_finetune_acc['val'],list_layers))),get_list_acc(sup_regular_finetune_acc['val'],list_layers),alpha=0.4,color='g')\n",
    "\n",
    "\n",
    "\n",
    "\n",
    "\n",
    "for i in range(len(get_list_acc(sup_stylized_finetune_acc['val'],list_layers))):\n",
    "    plt.axvline(i,linestyle='--',alpha=0.1,color='k')\n",
    "\n",
    "plt.xticks(np.arange(len(get_list_acc(sup_stylized_finetune_acc['val'],list_layers))),list_layers,rotation=90,fontsize=15)\n",
    "plt.yticks(fontsize=15) \n",
    "plt.ylim(0.5,1.0)\n",
    "plt.ylabel('Validation Accuracy',fontsize=15)\n",
    "plt.gca().spines['top'].set_visible(False)\n",
    "plt.gca().spines['right'].set_visible(False)\n",
    "plt.legend()\n",
    "plt.title('After 100 epochs of training')\n",
    "plt.show()\n",
    "    \n",
    "    "
   ]
  },
  {
   "cell_type": "markdown",
   "id": "5e59adea-d064-4dee-8ac0-ea67d6900a15",
   "metadata": {},
   "source": [
    "# Same plots as above but with training accuracy"
   ]
  },
  {
   "cell_type": "code",
   "execution_count": null,
   "id": "d3f9ea87-9f50-4740-96ce-5b621b3911b1",
   "metadata": {},
   "outputs": [],
   "source": [
    "plt.figure(figsize=(12,10))\n",
    "\n",
    "\n",
    "\n",
    "plt.plot(np.arange(len(get_list_acc(sup_regular_frozen_acc['val'],list_layers))),get_list_acc(sup_regular_frozen_acc['val'],list_layers),'.',markersize=7,color='r',label='supervised regular frozen - Val')\n",
    "plt.plot(np.arange(len(get_list_acc(sup_regular_frozen_acc['val'],list_layers))),get_list_acc(sup_regular_frozen_acc['val'],list_layers),alpha=0.4,color='r')\n",
    "plt.plot(np.arange(len(get_list_acc(sup_regular_frozen_acc['train'],list_layers))),get_list_acc(sup_regular_frozen_acc['train'],list_layers),'*',color='r',label='supervised regular frozen - Train')\n",
    "\n",
    "plt.plot(np.arange(len(get_list_acc(sup_stylized_frozen_acc['val'],list_layers))),get_list_acc(sup_stylized_frozen_acc['val'],list_layers),'.',markersize=7,color='g',label='supervised stylized frozen- Val')\n",
    "plt.plot(np.arange(len(get_list_acc(sup_stylized_frozen_acc['val'],list_layers))),get_list_acc(sup_stylized_frozen_acc['val'],list_layers),alpha=0.4,color='g')\n",
    "plt.plot(np.arange(len(get_list_acc(sup_stylized_frozen_acc['train'],list_layers))),get_list_acc(sup_stylized_frozen_acc['train'],list_layers),'*',color='g',label='supervised stylized frozen - Train')\n",
    "\n",
    "\n",
    "for i in range(len(get_list_acc(sup_stylized_frozen_acc['val'],list_layers))):\n",
    "    plt.axvline(i,linestyle='--',alpha=0.1,color='k')\n",
    "\n",
    "plt.xticks(np.arange(len(get_list_acc(sup_stylized_frozen_acc['val'],list_layers))),list_layers,rotation=90,fontsize=15)\n",
    "plt.yticks(fontsize=15) \n",
    "plt.ylabel('Accuracy',fontsize=15)\n",
    "plt.gca().spines['top'].set_visible(False)\n",
    "plt.gca().spines['right'].set_visible(False)\n",
    "plt.legend()\n",
    "plt.title('After 100 epochs of training')\n",
    "plt.show()\n",
    "\n",
    "\n"
   ]
  },
  {
   "cell_type": "code",
   "execution_count": null,
   "id": "9b4a0e6c-d5f1-4111-9d28-3d9bc66b980d",
   "metadata": {},
   "outputs": [],
   "source": [
    "plt.figure(figsize=(12,10))\n",
    "\n",
    "\n",
    "\n",
    "plt.plot(np.arange(len(get_list_acc(sup_regular_finetune_acc['val'],list_layers))),get_list_acc(sup_regular_finetune_acc['val'],list_layers),'.',markersize=7,color='r',label='supervised regular finetune - Val')\n",
    "plt.plot(np.arange(len(get_list_acc(sup_regular_finetune_acc['val'],list_layers))),get_list_acc(sup_regular_finetune_acc['val'],list_layers),alpha=0.4,color='r')\n",
    "plt.plot(np.arange(len(get_list_acc(sup_regular_finetune_acc['train'],list_layers))),get_list_acc(sup_regular_finetune_acc['train'],list_layers),'*',color='r',label='supervised regular finetune - Train')\n",
    "\n",
    "plt.plot(np.arange(len(get_list_acc(sup_stylized_finetune_acc['val'],list_layers))),get_list_acc(sup_stylized_finetune_acc['val'],list_layers),'.',markersize=7,color='g',label='supervised stylized finetune - Val')\n",
    "plt.plot(np.arange(len(get_list_acc(sup_stylized_finetune_acc['val'],list_layers))),get_list_acc(sup_stylized_finetune_acc['val'],list_layers),alpha=0.4,color='g')\n",
    "plt.plot(np.arange(len(get_list_acc(sup_stylized_finetune_acc['train'],list_layers))),get_list_acc(sup_stylized_finetune_acc['train'],list_layers),'*',color='g',label='supervised stylized finetune - Train')\n",
    "\n",
    "\n",
    "\n",
    "for i in range(len(get_list_acc(sup_stylized_finetune_acc['val'],list_layers))):\n",
    "    plt.axvline(i,linestyle='--',alpha=0.1,color='k')\n",
    "\n",
    "plt.xticks(np.arange(len(get_list_acc(sup_stylized_finetune_acc['val'],list_layers))),list_layers,rotation=90,fontsize=15)\n",
    "plt.yticks(fontsize=15) \n",
    "plt.ylabel('Accuracy',fontsize=15)\n",
    "plt.gca().spines['top'].set_visible(False)\n",
    "plt.gca().spines['right'].set_visible(False)\n",
    "plt.legend()\n",
    "plt.title('After 100 epochs of training')\n",
    "plt.show()\n",
    "    \n",
    "    "
   ]
  },
  {
   "cell_type": "markdown",
   "id": "03fafc59-b930-43aa-8760-427912fea0ac",
   "metadata": {},
   "source": [
    "# Convergence"
   ]
  },
  {
   "cell_type": "code",
   "execution_count": null,
   "id": "57cdf007-a1aa-4735-82e9-5019e31e312e",
   "metadata": {},
   "outputs": [],
   "source": [
    "def get_train_val_data(files):\n",
    "    all_models_train_acc={}\n",
    "    all_models_val_acc={}\n",
    "    \n",
    "    all_models_train_loss={}\n",
    "    all_models_val_loss={}\n",
    "\n",
    "    for f in files:\n",
    "        checkpoint=torch.load(f)\n",
    "        \n",
    "        all_models_train_acc[checkpoint['training_config']['layer_name']]=checkpoint['metrics']['train_acc']\n",
    "        all_models_val_acc[checkpoint['training_config']['layer_name']]=checkpoint['metrics']['val_acc']\n",
    "        \n",
    "        all_models_train_loss[checkpoint['training_config']['layer_name']]=checkpoint['metrics']['train_loss']\n",
    "        all_models_val_loss[checkpoint['training_config']['layer_name']]=checkpoint['metrics']['val_loss']\n",
    "    \n",
    "    \n",
    "    return all_models_train_acc,all_models_val_acc, all_models_train_loss, all_models_val_loss"
   ]
  },
  {
   "cell_type": "code",
   "execution_count": null,
   "id": "8c973437-450f-472b-84cc-52a48f6b2a4c",
   "metadata": {},
   "outputs": [],
   "source": [
    "def plot_train_val_data(data_dict,type_data='acc'):\n",
    "    plt.figure(figsize=(25,15))\n",
    "    for i in range(len(list_layers)):\n",
    "\n",
    "\n",
    "        plt.subplot(3,7,i+1)\n",
    "        plt.plot(np.arange(len(data_dict['train_'+type_data][list_layers[i]])),data_dict['train_'+type_data][list_layers[i]],label='train')\n",
    "        plt.plot(np.arange(len(data_dict['val_'+type_data][list_layers[i]])),data_dict['val_'+type_data][list_layers[i]],label='val')\n",
    "        plt.gca().spines['top'].set_visible(False)\n",
    "        plt.gca().spines['right'].set_visible(False)\n",
    "        plt.title(list_layers[i])\n",
    "        \n",
    "        plt.xlabel('Epochs')\n",
    "        if(type_data=='acc'):\n",
    "            plt.ylim(0.4,1.0)\n",
    "    plt.legend()\n",
    "    plt.show()\n",
    "\n"
   ]
  },
  {
   "cell_type": "code",
   "execution_count": null,
   "id": "a5679ba1-453e-4f81-b356-1667ce101cb3",
   "metadata": {},
   "outputs": [],
   "source": [
    "sup_regular_frozen_files = glob.glob(\"../../dev/updated_finetuned_models/model_sup-regular_*frozen.pt\")\n",
    "sup_regular_finetune_files = glob.glob(\"../../dev/updated_finetuned_models/model_sup-regular_*finetune.pt\")\n",
    "\n",
    "sup_stylized_frozen_files = glob.glob(\"../../dev/updated_finetuned_models/model_sup-stylized_*frozen.pt\")\n",
    "sup_stylized_finetune_files = glob.glob(\"../../dev/updated_finetuned_models/model_sup-stylized_*finetune.pt\")\n",
    "\n"
   ]
  },
  {
   "cell_type": "code",
   "execution_count": null,
   "id": "f84878e6-e662-441b-871f-d2572edc026f",
   "metadata": {},
   "outputs": [],
   "source": [
    "sup_regular_frozen_data={'train_acc':get_train_val_data(sup_regular_frozen_files)[0],'val_acc':get_train_val_data(sup_regular_frozen_files)[1], 'train_loss':get_train_val_data(sup_regular_frozen_files)[2], 'val_loss':get_train_val_data(sup_regular_frozen_files)[3]}\n",
    "\n",
    "sup_regular_finetune_data={'train_acc':get_train_val_data(sup_regular_finetune_files)[0],'val_acc':get_train_val_data(sup_regular_finetune_files)[1], 'train_loss':get_train_val_data(sup_regular_finetune_files)[2], 'val_loss':get_train_val_data(sup_regular_finetune_files)[3]}\n",
    "\n",
    "sup_stylized_frozen_data={'train_acc':get_train_val_data(sup_stylized_frozen_files)[0],'val_acc':get_train_val_data(sup_stylized_frozen_files)[1], 'train_loss':get_train_val_data(sup_stylized_frozen_files)[2], 'val_loss':get_train_val_data(sup_stylized_frozen_files)[3]}\n",
    "\n",
    "sup_stylized_finetune_data={'train_acc':get_train_val_data(sup_stylized_finetune_files)[0],'val_acc':get_train_val_data(sup_stylized_finetune_files)[1], 'train_loss':get_train_val_data(sup_stylized_finetune_files)[2], 'val_loss':get_train_val_data(sup_stylized_finetune_files)[3]}"
   ]
  },
  {
   "cell_type": "code",
   "execution_count": null,
   "id": "ef7ff43b-b986-457d-b064-b3798c62bf48",
   "metadata": {},
   "outputs": [],
   "source": []
  },
  {
   "cell_type": "code",
   "execution_count": null,
   "id": "8e1be92d-114b-412f-b964-cea8b074df46",
   "metadata": {},
   "outputs": [],
   "source": []
  },
  {
   "cell_type": "markdown",
   "id": "ab7b3a0a-3790-4ab1-b95c-092cc2988756",
   "metadata": {},
   "source": [
    "### Acc"
   ]
  },
  {
   "cell_type": "code",
   "execution_count": null,
   "id": "6903d973-5124-4ee9-b98f-554f6f586c8b",
   "metadata": {},
   "outputs": [],
   "source": [
    "print('Accuracy Plots')\n",
    "plot_train_val_data(sup_regular_finetune_data,type_data='acc')\n",
    "\n",
    "print('\\n\\n\\n\\n')\n",
    "\n",
    "print('Loss Plots')\n",
    "plot_train_val_data(sup_regular_finetune_data,type_data='loss')"
   ]
  },
  {
   "cell_type": "markdown",
   "id": "154c95e3-12fe-4518-bcb6-4dac90548330",
   "metadata": {},
   "source": []
  },
  {
   "cell_type": "code",
   "execution_count": null,
   "id": "c4e22e0a-af20-43f7-b656-08bbd857713f",
   "metadata": {},
   "outputs": [],
   "source": []
  },
  {
   "cell_type": "code",
   "execution_count": null,
   "id": "3c2eb4c5-b870-4d88-8946-376bed6304ae",
   "metadata": {},
   "outputs": [],
   "source": []
  },
  {
   "cell_type": "code",
   "execution_count": null,
   "id": "f72db98b-8229-4024-8291-086e0d6e3fc4",
   "metadata": {},
   "outputs": [],
   "source": []
  },
  {
   "cell_type": "code",
   "execution_count": null,
   "id": "b9cbad0e-174a-48e8-9ac7-56c5a5f9122c",
   "metadata": {},
   "outputs": [],
   "source": []
  }
 ],
 "metadata": {
  "kernelspec": {
   "display_name": "Python [conda env:root] *",
   "language": "python",
   "name": "conda-root-py"
  },
  "language_info": {
   "codemirror_mode": {
    "name": "ipython",
    "version": 3
   },
   "file_extension": ".py",
   "mimetype": "text/x-python",
   "name": "python",
   "nbconvert_exporter": "python",
   "pygments_lexer": "ipython3",
   "version": "3.7.13"
  }
 },
 "nbformat": 4,
 "nbformat_minor": 5
}
