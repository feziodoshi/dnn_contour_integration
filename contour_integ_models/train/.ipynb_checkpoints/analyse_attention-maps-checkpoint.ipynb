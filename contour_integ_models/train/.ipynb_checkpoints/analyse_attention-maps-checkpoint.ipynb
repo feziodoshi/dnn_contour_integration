{
 "cells": [
  {
   "cell_type": "code",
   "execution_count": 1,
   "metadata": {},
   "outputs": [
    {
     "name": "stdout",
     "output_type": "stream",
     "text": [
      "updated\n"
     ]
    }
   ],
   "source": [
    "%config Completer.use_jedi = False\n",
    "\n",
    "import sys\n",
    "sys.path.insert(1,'../')\n",
    "\n",
    "\n",
    "\n",
    "# Pytorch related\n",
    "import torch\n",
    "import torch.nn as nn\n",
    "import torchvision\n",
    "import torchvision.transforms as transforms\n",
    "from torchvision import datasets, transforms\n",
    "from torch.utils import data as dt\n",
    "from torchinfo import summary\n",
    "import torchvision.models as pretrained_models\n",
    "from alexnet_pytorch import AlexNet\n",
    "import torch.optim as optim\n",
    "from torch.utils.data import Dataset, DataLoader\n",
    "from torch.utils import model_zoo\n",
    "from torch.autograd import Variable\n",
    "\n",
    "\n",
    "\n",
    "# Numpy, Matplotlib, Pandas, Sklearn\n",
    "import numpy as np\n",
    "import pandas as pd\n",
    "import matplotlib.pyplot as plt\n",
    "from matplotlib import patches\n",
    "import seaborn as sns\n",
    "from sklearn import manifold\n",
    "from sklearn.decomposition import PCA\n",
    "from sklearn.metrics import roc_auc_score\n",
    "\n",
    "from scipy.spatial import distance\n",
    "from scipy.stats.stats import pearsonr\n",
    "from scipy import stats\n",
    "\n",
    "%matplotlib inline \n",
    "\n",
    "\n",
    "# python utilities\n",
    "from itertools import combinations\n",
    "import gc\n",
    "import pickle\n",
    "from tqdm import tqdm_notebook as tqdm\n",
    "import copy\n",
    "from ipywidgets import interact, interactive, fixed, interact_manual\n",
    "import ipywidgets as widgets\n",
    "import networkx as nx\n",
    "import os\n",
    "from IPython.display import Image\n",
    "from IPython.core.debugger import set_trace\n",
    "import collections\n",
    "from functools import partial\n",
    "import math\n",
    "import time\n",
    "import glob\n",
    "\n",
    "from PIL import Image, ImageStat\n",
    "from matplotlib.pyplot import imshow\n",
    "\n",
    "# Extra imports\n",
    "from lib.feature_extractor import FeatureExtractor\n",
    "from lib.custom_dataset import Contour_Dataset\n",
    "from lib.build_fe_ft_models import *\n",
    "from lib.misc_functions import *\n",
    "from lib.field_stim_functions import *\n",
    "\n",
    "\n"
   ]
  },
  {
   "cell_type": "markdown",
   "metadata": {},
   "source": [
    "# Hyperparameters"
   ]
  },
  {
   "cell_type": "code",
   "execution_count": 2,
   "metadata": {},
   "outputs": [],
   "source": [
    "visual_diet_config={'root_directory':os.path.expanduser('/home/jovyan/work/Datasets/contour_integration/model-training/config_0/'),'get_B':[0,15,30,45,60,75],'get_D':[32],'get_A':[0],'get_numElements':[12]}\n",
    "\n"
   ]
  },
  {
   "cell_type": "code",
   "execution_count": 3,
   "metadata": {},
   "outputs": [],
   "source": [
    "root_directory=visual_diet_config['root_directory']\n",
    "get_B=visual_diet_config['get_B']\n",
    "get_D=visual_diet_config['get_D']\n",
    "get_A=visual_diet_config['get_A']\n",
    "get_numElements=visual_diet_config['get_numElements']"
   ]
  },
  {
   "cell_type": "code",
   "execution_count": 4,
   "metadata": {},
   "outputs": [],
   "source": [
    "img_dim=512"
   ]
  },
  {
   "cell_type": "code",
   "execution_count": 5,
   "metadata": {},
   "outputs": [
    {
     "data": {
      "text/plain": [
       "device(type='cuda', index=3)"
      ]
     },
     "execution_count": 5,
     "metadata": {},
     "output_type": "execute_result"
    }
   ],
   "source": [
    "batch_size=32\n",
    "num_workers=8\n",
    "device = torch.device('cuda:'+'3')\n",
    "# device = 'cpu'\n",
    "device"
   ]
  },
  {
   "cell_type": "markdown",
   "metadata": {},
   "source": [
    "### Data Transforms"
   ]
  },
  {
   "cell_type": "code",
   "execution_count": 6,
   "metadata": {},
   "outputs": [],
   "source": [
    "# normalize images using parameters from the training image set\n",
    "data_transform = transforms.Compose([       \n",
    " transforms.Resize(img_dim),                   \n",
    " transforms.CenterCrop((img_dim,img_dim)),         \n",
    " transforms.ToTensor(),                    \n",
    " transforms.Normalize(                      \n",
    " mean=[0.485, 0.456, 0.406],                \n",
    " std=[0.229, 0.224, 0.225]                  \n",
    " )])\n",
    "\n",
    "data_transform_without_norm = transforms.Compose([       \n",
    " transforms.Resize(img_dim),                   \n",
    " transforms.CenterCrop((img_dim,img_dim)),         \n",
    " transforms.ToTensor()                    \n",
    " ])"
   ]
  },
  {
   "cell_type": "markdown",
   "metadata": {},
   "source": [
    "# Helper functions"
   ]
  },
  {
   "cell_type": "code",
   "execution_count": 7,
   "metadata": {},
   "outputs": [],
   "source": [
    "def compute_diff_means(arr1, arr2):\n",
    "    mean1 = np.mean(arr1)\n",
    "    mean2 = np.mean(arr2)\n",
    "    \n",
    "    return (mean1 - mean2)"
   ]
  },
  {
   "cell_type": "code",
   "execution_count": 8,
   "metadata": {},
   "outputs": [],
   "source": [
    "def compute_dprime_means(arr1, arr2):\n",
    "    \"\"\"\n",
    "    Compute d' based on the difference of means divided by the pooled standard deviation.\n",
    "    \"\"\"\n",
    "    mean1 = np.mean(arr1)\n",
    "    mean2 = np.mean(arr2)\n",
    "    \n",
    "    var1 = np.var(arr1, ddof=1)  # ddof=1 for sample variance\n",
    "    var2 = np.var(arr2, ddof=1)  # ddof=1 for sample variance\n",
    "    \n",
    "    # Calculate the pooled standard deviation\n",
    "    pooled_std = np.sqrt((var1 + var2) / 2)\n",
    "    \n",
    "    # Compute d'\n",
    "    d_prime = (mean1 - mean2) / pooled_std\n",
    "    \n",
    "    return d_prime"
   ]
  },
  {
   "cell_type": "code",
   "execution_count": 9,
   "metadata": {},
   "outputs": [],
   "source": [
    "def compute_aprime_means(arr1, arr2):\n",
    "    \"\"\"\n",
    "    Compute A' as the area under the ROC curve based on two input arrays.\n",
    "    \"\"\"\n",
    "    # Combine the arrays and create corresponding labels\n",
    "    combined = np.concatenate((arr1, arr2))\n",
    "    labels = np.concatenate((np.ones(len(arr1)), np.zeros(len(arr2))))\n",
    "    \n",
    "    # Compute AUC\n",
    "    a_prime = roc_auc_score(labels, combined)\n",
    "    \n",
    "    return a_prime"
   ]
  },
  {
   "cell_type": "markdown",
   "metadata": {},
   "source": [
    "# Images"
   ]
  },
  {
   "cell_type": "code",
   "execution_count": 11,
   "metadata": {},
   "outputs": [
    {
     "data": {
      "application/vnd.jupyter.widget-view+json": {
       "model_id": "296691194a334d248e376e9f9485e417",
       "version_major": 2,
       "version_minor": 0
      },
      "text/plain": [
       "interactive(children=(IntSlider(value=15, description='beta_val', max=91), IntSlider(value=4, description='img…"
      ]
     },
     "metadata": {},
     "output_type": "display_data"
    }
   ],
   "source": [
    "@interact(beta_val=(0,91,1),img_num=(0,100,1))\n",
    "def get_data(beta_val=15,img_num=4):\n",
    "    \n",
    "    \n",
    "    ### Show the image\n",
    "    val_dataset_norm = Contour_Dataset(root=root_directory,transform=data_transform,train=False,get_B=[beta_val],get_D=get_D,get_A=get_A,get_numElements=get_numElements)\n",
    "    val_loader_norm = torch.utils.data.DataLoader(dataset=val_dataset_norm, batch_size=batch_size, num_workers=num_workers, shuffle=False)\n",
    "\n",
    "    val_dataset_without_norm = Contour_Dataset(root=root_directory,transform=data_transform_without_norm,train=False,get_B=[beta_val],get_D=get_D,get_A=get_A,get_numElements=get_numElements)\n",
    "    val_loader_without_norm = torch.utils.data.DataLoader(dataset=val_dataset_without_norm, batch_size=batch_size, num_workers=num_workers, shuffle=False)\n",
    "\n",
    "\n",
    "    \n",
    "    \n",
    "    a, b, d, alpha, nel, labels, record =next(iter(val_loader_norm))\n",
    "    prep_img=torch.unsqueeze(a[img_num],0)\n",
    "    print('Beta Val: ',b[img_num])\n",
    "    print('Contour Present: ',labels[img_num])\n",
    "    prep_img=prep_img.to(device)\n",
    "    prep_img=Variable(prep_img,requires_grad=True)\n",
    "    ## Plot the orginal image\n",
    "    original_img=np.transpose(prep_img[0].detach().cpu().numpy(),(1,2,0))\n",
    "    plt.figure(figsize=(10,8))\n",
    "    plt.imshow(original_img)\n",
    "    \n",
    "    ## Plot the orginal unnormalized image\n",
    "    plt.figure(figsize=(10,8))\n",
    "    a_without_norm,b, d, alpha, nel, labels, record=next(iter(val_loader_without_norm))\n",
    "    plt.imshow(np.transpose(torch.unsqueeze(a_without_norm[img_num],0)[0].numpy(),(1,2,0)))\n",
    "    \n",
    "    \n",
    "    ## Plot the image with contour\n",
    "    print(record[img_num])\n",
    "    image_recorder_dict=torch.load(record[img_num])\n",
    "    img_contour, img_control, img_contour_background, img_control_background=image_renderer(image_recorder_dict)\n",
    "    display(blend(show_path(image_recorder_dict['path_points'], image_recorder_dict['path_centers'], imHeight=image_recorder_dict['image_height'], imWidth=image_recorder_dict['image_width']),img_contour_background,0.7))\n",
    "    \n",
    "    display(img_contour_background)\n",
    "    display(img_contour)\n",
    "\n",
    "    \n",
    "    "
   ]
  },
  {
   "cell_type": "markdown",
   "metadata": {},
   "source": [
    "# Loading spliced model (just in cpu) example"
   ]
  },
  {
   "cell_type": "code",
   "execution_count": 11,
   "metadata": {},
   "outputs": [],
   "source": [
    "# ## Sup regular \n",
    "# checkpoint=torch.load('../../dev/model_hub/regular_alexnet_broad/model_sup-regular_layer_avgpool_mode_finetune.pt')\n",
    "# # checkpoint=torch.load('../../dev/model_hub/regular_alexnet/model_sup-regular_layer_avgpool_mode_frozen.pt')\n",
    "\n",
    "\n",
    "# ## Resnet50 and Bagnet (9*9 and 33*33)\n",
    "# # checkpoint=torch.load('../../dev/model_hub//bagnet_resnet/model_sup-resnet50_layer_avgpool_mode_finetune.pt')\n",
    "# # checkpoint=torch.load('../../dev/model_hub/bagnet_resnet/model_sup-bagnet_layer_layer4_mode_finetune.pt')\n",
    "# # checkpoint=torch.load('../../dev/model_hub/bagnet_resnet/model_sup-bagnet33_layer_layer4_mode_finetune.pt')\n",
    "\n",
    "\n",
    "# ## Sup stylized\n",
    "# # checkpoint=torch.load('../../dev/model_hub/stylized_alexnet/model_sup-stylized_layer_avgpool_mode_finetune.pt')\n",
    "# # checkpoint=torch.load('../../dev/model_hub/stylized_alexnet/model_sup-stylized_layer_avgpool_mode_frozen.pt')\n",
    "\n",
    "\n",
    "# ## Unsupervised\n",
    "# # checkpoint=torch.load('../../dev/model_hub/unsupervised_alexnet/model_unsup-barlow_layer_backbone_mode_finetune.pt')\n",
    "# # checkpoint=torch.load('../../dev/model_hub/unsupervised_alexnet/model_unsup-barlow_layer_backbone_mode_frozen.pt')\n",
    "\n",
    "# ## Vision Transformer\n",
    "# # checkpoint=torch.load('../../dev/model_hub/vision_transformer/model_vit-regular_layer_transformer-blocks-0-attn_mode_frozen.pt')\n",
    "\n",
    "\n",
    "\n"
   ]
  },
  {
   "cell_type": "code",
   "execution_count": 12,
   "metadata": {},
   "outputs": [],
   "source": [
    "checkpoint=torch.load('../../dev/new_ccn23/alexnet_regimagenet_categ_finetune_broad/model_alexnet-pytorch-regim-categ_layer_avgpool_mode_finetune.pt')"
   ]
  },
  {
   "cell_type": "code",
   "execution_count": 13,
   "metadata": {},
   "outputs": [
    {
     "data": {
      "text/plain": [
       "<matplotlib.legend.Legend at 0x7f1a6951f8d0>"
      ]
     },
     "execution_count": 13,
     "metadata": {},
     "output_type": "execute_result"
    },
    {
     "data": {
      "image/png": "[encoded data removed]",
      "text/plain": [
       "<Figure size 432x288 with 1 Axes>"
      ]
     },
     "metadata": {
      "needs_background": "light"
     },
     "output_type": "display_data"
    }
   ],
   "source": [
    "plt.plot(np.arange(len(checkpoint['metrics']['train_acc'])),checkpoint['metrics']['train_acc'],label='train')\n",
    "plt.plot(np.arange(len(checkpoint['metrics']['val_acc'])),checkpoint['metrics']['val_acc'],label='val')\n",
    "plt.legend()"
   ]
  },
  {
   "cell_type": "code",
   "execution_count": 14,
   "metadata": {},
   "outputs": [
    {
     "data": {
      "text/plain": [
       "_IncompatibleKeys(missing_keys=['base_model.classifier.1.weight', 'base_model.classifier.1.bias', 'base_model.classifier.4.weight', 'base_model.classifier.4.bias', 'base_model.classifier.6.weight', 'base_model.classifier.6.bias'], unexpected_keys=[])"
      ]
     },
     "execution_count": 14,
     "metadata": {},
     "output_type": "execute_result"
    }
   ],
   "source": [
    "loaded_spliced_model=SpliceModel(checkpoint['training_config']['base_model_name'],checkpoint['training_config']['layer_name'],fine_tune=checkpoint['training_config']['fine_tune'],device='cpu')\n",
    "loaded_spliced_model.load_state_dict(checkpoint['model_state_dict'],strict=False)"
   ]
  },
  {
   "cell_type": "markdown",
   "metadata": {},
   "source": [
    "# 1) 1 model, 1 image"
   ]
  },
  {
   "cell_type": "code",
   "execution_count": 15,
   "metadata": {},
   "outputs": [],
   "source": [
    "model_file_paths=glob.glob('../../dev/new_ccn23/alexnet_regimagenet_categ_finetune_broad/*.pt')"
   ]
  },
  {
   "cell_type": "code",
   "execution_count": 16,
   "metadata": {},
   "outputs": [
    {
     "data": {
      "application/vnd.jupyter.widget-view+json": {
       "model_id": "e13d0a529453459c95ac2f8fed92de54",
       "version_major": 2,
       "version_minor": 0
      },
      "text/plain": [
       "interactive(children=(IntSlider(value=15, description='beta_val', max=91), IntSlider(value=4, description='img…"
      ]
     },
     "metadata": {},
     "output_type": "display_data"
    }
   ],
   "source": [
    "@interact(beta_val=(0,91,1),img_num=(0,100,1))\n",
    "def get_data(beta_val=15,img_num=4):\n",
    "    \n",
    "    \n",
    "    ### Show the image\n",
    "    val_dataset_norm = Contour_Dataset(root=root_directory,transform=data_transform,train=False,get_B=[beta_val],get_D=get_D,get_A=get_A,get_numElements=get_numElements)\n",
    "    val_loader_norm = torch.utils.data.DataLoader(dataset=val_dataset_norm, batch_size=batch_size, num_workers=num_workers, shuffle=False)\n",
    "\n",
    "    val_dataset_without_norm = Contour_Dataset(root=root_directory,transform=data_transform_without_norm,train=False,get_B=[beta_val],get_D=get_D,get_A=get_A,get_numElements=get_numElements)\n",
    "    val_loader_without_norm = torch.utils.data.DataLoader(dataset=val_dataset_without_norm, batch_size=batch_size, num_workers=num_workers, shuffle=False)\n",
    "\n",
    "\n",
    "    \n",
    "    \n",
    "    a, b, d, alpha, nel, labels, record =next(iter(val_loader_norm))\n",
    "    prep_img=torch.unsqueeze(a[img_num],0)\n",
    "    print('Beta Val: ',b[img_num])\n",
    "    print('Contour Present: ',labels[img_num])\n",
    "    prep_img=prep_img.to(device)\n",
    "    prep_img=Variable(prep_img,requires_grad=True)\n",
    "    \n",
    "    ## Plot the orginal image\n",
    "    original_img=np.transpose(prep_img[0].detach().cpu().numpy(),(1,2,0))\n",
    "    plt.figure(figsize=(10,8))\n",
    "    plt.imshow(original_img)\n",
    "    # plt.close()\n",
    "    \n",
    "    ## Plot the orginal unnormalized image\n",
    "    plt.figure(figsize=(10,8))\n",
    "    a_without_norm,b, d, alpha, nel, labels, record=next(iter(val_loader_without_norm))\n",
    "    plt.imshow(np.transpose(torch.unsqueeze(a_without_norm[img_num],0)[0].numpy(),(1,2,0)))\n",
    "    \n",
    "    plt.axis('off')\n",
    "    plt.savefig('./dev/ccn_figures/poster/original_image.png', bbox_inches='tight',dpi=300) \n",
    "    # plt.close()\n",
    "    \n",
    "    \n",
    "    @interact(file=model_file_paths)\n",
    "    def vis_image(file,show_vis=False):\n",
    "        \n",
    "\n",
    "        if(show_vis):    \n",
    "            checkpoint=torch.load(file)\n",
    "            print('BASE MODEL IS',checkpoint['training_config']['base_model_name'])\n",
    "            print('Final Val Accuracy is',checkpoint['metrics']['val_acc'][-1])\n",
    "\n",
    "            plt.figure(figsize=(14,4))\n",
    "            plt.subplot(1,2,1)\n",
    "            plt.plot(np.arange(len(checkpoint['metrics']['train_acc'])),checkpoint['metrics']['train_acc'],label='train')\n",
    "            plt.plot(np.arange(len(checkpoint['metrics']['val_acc'])),checkpoint['metrics']['val_acc'],label='val')\n",
    "            plt.ylim(0.5,1.1)\n",
    "            plt.legend()\n",
    "            \n",
    "\n",
    "            try:\n",
    "                plt.subplot(1,2,2)\n",
    "                plt.plot(np.arange(len(checkpoint['metrics']['optim_lr'])),checkpoint['metrics']['optim_lr'],label='lr')\n",
    "                plt.legend()\n",
    "                plt.show()\n",
    "            except:\n",
    "                pass\n",
    "\n",
    "\n",
    "\n",
    "            # loaded_spliced_model=SpliceModel(checkpoint['training_config']['base_model_name'],checkpoint['training_config']['layer_name'],fine_tune=checkpoint['training_config']['fine_tune'],device='cpu')\n",
    "            loaded_spliced_model=SpliceModel(checkpoint['training_config']['base_model_name'],checkpoint['training_config']['layer_name'],fine_tune=checkpoint['training_config']['fine_tune'],device=device)\n",
    "            loaded_spliced_model.load_state_dict(checkpoint['model_state_dict'],strict=False)\n",
    "\n",
    "\n",
    "\n",
    "            \n",
    "\n",
    "            GBP = Spliced_GuidedBackprop(loaded_spliced_model,device)\n",
    "            \n",
    "            \n",
    "\n",
    "            # Get gradients\n",
    "            guided_grads = GBP.generate_gradients(prep_img, 1)\n",
    "\n",
    "            \n",
    "            # Gradients\n",
    "            guided_grads_vis = guided_grads - guided_grads.min()\n",
    "            guided_grads_vis /= guided_grads_vis.max()\n",
    "\n",
    "            plt.figure(figsize=(10,8))\n",
    "            plt.imshow(np.transpose(guided_grads_vis,(1,2,0)))\n",
    "            # plt.close()\n",
    "\n",
    "\n",
    "            # Grayscale Gradients\n",
    "            grayscale_guided_grads = convert_to_grayscale(guided_grads)\n",
    "\n",
    "\n",
    "            grayscale_guided_grads_vis = grayscale_guided_grads - grayscale_guided_grads.min()\n",
    "            grayscale_guided_grads_vis /= grayscale_guided_grads_vis.max()\n",
    "\n",
    "            plt.figure(figsize=(10,8))\n",
    "            plt.imshow(np.squeeze(np.transpose(grayscale_guided_grads_vis,(1,2,0))),cmap='gray')\n",
    "            plt.axis('off')\n",
    "            plt.savefig('./dev/ccn_figures/poster/saliency_image.png',bbox_inches='tight', dpi=300) \n",
    "            # plt.close()\n",
    "\n",
    "\n",
    "\n",
    "\n",
    "            ## Compute saliency maps\n",
    "            print(grayscale_guided_grads_vis.shape)\n",
    "            viz_image=grayscale_guided_grads_vis[0]\n",
    "            \n",
    "            \n",
    "            ## Compute saliency scores\n",
    "            mask_img_path_fg, mask_img_path_bg, list_gauss=mask_renderer(torch.load(record[img_num]),140)\n",
    "            mask_img_path_fg=np.array(mask_img_path_fg)\n",
    "            mask_img_path_bg=np.array(mask_img_path_bg)\n",
    "            \n",
    "            \n",
    "            display(Image.fromarray(mask_img_path_fg))\n",
    "            display(Image.fromarray(mask_img_path_bg))\n",
    "            \n",
    "            Image.fromarray(mask_img_path_fg).save(\"./dev/manuscript_figures/mask_fg.jpg\", dpi=(300, 300))\n",
    "            plt.show()\n",
    "            \n",
    "            \n",
    "            Image.fromarray(mask_img_path_bg).save(\"./dev/manuscript_figures/mask_bg.jpg\", dpi=(300, 300))\n",
    "            plt.show()\n",
    "            \n",
    "            \n",
    "            \n",
    "            sns.distplot(viz_image[np.where(mask_img_path_fg==255)],label='distribution of fg')\n",
    "            sns.distplot(viz_image[np.where(mask_img_path_bg==255)],label='distribution of bg')\n",
    "            plt.title('Distribution of gradients')\n",
    "            plt.legend()\n",
    "            plt.show()\n",
    "\n",
    "\n",
    "            \n",
    "            \n",
    "            saliency_score_diffmean=compute_diff_means(viz_image[np.where(mask_img_path_fg==255)],viz_image[np.where(mask_img_path_bg==255)])\n",
    "            saliency_score_dprime=compute_dprime_means(viz_image[np.where(mask_img_path_fg==255)],viz_image[np.where(mask_img_path_bg==255)])\n",
    "            saliency_score_aprime=compute_aprime_means(viz_image[np.where(mask_img_path_fg==255)],viz_image[np.where(mask_img_path_bg==255)])\n",
    "            \n",
    "            \n",
    "            print('saliency_score_diffmean: \\t', saliency_score_diffmean)\n",
    "            print('saliency_score_diffmean: \\t', saliency_score_dprime)\n",
    "            print('saliency_score_diffmean: \\t',saliency_score_aprime)\n",
    "            \n",
    "                        \n",
    "\n",
    "\n"
   ]
  },
  {
   "cell_type": "code",
   "execution_count": null,
   "metadata": {},
   "outputs": [],
   "source": []
  },
  {
   "cell_type": "markdown",
   "metadata": {},
   "source": [
    "# 2) 1 model, All images"
   ]
  },
  {
   "cell_type": "markdown",
   "metadata": {},
   "source": [
    "## Select the dataset"
   ]
  },
  {
   "cell_type": "code",
   "execution_count": null,
   "metadata": {},
   "outputs": [],
   "source": [
    "val_dataset_norm = Contour_Dataset(root=root_directory,transform=data_transform,train=False,get_B=get_B,get_D=get_D,get_A=get_A,get_numElements=get_numElements)\n",
    "val_loader_norm = torch.utils.data.DataLoader(dataset=val_dataset_norm, batch_size=batch_size, num_workers=num_workers, shuffle=False)\n",
    "print(len(val_dataset_norm))"
   ]
  },
  {
   "cell_type": "markdown",
   "metadata": {},
   "source": [
    "## Select the model"
   ]
  },
  {
   "cell_type": "code",
   "execution_count": null,
   "metadata": {},
   "outputs": [],
   "source": [
    "model_file_paths=sorted(glob.glob('../../dev/new_ccn23/alexnet_regimagenet_categ_finetune_broad/*.pt'))"
   ]
  },
  {
   "cell_type": "code",
   "execution_count": null,
   "metadata": {},
   "outputs": [],
   "source": [
    "for i,file in enumerate(model_file_paths):\n",
    "    print(i,file)"
   ]
  },
  {
   "cell_type": "code",
   "execution_count": null,
   "metadata": {},
   "outputs": [],
   "source": [
    "file=model_file_paths[0]\n",
    "print(file)"
   ]
  },
  {
   "cell_type": "markdown",
   "metadata": {},
   "source": [
    "## Computing the Saliency for all images"
   ]
  },
  {
   "cell_type": "code",
   "execution_count": null,
   "metadata": {},
   "outputs": [],
   "source": [
    "def compute_saliency(prep_img,prep_recorder,file):\n",
    "    prep_img=Variable(prep_img,requires_grad=True).to(device)\n",
    "\n",
    "\n",
    "    # Model\n",
    "    checkpoint=torch.load(file)\n",
    "    \n",
    "    # loaded_spliced_model=SpliceModel(checkpoint['training_config']['base_model_name'],checkpoint['training_config']['layer_name'],fine_tune=checkpoint['training_config']['fine_tune'],device='cpu')\n",
    "    loaded_spliced_model=SpliceModel(checkpoint['training_config']['base_model_name'],checkpoint['training_config']['layer_name'],fine_tune=checkpoint['training_config']['fine_tune'],device=device)\n",
    "\n",
    "    loaded_spliced_model.load_state_dict(checkpoint['model_state_dict'],strict=False)\n",
    "    GBP = Spliced_GuidedBackprop(loaded_spliced_model,device)\n",
    "\n",
    "\n",
    "\n",
    "    # Get gradients\n",
    "    guided_grads = GBP.generate_gradients(prep_img, 1)\n",
    "    # Gradients\n",
    "    guided_grads_vis = guided_grads - guided_grads.min()\n",
    "    guided_grads_vis /= guided_grads_vis.max()\n",
    "\n",
    "    # Grayscale Gradients\n",
    "    grayscale_guided_grads = convert_to_grayscale(guided_grads)\n",
    "    grayscale_guided_grads_vis = grayscale_guided_grads - grayscale_guided_grads.min()\n",
    "    grayscale_guided_grads_vis /= grayscale_guided_grads_vis.max()\n",
    "\n",
    "\n",
    "    # Saliency Score\n",
    "    viz_image=grayscale_guided_grads_vis[0]\n",
    "\n",
    "    mask_img_path_fg, mask_img_path_bg, list_gauss=mask_renderer(torch.load(prep_recorder),140)\n",
    "    mask_img_path_fg=np.array(mask_img_path_fg)\n",
    "    mask_img_path_bg=np.array(mask_img_path_bg)\n",
    "    \n",
    "    \n",
    "    \n",
    "    saliency_score_diffmean=compute_diff_means(viz_image[np.where(mask_img_path_fg==255)],viz_image[np.where(mask_img_path_bg==255)])\n",
    "    saliency_score_dprime=compute_dprime_means(viz_image[np.where(mask_img_path_fg==255)],viz_image[np.where(mask_img_path_bg==255)])\n",
    "    saliency_score_aprime=compute_aprime_means(viz_image[np.where(mask_img_path_fg==255)],viz_image[np.where(mask_img_path_bg==255)])\n",
    "    \n",
    "    \n",
    "    loaded_spliced_model=loaded_spliced_model.to('cpu')\n",
    "    del GBP\n",
    "    torch.cuda.empty_cache()\n",
    "    gc.collect()\n",
    "    \n",
    "    return saliency_score_diffmean,saliency_score_dprime,saliency_score_aprime"
   ]
  },
  {
   "cell_type": "markdown",
   "metadata": {},
   "source": [
    "## Running the loop - 1 model, All images"
   ]
  },
  {
   "cell_type": "code",
   "execution_count": null,
   "metadata": {},
   "outputs": [],
   "source": [
    "all_saliency_score_diff=[]\n",
    "all_saliency_score_dprime=[]\n",
    "all_saliency_score_aprime=[]\n",
    "\n",
    "all_betas=[]\n",
    "all_labels=[]\n",
    "\n",
    "for (a, b, d, alpha, nel, labels, record) in tqdm(val_loader_norm):\n",
    "    for img_num in tqdm(range(a.shape[0]),disable=True):\n",
    "        \n",
    "        prep_img=torch.unsqueeze(a[img_num],0)\n",
    "        prep_recorder=record[img_num]\n",
    "        \n",
    "        saliency_score_diffmean,saliency_score_dprime,saliency_score_aprime=compute_saliency(prep_img,prep_recorder,file)\n",
    "        \n",
    "        all_saliency_score_diff.append(saliency_score_diffmean)\n",
    "        all_saliency_score_dprime.append(saliency_score_dprime)\n",
    "        all_saliency_score_aprime.append(saliency_score_aprime)\n",
    "        \n",
    "        \n",
    "        \n",
    "    all_betas.append(b)\n",
    "    all_labels.append(labels)"
   ]
  },
  {
   "cell_type": "code",
   "execution_count": null,
   "metadata": {},
   "outputs": [],
   "source": [
    "all_betas=torch.cat(all_betas).numpy()\n",
    "all_labels=torch.cat(all_labels).numpy()"
   ]
  },
  {
   "cell_type": "code",
   "execution_count": null,
   "metadata": {},
   "outputs": [],
   "source": [
    "all_saliency_score_diff=np.array(all_saliency_score_diff)\n",
    "all_saliency_score_dprime=np.array(all_saliency_score_dprime)\n",
    "all_saliency_score_aprime=np.array(all_saliency_score_aprime)"
   ]
  },
  {
   "cell_type": "code",
   "execution_count": null,
   "metadata": {},
   "outputs": [],
   "source": []
  },
  {
   "cell_type": "markdown",
   "metadata": {},
   "source": [
    "## Visualizing the scores"
   ]
  },
  {
   "cell_type": "code",
   "execution_count": null,
   "metadata": {},
   "outputs": [],
   "source": [
    "contour_present_pos=np.where(all_labels==1)[0]\n",
    "contour_absent_pos=np.where(all_labels==0)[0]\n"
   ]
  },
  {
   "cell_type": "code",
   "execution_count": null,
   "metadata": {},
   "outputs": [],
   "source": [
    "plt.figure(figsize=(10,4))\n",
    "plt.subplot(1,2,1)\n",
    "sns.distplot(all_saliency_score_diff[contour_present_pos],label='contour_present',color='green')\n",
    "sns.distplot(all_saliency_score_diff[contour_absent_pos],label='contour_absent',color='gray')\n",
    "plt.title('saliency_score_diffmean')\n",
    "plt.legend()\n",
    "\n",
    "plt.subplot(1,2,2)\n",
    "sns.distplot(all_saliency_score_diff[contour_present_pos] - all_saliency_score_diff[contour_absent_pos],label='difference',color='k')\n",
    "plt.title('Alignment Sensitivity')\n",
    "plt.show()\n",
    "\n",
    "plt.show()\n",
    "\n",
    "\n",
    "# Perform the paired t-test\n",
    "t_statistic, p_value = stats.ttest_rel(all_saliency_score_diff[contour_present_pos], all_saliency_score_diff[contour_absent_pos])\n",
    "print(f\"t-statistic: {t_statistic:.4f}\")\n",
    "print(f\"p-value: {p_value:.4f}\")\n",
    "\n"
   ]
  },
  {
   "cell_type": "code",
   "execution_count": null,
   "metadata": {},
   "outputs": [],
   "source": [
    "plt.figure(figsize=(10,4))\n",
    "plt.subplot(1,2,1)\n",
    "sns.distplot(all_saliency_score_dprime[contour_present_pos],label='contour_present',color='green')\n",
    "sns.distplot(all_saliency_score_dprime[contour_absent_pos],label='contour_absent',color='gray')\n",
    "plt.title('saliency_score_dprime')\n",
    "plt.legend()\n",
    "\n",
    "plt.subplot(1,2,2)\n",
    "sns.distplot(all_saliency_score_dprime[contour_present_pos] - all_saliency_score_dprime[contour_absent_pos],label='difference',color='k')\n",
    "plt.title('Alignment Sensitivity')\n",
    "plt.show()\n",
    "\n",
    "\n",
    "# Perform the paired t-test\n",
    "t_statistic, p_value = stats.ttest_rel(all_saliency_score_dprime[contour_present_pos], all_saliency_score_dprime[contour_absent_pos])\n",
    "print(f\"t-statistic: {t_statistic:.4f}\")\n",
    "print(f\"p-value: {p_value:.4f}\")"
   ]
  },
  {
   "cell_type": "code",
   "execution_count": null,
   "metadata": {},
   "outputs": [],
   "source": [
    "plt.figure(figsize=(10,4))\n",
    "plt.subplot(1,2,1)\n",
    "sns.distplot(all_saliency_score_aprime[contour_present_pos],label='contour_present',color='green')\n",
    "sns.distplot(all_saliency_score_aprime[contour_absent_pos],label='contour_absent',color='gray')\n",
    "plt.title('saliency_score_aprime')\n",
    "plt.legend()\n",
    "\n",
    "plt.subplot(1,2,2)\n",
    "sns.distplot(all_saliency_score_aprime[contour_present_pos] - all_saliency_score_aprime[contour_absent_pos],label='difference',color='k')\n",
    "plt.title('Alignment Sensitivity')\n",
    "plt.show()\n",
    "\n",
    "\n",
    "plt.show()\n",
    "\n",
    "\n",
    "# Perform the paired t-test\n",
    "t_statistic, p_value = stats.ttest_rel(all_saliency_score_aprime[contour_present_pos], all_saliency_score_aprime[contour_absent_pos])\n",
    "print(f\"t-statistic: {t_statistic:.4f}\")\n",
    "print(f\"p-value: {p_value:.4f}\")"
   ]
  },
  {
   "cell_type": "code",
   "execution_count": null,
   "metadata": {},
   "outputs": [],
   "source": [
    "plt.figure(figsize=(8,10))\n",
    "# Scatter Plot with Connecting Lines\n",
    "for x1, x2 in zip(all_saliency_score_aprime[contour_absent_pos], all_saliency_score_aprime[contour_present_pos]):\n",
    "    plt.plot([x1, x2], [1, 2], 'ko-', markersize=8,alpha=0.09)\n",
    "    \n",
    "\n",
    "plt.yticks([1, 2], ['Contour absent', 'Contour present'])\n",
    "\n",
    "plt.gca().spines['top'].set_visible(False)\n",
    "plt.gca().spines['right'].set_visible(False)\n",
    "plt.savefig('./dev/manuscript_figures/foreground_sensitivity_contour_present_absent.png',bbox_inches='tight',dpi=300)\n",
    "plt.show()"
   ]
  },
  {
   "cell_type": "code",
   "execution_count": null,
   "metadata": {},
   "outputs": [],
   "source": []
  },
  {
   "cell_type": "code",
   "execution_count": null,
   "metadata": {},
   "outputs": [],
   "source": []
  },
  {
   "cell_type": "markdown",
   "metadata": {},
   "source": [
    "### Beta-wise saliency score"
   ]
  },
  {
   "cell_type": "code",
   "execution_count": null,
   "metadata": {},
   "outputs": [],
   "source": [
    "unique_beta_vals=np.unique(all_betas)\n",
    "unique_beta_saliency_mean=[]\n",
    "unique_beta_saliency_std=[]\n",
    "\n",
    "\n",
    "\n",
    "for i in unique_beta_vals:\n",
    "    \n",
    "    unique_beta_saliency_mean.append(np.mean(all_saliency_score[np.where(all_betas==i)[0]]))\n",
    "    unique_beta_saliency_std.append(np.std(all_saliency_score[np.where(all_betas==i)[0]],ddof=1))"
   ]
  },
  {
   "cell_type": "code",
   "execution_count": null,
   "metadata": {},
   "outputs": [],
   "source": [
    "unique_beta_saliency_mean"
   ]
  },
  {
   "cell_type": "code",
   "execution_count": null,
   "metadata": {},
   "outputs": [],
   "source": [
    "unique_beta_saliency_std"
   ]
  },
  {
   "cell_type": "code",
   "execution_count": null,
   "metadata": {},
   "outputs": [],
   "source": [
    "## ALREADY COMPUTED OVERALL\n",
    "height=unique_beta_saliency_mean\n",
    "error_bar=unique_beta_saliency_std\n",
    "\n",
    "bars=unique_beta_vals\n",
    "y_pos = np.arange(len(bars)) / 3.5\n",
    "color=['green'] * len(unique_beta_vals)\n",
    "\n",
    "plt.figure(figsize=(12,8))\n",
    "\n",
    "plt.gca().bar(y_pos, height, yerr=error_bar, align='center', width=0.09, color=color, alpha=0.2, ecolor='gray', capsize=4)\n",
    "plt.xticks(y_pos, bars,fontsize=15)\n",
    "plt.yticks(fontsize=15)\n",
    "plt.ylim(0.0,1.0)\n",
    "plt.ylabel('Saliency Score',fontsize=25,labelpad=20)\n",
    "plt.xlabel('Beta Values',fontsize=25,labelpad=20)\n",
    "plt.gca().spines['top'].set_visible(False)\n",
    "plt.gca().spines['right'].set_visible(False)\n",
    "plt.gca().spines['left'].set_visible(True)\n",
    "plt.gca().spines['bottom'].set_visible(True)"
   ]
  },
  {
   "cell_type": "code",
   "execution_count": null,
   "metadata": {},
   "outputs": [],
   "source": []
  },
  {
   "cell_type": "code",
   "execution_count": null,
   "metadata": {},
   "outputs": [],
   "source": []
  },
  {
   "cell_type": "markdown",
   "metadata": {},
   "source": [
    "# 3) NEW-All models, All images"
   ]
  },
  {
   "cell_type": "markdown",
   "metadata": {},
   "source": [
    "## Select the dataset"
   ]
  },
  {
   "cell_type": "code",
   "execution_count": 17,
   "metadata": {},
   "outputs": [
    {
     "name": "stdout",
     "output_type": "stream",
     "text": [
      "600\n"
     ]
    }
   ],
   "source": [
    "val_dataset_norm = Contour_Dataset(root=root_directory,transform=data_transform,train=False,get_B=get_B,get_D=get_D,get_A=get_A,get_numElements=get_numElements)\n",
    "val_loader_norm = torch.utils.data.DataLoader(dataset=val_dataset_norm, batch_size=batch_size, num_workers=num_workers, shuffle=False)\n",
    "print(len(val_dataset_norm))"
   ]
  },
  {
   "cell_type": "markdown",
   "metadata": {},
   "source": [
    "## Select the model"
   ]
  },
  {
   "cell_type": "code",
   "execution_count": 18,
   "metadata": {},
   "outputs": [],
   "source": [
    "model_file_paths=sorted(glob.glob('../../dev/new_ccn23/alexnet_regimagenet_categ_finetune_broad/*.pt'))"
   ]
  },
  {
   "cell_type": "code",
   "execution_count": 19,
   "metadata": {},
   "outputs": [
    {
     "name": "stdout",
     "output_type": "stream",
     "text": [
      "0 ../../dev/new_ccn23/alexnet_regimagenet_categ_finetune_broad/model_alexnet-pytorch-regim-categ_layer_avgpool_mode_finetune.pt\n",
      "1 ../../dev/new_ccn23/alexnet_regimagenet_categ_finetune_broad/model_alexnet-pytorch-regim-categ_layer_classifier-0_mode_finetune.pt\n",
      "2 ../../dev/new_ccn23/alexnet_regimagenet_categ_finetune_broad/model_alexnet-pytorch-regim-categ_layer_classifier-1_mode_finetune.pt\n",
      "3 ../../dev/new_ccn23/alexnet_regimagenet_categ_finetune_broad/model_alexnet-pytorch-regim-categ_layer_classifier-2_mode_finetune.pt\n",
      "4 ../../dev/new_ccn23/alexnet_regimagenet_categ_finetune_broad/model_alexnet-pytorch-regim-categ_layer_classifier-3_mode_finetune.pt\n",
      "5 ../../dev/new_ccn23/alexnet_regimagenet_categ_finetune_broad/model_alexnet-pytorch-regim-categ_layer_classifier-4_mode_finetune.pt\n",
      "6 ../../dev/new_ccn23/alexnet_regimagenet_categ_finetune_broad/model_alexnet-pytorch-regim-categ_layer_classifier-5_mode_finetune.pt\n",
      "7 ../../dev/new_ccn23/alexnet_regimagenet_categ_finetune_broad/model_alexnet-pytorch-regim-categ_layer_classifier-6_mode_finetune.pt\n",
      "8 ../../dev/new_ccn23/alexnet_regimagenet_categ_finetune_broad/model_alexnet-pytorch-regim-categ_layer_features-0_mode_finetune.pt\n",
      "9 ../../dev/new_ccn23/alexnet_regimagenet_categ_finetune_broad/model_alexnet-pytorch-regim-categ_layer_features-10_mode_finetune.pt\n",
      "10 ../../dev/new_ccn23/alexnet_regimagenet_categ_finetune_broad/model_alexnet-pytorch-regim-categ_layer_features-11_mode_finetune.pt\n",
      "11 ../../dev/new_ccn23/alexnet_regimagenet_categ_finetune_broad/model_alexnet-pytorch-regim-categ_layer_features-12_mode_finetune.pt\n",
      "12 ../../dev/new_ccn23/alexnet_regimagenet_categ_finetune_broad/model_alexnet-pytorch-regim-categ_layer_features-1_mode_finetune.pt\n",
      "13 ../../dev/new_ccn23/alexnet_regimagenet_categ_finetune_broad/model_alexnet-pytorch-regim-categ_layer_features-2_mode_finetune.pt\n",
      "14 ../../dev/new_ccn23/alexnet_regimagenet_categ_finetune_broad/model_alexnet-pytorch-regim-categ_layer_features-3_mode_finetune.pt\n",
      "15 ../../dev/new_ccn23/alexnet_regimagenet_categ_finetune_broad/model_alexnet-pytorch-regim-categ_layer_features-4_mode_finetune.pt\n",
      "16 ../../dev/new_ccn23/alexnet_regimagenet_categ_finetune_broad/model_alexnet-pytorch-regim-categ_layer_features-5_mode_finetune.pt\n",
      "17 ../../dev/new_ccn23/alexnet_regimagenet_categ_finetune_broad/model_alexnet-pytorch-regim-categ_layer_features-6_mode_finetune.pt\n",
      "18 ../../dev/new_ccn23/alexnet_regimagenet_categ_finetune_broad/model_alexnet-pytorch-regim-categ_layer_features-7_mode_finetune.pt\n",
      "19 ../../dev/new_ccn23/alexnet_regimagenet_categ_finetune_broad/model_alexnet-pytorch-regim-categ_layer_features-8_mode_finetune.pt\n",
      "20 ../../dev/new_ccn23/alexnet_regimagenet_categ_finetune_broad/model_alexnet-pytorch-regim-categ_layer_features-9_mode_finetune.pt\n"
     ]
    }
   ],
   "source": [
    "for i,file in enumerate(model_file_paths):\n",
    "    print(i,file)"
   ]
  },
  {
   "cell_type": "markdown",
   "metadata": {},
   "source": [
    "## Computing the Saliency for all images"
   ]
  },
  {
   "cell_type": "code",
   "execution_count": 20,
   "metadata": {},
   "outputs": [],
   "source": [
    "def compute_saliency(prep_img,prep_recorder,file):\n",
    "    prep_img=Variable(prep_img,requires_grad=True).to(device)\n",
    "\n",
    "\n",
    "    # Model\n",
    "    checkpoint=torch.load(file)\n",
    "    \n",
    "    # loaded_spliced_model=SpliceModel(checkpoint['training_config']['base_model_name'],checkpoint['training_config']['layer_name'],fine_tune=checkpoint['training_config']['fine_tune'],device='cpu')\n",
    "    loaded_spliced_model=SpliceModel(checkpoint['training_config']['base_model_name'],checkpoint['training_config']['layer_name'],fine_tune=checkpoint['training_config']['fine_tune'],device=device)\n",
    "\n",
    "    loaded_spliced_model.load_state_dict(checkpoint['model_state_dict'],strict=False)\n",
    "    GBP = Spliced_GuidedBackprop(loaded_spliced_model,device)\n",
    "\n",
    "\n",
    "\n",
    "    # Get gradients\n",
    "    guided_grads = GBP.generate_gradients(prep_img, 1)\n",
    "    # Gradients\n",
    "    guided_grads_vis = guided_grads - guided_grads.min()\n",
    "    guided_grads_vis /= guided_grads_vis.max()\n",
    "\n",
    "    # Grayscale Gradients\n",
    "    grayscale_guided_grads = convert_to_grayscale(guided_grads)\n",
    "    grayscale_guided_grads_vis = grayscale_guided_grads - grayscale_guided_grads.min()\n",
    "    grayscale_guided_grads_vis /= grayscale_guided_grads_vis.max()\n",
    "\n",
    "\n",
    "    # Saliency Score\n",
    "    viz_image=grayscale_guided_grads_vis[0]\n",
    "\n",
    "    mask_img_path_fg, mask_img_path_bg, list_gauss=mask_renderer(torch.load(prep_recorder),140)\n",
    "    mask_img_path_fg=np.array(mask_img_path_fg)\n",
    "    mask_img_path_bg=np.array(mask_img_path_bg)\n",
    "    \n",
    "    \n",
    "    \n",
    "    saliency_score_diffmean=compute_diff_means(viz_image[np.where(mask_img_path_fg==255)],viz_image[np.where(mask_img_path_bg==255)])\n",
    "    saliency_score_dprime=compute_dprime_means(viz_image[np.where(mask_img_path_fg==255)],viz_image[np.where(mask_img_path_bg==255)])\n",
    "    saliency_score_aprime=compute_aprime_means(viz_image[np.where(mask_img_path_fg==255)],viz_image[np.where(mask_img_path_bg==255)])\n",
    "    \n",
    "    \n",
    "    loaded_spliced_model=loaded_spliced_model.to('cpu')\n",
    "    del GBP\n",
    "    torch.cuda.empty_cache()\n",
    "    gc.collect()\n",
    "    \n",
    "    return saliency_score_diffmean,saliency_score_dprime,saliency_score_aprime"
   ]
  },
  {
   "cell_type": "markdown",
   "metadata": {},
   "source": [
    "## Running the loop - All models, All images"
   ]
  },
  {
   "cell_type": "code",
   "execution_count": 21,
   "metadata": {},
   "outputs": [
    {
     "data": {
      "application/vnd.jupyter.widget-view+json": {
       "model_id": "bcbff649ff8d4cca80174f5f45ddcaa4",
       "version_major": 2,
       "version_minor": 0
      },
      "text/plain": [
       "  0%|          | 0/21 [00:00<?, ?it/s]"
      ]
     },
     "metadata": {},
     "output_type": "display_data"
    },
    {
     "name": "stdout",
     "output_type": "stream",
     "text": [
      "../../dev/new_ccn23/alexnet_regimagenet_categ_finetune_broad/model_alexnet-pytorch-regim-categ_layer_avgpool_mode_finetune.pt\n",
      "../../dev/new_ccn23/alexnet_regimagenet_categ_finetune_broad/model_alexnet-pytorch-regim-categ_layer_classifier-0_mode_finetune.pt\n",
      "../../dev/new_ccn23/alexnet_regimagenet_categ_finetune_broad/model_alexnet-pytorch-regim-categ_layer_classifier-1_mode_finetune.pt\n",
      "../../dev/new_ccn23/alexnet_regimagenet_categ_finetune_broad/model_alexnet-pytorch-regim-categ_layer_classifier-2_mode_finetune.pt\n",
      "../../dev/new_ccn23/alexnet_regimagenet_categ_finetune_broad/model_alexnet-pytorch-regim-categ_layer_classifier-3_mode_finetune.pt\n",
      "../../dev/new_ccn23/alexnet_regimagenet_categ_finetune_broad/model_alexnet-pytorch-regim-categ_layer_classifier-4_mode_finetune.pt\n",
      "../../dev/new_ccn23/alexnet_regimagenet_categ_finetune_broad/model_alexnet-pytorch-regim-categ_layer_classifier-5_mode_finetune.pt\n",
      "../../dev/new_ccn23/alexnet_regimagenet_categ_finetune_broad/model_alexnet-pytorch-regim-categ_layer_classifier-6_mode_finetune.pt\n",
      "../../dev/new_ccn23/alexnet_regimagenet_categ_finetune_broad/model_alexnet-pytorch-regim-categ_layer_features-0_mode_finetune.pt\n",
      "../../dev/new_ccn23/alexnet_regimagenet_categ_finetune_broad/model_alexnet-pytorch-regim-categ_layer_features-10_mode_finetune.pt\n",
      "../../dev/new_ccn23/alexnet_regimagenet_categ_finetune_broad/model_alexnet-pytorch-regim-categ_layer_features-11_mode_finetune.pt\n",
      "../../dev/new_ccn23/alexnet_regimagenet_categ_finetune_broad/model_alexnet-pytorch-regim-categ_layer_features-12_mode_finetune.pt\n",
      "../../dev/new_ccn23/alexnet_regimagenet_categ_finetune_broad/model_alexnet-pytorch-regim-categ_layer_features-1_mode_finetune.pt\n",
      "../../dev/new_ccn23/alexnet_regimagenet_categ_finetune_broad/model_alexnet-pytorch-regim-categ_layer_features-2_mode_finetune.pt\n",
      "../../dev/new_ccn23/alexnet_regimagenet_categ_finetune_broad/model_alexnet-pytorch-regim-categ_layer_features-3_mode_finetune.pt\n",
      "../../dev/new_ccn23/alexnet_regimagenet_categ_finetune_broad/model_alexnet-pytorch-regim-categ_layer_features-4_mode_finetune.pt\n",
      "../../dev/new_ccn23/alexnet_regimagenet_categ_finetune_broad/model_alexnet-pytorch-regim-categ_layer_features-5_mode_finetune.pt\n",
      "../../dev/new_ccn23/alexnet_regimagenet_categ_finetune_broad/model_alexnet-pytorch-regim-categ_layer_features-6_mode_finetune.pt\n",
      "../../dev/new_ccn23/alexnet_regimagenet_categ_finetune_broad/model_alexnet-pytorch-regim-categ_layer_features-7_mode_finetune.pt\n",
      "../../dev/new_ccn23/alexnet_regimagenet_categ_finetune_broad/model_alexnet-pytorch-regim-categ_layer_features-8_mode_finetune.pt\n",
      "../../dev/new_ccn23/alexnet_regimagenet_categ_finetune_broad/model_alexnet-pytorch-regim-categ_layer_features-9_mode_finetune.pt\n"
     ]
    }
   ],
   "source": [
    "model_saliency_score_diff={}\n",
    "model_saliency_score_dprime={}\n",
    "model_saliency_score_aprime={}\n",
    "\n",
    "\n",
    "for file in tqdm(model_file_paths):\n",
    "    print(file)\n",
    "    checkpoint=torch.load(file)\n",
    "    \n",
    "    model_saliency_score_diff[checkpoint['training_config']['layer_name']]=[]\n",
    "    model_saliency_score_dprime[checkpoint['training_config']['layer_name']]=[]\n",
    "    model_saliency_score_aprime[checkpoint['training_config']['layer_name']]=[]\n",
    "    \n",
    "    for (a, b, d, alpha, nel, labels, record) in tqdm(val_loader_norm,disable=True):\n",
    "        \n",
    "        \n",
    "        for img_num in tqdm(range(a.shape[0]),disable=True):\n",
    "            prep_img=torch.unsqueeze(a[img_num],0)\n",
    "            prep_recorder=record[img_num]\n",
    "            \n",
    "            saliency_score_diffmean,saliency_score_dprime,saliency_score_aprime=compute_saliency(prep_img,prep_recorder,file)\n",
    "\n",
    "            model_saliency_score_diff[checkpoint['training_config']['layer_name']].append(saliency_score_diffmean)\n",
    "            model_saliency_score_dprime[checkpoint['training_config']['layer_name']].append(saliency_score_dprime)\n",
    "            model_saliency_score_aprime[checkpoint['training_config']['layer_name']].append(saliency_score_aprime)\n",
    "            \n",
    "        \n",
    "        \n",
    "    model_saliency_score_diff[checkpoint['training_config']['layer_name']]=np.array(model_saliency_score_diff[checkpoint['training_config']['layer_name']])\n",
    "    model_saliency_score_dprime[checkpoint['training_config']['layer_name']]=np.array(model_saliency_score_dprime[checkpoint['training_config']['layer_name']])\n",
    "    model_saliency_score_aprime[checkpoint['training_config']['layer_name']]=np.array(model_saliency_score_aprime[checkpoint['training_config']['layer_name']])\n",
    "    \n",
    "    "
   ]
  },
  {
   "cell_type": "code",
   "execution_count": 23,
   "metadata": {},
   "outputs": [],
   "source": [
    "all_betas=[]\n",
    "all_labels=[]\n",
    "\n",
    "for (a, b, d, alpha, nel, labels, record) in tqdm(val_loader_norm,disable=True):\n",
    "    all_betas.append(b)\n",
    "    all_labels.append(labels)\n",
    "\n",
    "    \n",
    "all_betas=torch.cat(all_betas).numpy()\n",
    "all_labels=torch.cat(all_labels).numpy()"
   ]
  },
  {
   "cell_type": "code",
   "execution_count": null,
   "metadata": {},
   "outputs": [],
   "source": []
  },
  {
   "cell_type": "code",
   "execution_count": 52,
   "metadata": {},
   "outputs": [
    {
     "data": {
      "text/plain": [
       "dict_keys(['avgpool', 'classifier.0', 'classifier.1', 'classifier.2', 'classifier.3', 'classifier.4', 'classifier.5', 'classifier.6', 'features.0', 'features.10', 'features.11', 'features.12', 'features.1', 'features.2', 'features.3', 'features.4', 'features.5', 'features.6', 'features.7', 'features.8', 'features.9'])"
      ]
     },
     "execution_count": 52,
     "metadata": {},
     "output_type": "execute_result"
    }
   ],
   "source": [
    "model_saliency_score_diff.keys()\n",
    "model_saliency_score_dprime.keys()\n",
    "model_saliency_score_aprime.keys()"
   ]
  },
  {
   "cell_type": "markdown",
   "metadata": {},
   "source": [
    "## Visualizing the scores"
   ]
  },
  {
   "cell_type": "code",
   "execution_count": 27,
   "metadata": {},
   "outputs": [],
   "source": [
    "contour_present_pos=np.where(all_labels==1)[0]\n",
    "contour_absent_pos=np.where(all_labels==0)[0]\n"
   ]
  },
  {
   "cell_type": "code",
   "execution_count": 29,
   "metadata": {},
   "outputs": [
    {
     "name": "stderr",
     "output_type": "stream",
     "text": [
      "/opt/conda/lib/python3.7/site-packages/seaborn/distributions.py:2619: FutureWarning: `distplot` is a deprecated function and will be removed in a future version. Please adapt your code to use either `displot` (a figure-level function with similar flexibility) or `histplot` (an axes-level function for histograms).\n",
      "  warnings.warn(msg, FutureWarning)\n",
      "/opt/conda/lib/python3.7/site-packages/seaborn/distributions.py:2619: FutureWarning: `distplot` is a deprecated function and will be removed in a future version. Please adapt your code to use either `displot` (a figure-level function with similar flexibility) or `histplot` (an axes-level function for histograms).\n",
      "  warnings.warn(msg, FutureWarning)\n",
      "/opt/conda/lib/python3.7/site-packages/seaborn/distributions.py:2619: FutureWarning: `distplot` is a deprecated function and will be removed in a future version. Please adapt your code to use either `displot` (a figure-level function with similar flexibility) or `histplot` (an axes-level function for histograms).\n",
      "  warnings.warn(msg, FutureWarning)\n"
     ]
    },
    {
     "data": {
      "image/png": "[encoded data removed]",
      "text/plain": [
       "<Figure size 720x288 with 2 Axes>"
      ]
     },
     "metadata": {
      "needs_background": "light"
     },
     "output_type": "display_data"
    }
   ],
   "source": [
    "plt.figure(figsize=(10,4))\n",
    "plt.subplot(1,2,1)\n",
    "sns.distplot(model_saliency_score_aprime['avgpool'][contour_present_pos],label='contour_present',color='green')\n",
    "sns.distplot(model_saliency_score_aprime['avgpool'][contour_absent_pos],label='contour_absent',color='gray')\n",
    "plt.title('saliency_score_aprime')\n",
    "plt.legend()\n",
    "\n",
    "plt.subplot(1,2,2)\n",
    "sns.distplot(model_saliency_score_aprime['avgpool'][contour_present_pos] - model_saliency_score_aprime['avgpool'][contour_absent_pos],label='difference',color='k')\n",
    "plt.title('Alignment Sensitivity')\n",
    "plt.show()\n",
    "\n",
    "\n",
    "plt.show()\n"
   ]
  },
  {
   "cell_type": "code",
   "execution_count": 30,
   "metadata": {},
   "outputs": [
    {
     "data": {
      "image/png": "[encoded data removed]",
      "text/plain": [
       "<Figure size 576x720 with 1 Axes>"
      ]
     },
     "metadata": {
      "needs_background": "light"
     },
     "output_type": "display_data"
    }
   ],
   "source": [
    "plt.figure(figsize=(8,10))\n",
    "# Scatter Plot with Connecting Lines\n",
    "for x1, x2 in zip(model_saliency_score_aprime['avgpool'][contour_absent_pos], model_saliency_score_aprime['avgpool'][contour_present_pos]):\n",
    "    plt.plot([x1, x2], [1, 2], 'ko-', markersize=8,alpha=0.09)\n",
    "    \n",
    "\n",
    "plt.yticks([1, 2], ['Contour absent', 'Contour present'])\n",
    "\n",
    "plt.gca().spines['top'].set_visible(False)\n",
    "plt.gca().spines['right'].set_visible(False)\n",
    "\n",
    "plt.show()"
   ]
  },
  {
   "cell_type": "markdown",
   "metadata": {},
   "source": [
    "### Visualzing all the models"
   ]
  },
  {
   "cell_type": "code",
   "execution_count": 45,
   "metadata": {},
   "outputs": [],
   "source": [
    "def get_foreground_sensitivity_allmodels(sal_dict,list_layers,pos):\n",
    "    mean_sal=[]\n",
    "    std_sal=[]\n",
    "    confint_sal=[]\n",
    "    confint_lower=[]\n",
    "    confint_upper=[]\n",
    "    \n",
    "    \n",
    "    \n",
    "    for i in range(len(list_layers)):\n",
    "        layer=list_layers[i]\n",
    "        \n",
    "        \n",
    "        if layer in sal_dict.keys():\n",
    "            \n",
    "            \n",
    "            mean_sal.append(np.mean(sal_dict[layer][pos]))\n",
    "            std_sal.append(np.std(sal_dict[layer][pos],ddof=1))\n",
    "            \n",
    "            \n",
    "            \n",
    "            confint_sal.append(1.96*(np.std(sal_dict[layer][pos],ddof=1) / np.sqrt(len(sal_dict[layer][pos]))))\n",
    "            confint_lower.append(np.percentile(sal_dict[layer][pos], 2.5))\n",
    "            confint_upper.append(np.percentile(sal_dict[layer][pos], 97.5))\n",
    "            \n",
    "    return mean_sal,std_sal,confint_sal,confint_lower,confint_upper\n"
   ]
  },
  {
   "cell_type": "code",
   "execution_count": 63,
   "metadata": {},
   "outputs": [],
   "source": [
    "def get_alignment_sensitivity_allmodels(sal_dict,list_layers,present_pos,absent_pos):\n",
    "    \n",
    "    mean_sal=[]\n",
    "    std_sal=[]\n",
    "    confint_sal=[]\n",
    "    confint_lower=[]\n",
    "    confint_upper=[]\n",
    "    \n",
    "    \n",
    "    \n",
    "    for i in range(len(list_layers)):\n",
    "        layer=list_layers[i]\n",
    "        \n",
    "        \n",
    "        if layer in sal_dict.keys():\n",
    "            \n",
    "            \n",
    "            diff_values=sal_dict[layer][present_pos] - sal_dict[layer][absent_pos]\n",
    "            \n",
    "            mean_sal.append(np.mean(diff_values))\n",
    "            std_sal.append(np.std(diff_values))\n",
    "            \n",
    "            \n",
    "            \n",
    "            confint_sal.append(1.96*(np.std(diff_values) / np.sqrt(len(diff_values))))\n",
    "            confint_lower.append(np.percentile(diff_values, 2.5))\n",
    "            confint_upper.append(np.percentile(diff_values, 97.5))\n",
    "            \n",
    "    return mean_sal,std_sal,confint_sal,confint_lower,confint_upper\n"
   ]
  },
  {
   "cell_type": "code",
   "execution_count": null,
   "metadata": {},
   "outputs": [],
   "source": []
  },
  {
   "cell_type": "code",
   "execution_count": 65,
   "metadata": {},
   "outputs": [],
   "source": []
  },
  {
   "cell_type": "code",
   "execution_count": null,
   "metadata": {},
   "outputs": [],
   "source": []
  },
  {
   "cell_type": "code",
   "execution_count": null,
   "metadata": {},
   "outputs": [],
   "source": []
  },
  {
   "cell_type": "code",
   "execution_count": 46,
   "metadata": {},
   "outputs": [],
   "source": [
    "list_layers=['features_0',\n",
    " 'features_1',\n",
    " 'features_2',\n",
    " 'features_3',\n",
    " 'features_4',\n",
    " 'features_5',\n",
    " 'features_6',\n",
    " 'features_7',\n",
    " 'features_8',\n",
    " 'features_9',\n",
    " 'features_10',\n",
    " 'features_11',\n",
    " 'features_12',\n",
    " 'avgpool',\n",
    " 'classifier_0',\n",
    " 'classifier_1',\n",
    " 'classifier_2',\n",
    " 'classifier_3',\n",
    " 'classifier_4',\n",
    " 'classifier_5',\n",
    " 'classifier_6']\n",
    "\n",
    "for i in range(len(list_layers)):\n",
    "    list_layers[i]=list_layers[i].replace('_','.')"
   ]
  },
  {
   "cell_type": "code",
   "execution_count": 47,
   "metadata": {},
   "outputs": [
    {
     "data": {
      "text/plain": [
       "(600,)"
      ]
     },
     "execution_count": 47,
     "metadata": {},
     "output_type": "execute_result"
    }
   ],
   "source": [
    "model_saliency_score_aprime['avgpool'].shape"
   ]
  },
  {
   "cell_type": "code",
   "execution_count": 48,
   "metadata": {},
   "outputs": [],
   "source": [
    "contour_present_pos=np.where(all_labels==1)[0]\n",
    "contour_absent_pos=np.where(all_labels==0)[0]"
   ]
  },
  {
   "cell_type": "code",
   "execution_count": 74,
   "metadata": {},
   "outputs": [
    {
     "name": "stderr",
     "output_type": "stream",
     "text": [
      "/opt/conda/lib/python3.7/site-packages/ipykernel_launcher.py:13: UserWarning: marker is redundantly defined by the 'marker' keyword argument and the fmt string \"o\" (-> marker='o'). The keyword argument will take precedence.\n",
      "  del sys.path[0]\n"
     ]
    },
    {
     "data": {
      "image/png": "[encoded data removed]",
      "text/plain": [
       "<Figure size 1584x720 with 1 Axes>"
      ]
     },
     "metadata": {
      "needs_background": "light"
     },
     "output_type": "display_data"
    }
   ],
   "source": [
    "mean_sal,std_sal,confint_sal,confint_lower,confint_upper=get_foreground_sensitivity_allmodels(model_saliency_score_diff,list_layers,contour_present_pos)\n",
    "\n",
    "\n",
    "\n",
    "plt.figure(figsize=(22,10))\n",
    "color_or_finetune=(78/255,121/255,180/255)\n",
    "spacing_x=2\n",
    "error_bar_width=3\n",
    "error_bar_cap=4\n",
    "\n",
    "plt.errorbar(np.arange(len(mean_sal)) * spacing_x, mean_sal, yerr=confint_sal, \n",
    "             capsize=error_bar_cap,elinewidth=error_bar_width,fmt='o',marker='o', color=color_or_finetune, markersize=10, \n",
    "             label='or finetune', alpha=0.8)\n",
    "\n",
    "\n",
    "\n",
    "\n",
    "\n",
    "plt.xticks(np.arange(len(mean_sal)) * spacing_x,list_layers,rotation=90,fontsize=15)\n",
    "plt.yticks(fontsize=15) \n",
    "\n",
    "\n",
    "plt.ylabel('Diff of means',fontsize=15)\n",
    "plt.gca().spines['top'].set_visible(False)\n",
    "plt.gca().spines['right'].set_visible(False)\n",
    "plt.title('Foreground Sensitivity in Contour Images',fontsize=15)\n",
    "\n",
    "plt.savefig('./dev/manuscript_figures/foreground_sensitivity_allmodel_diffmean.png', format='png', dpi=600)\n",
    "\n",
    "plt.show()\n",
    "    \n",
    "    \n",
    "    \n",
    "    "
   ]
  },
  {
   "cell_type": "code",
   "execution_count": 75,
   "metadata": {},
   "outputs": [
    {
     "name": "stderr",
     "output_type": "stream",
     "text": [
      "/opt/conda/lib/python3.7/site-packages/ipykernel_launcher.py:13: UserWarning: marker is redundantly defined by the 'marker' keyword argument and the fmt string \"o\" (-> marker='o'). The keyword argument will take precedence.\n",
      "  del sys.path[0]\n"
     ]
    },
    {
     "data": {
      "image/png": "[encoded data removed]",
      "text/plain": [
       "<Figure size 1584x720 with 1 Axes>"
      ]
     },
     "metadata": {
      "needs_background": "light"
     },
     "output_type": "display_data"
    }
   ],
   "source": [
    "mean_sal,std_sal,confint_sal,confint_lower,confint_upper=get_foreground_sensitivity_allmodels(model_saliency_score_aprime,list_layers,contour_present_pos)\n",
    "\n",
    "\n",
    "\n",
    "plt.figure(figsize=(22,10))\n",
    "color_or_finetune=(78/255,121/255,180/255)\n",
    "spacing_x=2\n",
    "error_bar_width=3\n",
    "error_bar_cap=4\n",
    "\n",
    "plt.errorbar(np.arange(len(mean_sal)) * spacing_x, mean_sal, yerr=confint_sal, \n",
    "             capsize=error_bar_cap,elinewidth=error_bar_width,fmt='o',marker='o', color=color_or_finetune, markersize=10, \n",
    "             label='or finetune', alpha=0.8)\n",
    "\n",
    "\n",
    "\n",
    "\n",
    "\n",
    "plt.xticks(np.arange(len(mean_sal)) * spacing_x,list_layers,rotation=90,fontsize=15)\n",
    "plt.yticks(fontsize=15) \n",
    "\n",
    "\n",
    "plt.ylabel('Aprime',fontsize=15)\n",
    "plt.gca().spines['top'].set_visible(False)\n",
    "plt.gca().spines['right'].set_visible(False)\n",
    "plt.title('Foreground Sensitivity in Contour Images',fontsize=15)\n",
    "\n",
    "plt.savefig('./dev/manuscript_figures/foreground_sensitivity_allmodel_aprime.png', format='png', dpi=600)\n",
    "plt.show()\n",
    "    \n",
    "    \n",
    "    \n",
    "    "
   ]
  },
  {
   "cell_type": "code",
   "execution_count": 76,
   "metadata": {},
   "outputs": [
    {
     "name": "stderr",
     "output_type": "stream",
     "text": [
      "/opt/conda/lib/python3.7/site-packages/ipykernel_launcher.py:11: UserWarning: marker is redundantly defined by the 'marker' keyword argument and the fmt string \"o\" (-> marker='o'). The keyword argument will take precedence.\n",
      "  # This is added back by InteractiveShellApp.init_path()\n"
     ]
    },
    {
     "data": {
      "image/png": "[encoded data removed]",
      "text/plain": [
       "<Figure size 1584x720 with 1 Axes>"
      ]
     },
     "metadata": {
      "needs_background": "light"
     },
     "output_type": "display_data"
    }
   ],
   "source": [
    "mean_sal,std_sal,confint_sal,confint_lower,confint_upper=get_alignment_sensitivity_allmodels(model_saliency_score_aprime,list_layers,contour_present_pos,contour_absent_pos)\n",
    "\n",
    "plt.figure(figsize=(22,10))\n",
    "color_or_finetune=(78/255,121/255,180/255)\n",
    "spacing_x=2\n",
    "error_bar_width=3\n",
    "error_bar_cap=4\n",
    "\n",
    "plt.errorbar(np.arange(len(mean_sal)) * spacing_x, mean_sal, yerr=confint_sal, \n",
    "             capsize=error_bar_cap,elinewidth=error_bar_width,fmt='o',marker='o', color=color_or_finetune, markersize=10, \n",
    "             label='or finetune', alpha=0.8)\n",
    "\n",
    "\n",
    "\n",
    "\n",
    "\n",
    "plt.xticks(np.arange(len(mean_sal)) * spacing_x,list_layers,rotation=90,fontsize=15)\n",
    "plt.yticks(fontsize=15) \n",
    "\n",
    "\n",
    "plt.ylabel('Aprime',fontsize=15)\n",
    "plt.gca().spines['top'].set_visible(False)\n",
    "plt.gca().spines['right'].set_visible(False)\n",
    "plt.title('Alignment Sensitivity in Contour Images',fontsize=15)\n",
    "\n",
    "plt.savefig('./dev/manuscript_figures/alignment_sensitivity_allmodel_aprime.png', format='png', dpi=600)\n",
    "plt.show()\n",
    "    \n"
   ]
  },
  {
   "cell_type": "code",
   "execution_count": null,
   "metadata": {},
   "outputs": [],
   "source": []
  },
  {
   "cell_type": "code",
   "execution_count": null,
   "metadata": {},
   "outputs": [],
   "source": []
  },
  {
   "cell_type": "code",
   "execution_count": null,
   "metadata": {},
   "outputs": [],
   "source": []
  },
  {
   "cell_type": "code",
   "execution_count": null,
   "metadata": {},
   "outputs": [],
   "source": []
  },
  {
   "cell_type": "code",
   "execution_count": null,
   "metadata": {},
   "outputs": [],
   "source": []
  },
  {
   "cell_type": "code",
   "execution_count": null,
   "metadata": {},
   "outputs": [],
   "source": []
  },
  {
   "cell_type": "code",
   "execution_count": null,
   "metadata": {},
   "outputs": [],
   "source": []
  },
  {
   "cell_type": "code",
   "execution_count": null,
   "metadata": {},
   "outputs": [],
   "source": []
  },
  {
   "cell_type": "code",
   "execution_count": null,
   "metadata": {},
   "outputs": [],
   "source": []
  },
  {
   "cell_type": "code",
   "execution_count": null,
   "metadata": {},
   "outputs": [],
   "source": []
  },
  {
   "cell_type": "code",
   "execution_count": null,
   "metadata": {},
   "outputs": [],
   "source": []
  },
  {
   "cell_type": "code",
   "execution_count": null,
   "metadata": {},
   "outputs": [],
   "source": []
  },
  {
   "cell_type": "code",
   "execution_count": null,
   "metadata": {},
   "outputs": [],
   "source": []
  },
  {
   "cell_type": "code",
   "execution_count": null,
   "metadata": {},
   "outputs": [],
   "source": []
  },
  {
   "cell_type": "markdown",
   "metadata": {},
   "source": [
    "# Analyze signal detection"
   ]
  },
  {
   "cell_type": "code",
   "execution_count": null,
   "metadata": {},
   "outputs": [],
   "source": [
    "val_dataset_norm = Contour_Dataset(root=root_directory,transform=data_transform,train=False,get_B=[0,15,30,45,60,75],get_D=get_D,get_alpha=get_alpha)\n",
    "val_loader_norm = torch.utils.data.DataLoader(dataset=val_dataset_norm, batch_size=100, num_workers=num_workers, shuffle=False)"
   ]
  },
  {
   "cell_type": "code",
   "execution_count": null,
   "metadata": {},
   "outputs": [],
   "source": [
    "sup_regular_finetune_files = glob.glob(\"../../dev/updated_finetuned_models/model_sup-regular_*finetune.pt\")\n",
    "# sup_regular_finetune_files = glob.glob(\"../../dev/updated_finetuned_models/model_sup-regular_*frozen.pt\")"
   ]
  },
  {
   "cell_type": "code",
   "execution_count": null,
   "metadata": {},
   "outputs": [],
   "source": [
    "for i,file in enumerate(sup_regular_finetune_files):\n",
    "    print(i,file)"
   ]
  },
  {
   "cell_type": "code",
   "execution_count": null,
   "metadata": {},
   "outputs": [],
   "source": [
    "file=sup_regular_finetune_files[6]"
   ]
  },
  {
   "cell_type": "code",
   "execution_count": null,
   "metadata": {},
   "outputs": [],
   "source": [
    "file"
   ]
  },
  {
   "cell_type": "code",
   "execution_count": null,
   "metadata": {},
   "outputs": [],
   "source": [
    "checkpoint=torch.load(file)\n",
    "\n",
    "loaded_spliced_model=SpliceModel(checkpoint['training_config']['base_model_name'],checkpoint['training_config']['layer_name'],fine_tune=checkpoint['training_config']['fine_tune'],device=device)\n",
    "\n",
    "loaded_spliced_model.load_state_dict(checkpoint['model_state_dict'],strict=False)"
   ]
  },
  {
   "cell_type": "code",
   "execution_count": null,
   "metadata": {},
   "outputs": [],
   "source": [
    "softmax_layer=nn.Softmax(dim=1)"
   ]
  },
  {
   "cell_type": "code",
   "execution_count": null,
   "metadata": {},
   "outputs": [],
   "source": [
    "all_betas=[]\n",
    "all_labels=[]\n",
    "all_outputs=[]\n",
    "all_preds=[]\n",
    "\n",
    "for (a,b, c, image_recorder) in val_loader_norm:\n",
    "    a=a.to(device)\n",
    "    output=loaded_spliced_model.forward(a).detach().cpu()\n",
    "    _, preds = torch.max(output, 1)\n",
    "        \n",
    "    all_preds.append(preds)\n",
    "    all_outputs.append(softmax_layer(output))\n",
    "    # all_outputs.append(output)\n",
    "    \n",
    "    all_betas.append(b)\n",
    "    all_labels.append(c)"
   ]
  },
  {
   "cell_type": "code",
   "execution_count": null,
   "metadata": {},
   "outputs": [],
   "source": [
    "all_betas=torch.cat(all_betas).numpy()\n",
    "all_labels=torch.cat(all_labels).numpy()\n",
    "all_preds=torch.cat(all_preds).numpy()\n",
    "all_outputs=torch.cat(all_outputs).numpy()\n"
   ]
  },
  {
   "cell_type": "code",
   "execution_count": null,
   "metadata": {},
   "outputs": [],
   "source": [
    "all_betas.shape"
   ]
  },
  {
   "cell_type": "code",
   "execution_count": null,
   "metadata": {},
   "outputs": [],
   "source": [
    "unique_beta_vals=np.unique(all_betas)\n",
    "unique_beta_signal=[]\n",
    "unique_beta_acc=[]\n",
    "\n",
    "\n",
    "for i in unique_beta_vals:\n",
    "    \n",
    "    acc=np.mean(all_labels[np.where(all_betas==i)[0]] == all_preds[np.where(all_betas==i)[0]])\n",
    "    unique_beta_acc.append(acc)\n",
    "    \n",
    "    ## signal\n",
    "    # t=all_outputs[np.where((all_labels==1) & (all_betas==i))[0]]\n",
    "    t=all_outputs[np.where(all_betas==i)[0]]\n",
    "    \n",
    "    unique_beta_signal.append(np.mean(t[:,1] - t[:,0]))"
   ]
  },
  {
   "cell_type": "code",
   "execution_count": null,
   "metadata": {},
   "outputs": [],
   "source": [
    "unique_beta_vals"
   ]
  },
  {
   "cell_type": "code",
   "execution_count": null,
   "metadata": {},
   "outputs": [],
   "source": [
    "unique_beta_acc"
   ]
  },
  {
   "cell_type": "code",
   "execution_count": null,
   "metadata": {},
   "outputs": [],
   "source": [
    "unique_beta_signal"
   ]
  },
  {
   "cell_type": "markdown",
   "metadata": {},
   "source": [
    "#### Comparing with D.F and A.H data"
   ]
  },
  {
   "cell_type": "code",
   "execution_count": null,
   "metadata": {},
   "outputs": [],
   "source": [
    "human_data_beta_val=[15,30,45,60,75]\n",
    "human_data_beta_acc=[0.9897868561278863, 0.8716696269982238, 0.8579040852575489, 0.6096802841918294, 0.5648312611012434]"
   ]
  },
  {
   "cell_type": "code",
   "execution_count": null,
   "metadata": {},
   "outputs": [],
   "source": [
    "unique_beta_acc"
   ]
  },
  {
   "cell_type": "code",
   "execution_count": null,
   "metadata": {},
   "outputs": [],
   "source": [
    "np.corrcoef(unique_beta_signal[1:],human_data_beta_acc)"
   ]
  },
  {
   "cell_type": "code",
   "execution_count": null,
   "metadata": {},
   "outputs": [],
   "source": [
    "np.corrcoef(unique_beta_acc[1:],human_data_beta_acc)"
   ]
  },
  {
   "cell_type": "code",
   "execution_count": null,
   "metadata": {},
   "outputs": [],
   "source": [
    "plt.figure(figsize=(17,15))\n",
    "\n",
    "\n",
    "plt.plot(human_data_beta_val,human_data_beta_acc,marker='.',markersize=10,label='human',color='k',linestyle='dashdot',linewidth=4)\n",
    "    \n",
    "    \n",
    "xtick_positions=[0,15,30,45,60,75]\n",
    "plt.xticks(ticks=xtick_positions)\n",
    "for i in xtick_positions:\n",
    "    plt.axvline(x=i,linestyle='--',color='k',alpha=0.3)\n",
    "\n",
    "plt.axhline(y=0.5,linestyle='dashed',color='red',label='chance')\n",
    "plt.ylim(0.4,1.05)\n",
    "plt.xlabel('Beta values',fontsize=15)\n",
    "plt.ylabel('Accuracy',fontsize=15)\n",
    "\n",
    "# plt.legend()\n",
    "plt.legend(loc=1)\n",
    "\n",
    "plt.gca().spines['right'].set_visible(False)\n",
    "plt.gca().spines['top'].set_visible(False)\n",
    "plt.show()"
   ]
  },
  {
   "cell_type": "markdown",
   "metadata": {},
   "source": [
    "# Analyze other images [Gaboriforms]"
   ]
  },
  {
   "cell_type": "code",
   "execution_count": null,
   "metadata": {},
   "outputs": [],
   "source": [
    "sup_regular_finetune_files = glob.glob(\"../../dev/updated_finetuned_models/model_sup-regular_*finetune.pt\")\n",
    "# sup_regular_finetune_files = glob.glob(\"../../dev/updated_finetuned_models/model_sup-regular_*frozen.pt\")"
   ]
  },
  {
   "cell_type": "code",
   "execution_count": null,
   "metadata": {},
   "outputs": [],
   "source": [
    "for i,file in enumerate(sup_regular_finetune_files):\n",
    "    print(i,file)"
   ]
  },
  {
   "cell_type": "code",
   "execution_count": null,
   "metadata": {},
   "outputs": [],
   "source": [
    "file=sup_regular_finetune_files[6]"
   ]
  },
  {
   "cell_type": "code",
   "execution_count": null,
   "metadata": {},
   "outputs": [],
   "source": [
    "file"
   ]
  },
  {
   "cell_type": "code",
   "execution_count": null,
   "metadata": {},
   "outputs": [],
   "source": [
    "checkpoint=torch.load(file)\n",
    "\n",
    "loaded_spliced_model=SpliceModel(checkpoint['training_config']['base_model_name'],checkpoint['training_config']['layer_name'],fine_tune=checkpoint['training_config']['fine_tune'],device=device)\n",
    "\n",
    "loaded_spliced_model.load_state_dict(checkpoint['model_state_dict'],strict=False)"
   ]
  },
  {
   "cell_type": "code",
   "execution_count": null,
   "metadata": {},
   "outputs": [],
   "source": [
    "# normalize images using parameters from the training image set\n",
    "just_vis_transform= transforms.Compose([       \n",
    " transforms.Resize(256),transforms.Pad(128),\n",
    " transforms.CenterCrop((512,512)),transforms.ToTensor()])"
   ]
  },
  {
   "cell_type": "code",
   "execution_count": null,
   "metadata": {},
   "outputs": [],
   "source": [
    "img=Image.open('./dev/random_images/gaboriforms/sketch_P30_A_helvetica.png').convert('RGB')\n",
    "\n",
    "plt.imshow(np.array(img))\n",
    "plt.show()\n",
    "\n",
    "plt.imshow(np.transpose(just_vis_transform(img).numpy(),(1,2,0)))"
   ]
  },
  {
   "cell_type": "code",
   "execution_count": null,
   "metadata": {},
   "outputs": [],
   "source": [
    "# normalize images using parameters from the training image set\n",
    "gaboriform_transform= transforms.Compose([       \n",
    " transforms.Resize(256),transforms.Pad(128),\n",
    " transforms.CenterCrop((512,512)),         \n",
    " transforms.ToTensor(),                    \n",
    " transforms.Normalize(                      \n",
    " mean=[0.485, 0.456, 0.406],                \n",
    " std=[0.229, 0.224, 0.225])])"
   ]
  },
  {
   "cell_type": "code",
   "execution_count": null,
   "metadata": {},
   "outputs": [],
   "source": [
    "# img=Image.open('./dev/random_images/gaboriforms/sketch_Random_A_helvetica.png').convert('RGB')\n",
    "img=Image.open('./dev/random_images/gaboriforms/sketch_P30_A_helvetica.png').convert('RGB')\n",
    "img=gaboriform_transform(img)\n",
    "img=img.to(device)\n",
    "img=torch.unsqueeze(img,0)\n",
    "img.shape"
   ]
  },
  {
   "cell_type": "code",
   "execution_count": null,
   "metadata": {},
   "outputs": [],
   "source": [
    "@interact\n",
    "def get_data():\n",
    "    \n",
    "    \n",
    "    img=Image.open('./dev/random_images/gaboriforms/sketch_P30_A_helvetica.png').convert('RGB')\n",
    "    # img=Image.open('./dev/random_images/gaboriforms/sketch_P10_A_helvetica.png').convert('RGB')\n",
    "    # img=Image.open('./dev/random_images/gaboriforms/sketch_N10_A_helvetica.png').convert('RGB')\n",
    "    # img=Image.open('./dev/random_images/gaboriforms/sketch_Base_A_helvetica.png').convert('RGB')\n",
    "    \n",
    "    plt.imshow(np.array(img))\n",
    "    plt.show()\n",
    "    \n",
    "    img=gaboriform_transform(img)\n",
    "    \n",
    "    \n",
    "    img=img.to(device)\n",
    "    img=torch.unsqueeze(img,0)\n",
    "    prep_img=Variable(img,requires_grad=True)\n",
    "    \n",
    "    \n",
    "    \n",
    "    \n",
    "    \n",
    "    @interact(file=sup_regular_finetune_files)\n",
    "    def vis_image(file=sup_regular_finetune_files[6],show_vis=True):\n",
    "        \n",
    "        if(show_vis):\n",
    "            \n",
    "            checkpoint=torch.load(file)\n",
    "             \n",
    "            # checkpoint=torch.load('./dev/testing_vis_models/ft_simple-readout/hidden_1_lr_0.0001/model_sup-regular_layer_avgpool_mode_finetune.pt')\n",
    "            \n",
    "            print('loaded model')\n",
    "            plt.figure(figsize=(14,4))\n",
    "            plt.subplot(1,2,1)\n",
    "            plt.plot(np.arange(len(checkpoint['metrics']['train_acc'])),checkpoint['metrics']['train_acc'],label='train')\n",
    "            plt.plot(np.arange(len(checkpoint['metrics']['val_acc'])),checkpoint['metrics']['val_acc'],label='val')\n",
    "            plt.ylim(0.4,1.1)\n",
    "            plt.legend()\n",
    "            \n",
    "            try:\n",
    "                plt.subplot(1,2,2)\n",
    "                plt.plot(np.arange(len(checkpoint['metrics']['optim_lr'])),checkpoint['metrics']['optim_lr'],label='lr')\n",
    "                plt.legend()\n",
    "                plt.show()\n",
    "            except:\n",
    "                pass\n",
    "        \n",
    "        \n",
    "        \n",
    "            loaded_spliced_model=SpliceModel(checkpoint['training_config']['base_model_name'],checkpoint['training_config']['layer_name'],fine_tune=checkpoint['training_config']['fine_tune'],device=device)\n",
    "            loaded_spliced_model.load_state_dict(checkpoint['model_state_dict'],strict=False)\n",
    "            output=loaded_spliced_model.forward(img).detach().cpu()\n",
    "            print(output)\n",
    "            \n",
    "\n",
    "            GBP = N_GuidedBackprop(loaded_spliced_model,device=device)\n",
    "\n",
    "\n",
    "            # Get gradients\n",
    "            guided_grads = GBP.generate_gradients(prep_img, 1)\n",
    "\n",
    "            # Gradients\n",
    "            guided_grads_vis = guided_grads - guided_grads.min()\n",
    "            guided_grads_vis /= guided_grads_vis.max()\n",
    "\n",
    "            plt.figure(figsize=(10,8))\n",
    "            plt.imshow(np.transpose(guided_grads_vis,(1,2,0)))\n",
    "\n",
    "\n",
    "            # Grayscale Gradients\n",
    "            grayscale_guided_grads = convert_to_grayscale(guided_grads)\n",
    "\n",
    "\n",
    "            grayscale_guided_grads_vis = grayscale_guided_grads - grayscale_guided_grads.min()\n",
    "            grayscale_guided_grads_vis /= grayscale_guided_grads_vis.max()\n",
    "\n",
    "            plt.figure(figsize=(10,8))\n",
    "            plt.imshow(np.squeeze(np.transpose(grayscale_guided_grads_vis,(1,2,0))),cmap='gray')\n",
    "            plt.axis('off')\n",
    "        \n",
    "\n"
   ]
  },
  {
   "cell_type": "code",
   "execution_count": null,
   "metadata": {},
   "outputs": [],
   "source": [
    "point_p10 = np.array([-33.1276,  30.6098])\n",
    "point_n10 = np.array([-31.4670,  29.0349])\n",
    "point_p30 = np.array([-47.4325,  45.2123])\n",
    " \n",
    "# calculating Euclidean distance\n",
    "# using linalg.norm()\n",
    "print(np.linalg.norm(point_p10 - point_n10))\n",
    "print(np.linalg.norm(point_p10 - point_p30))"
   ]
  },
  {
   "cell_type": "code",
   "execution_count": null,
   "metadata": {},
   "outputs": [],
   "source": []
  },
  {
   "cell_type": "code",
   "execution_count": null,
   "metadata": {},
   "outputs": [],
   "source": []
  },
  {
   "cell_type": "code",
   "execution_count": null,
   "metadata": {},
   "outputs": [],
   "source": []
  },
  {
   "cell_type": "code",
   "execution_count": null,
   "metadata": {},
   "outputs": [],
   "source": [
    "point_p10 = np.array([-14.3679,  13.7414])\n",
    "point_n10 = np.array([-14.2654,  14.0088])\n",
    "point_p30 = np.array([-24.5802,  23.7775])\n",
    " \n",
    "# calculating Euclidean distance\n",
    "# using linalg.norm()\n",
    "print(np.linalg.norm(point_p10 - point_n10))\n",
    "print(np.linalg.norm(point_p10 - point_p30))"
   ]
  },
  {
   "cell_type": "code",
   "execution_count": null,
   "metadata": {},
   "outputs": [],
   "source": []
  },
  {
   "cell_type": "code",
   "execution_count": null,
   "metadata": {},
   "outputs": [],
   "source": []
  },
  {
   "cell_type": "markdown",
   "metadata": {},
   "source": [
    "# Workspace for testing backward passes"
   ]
  },
  {
   "cell_type": "markdown",
   "metadata": {},
   "source": [
    "# Testing forward and backward fucntion on a toy model"
   ]
  },
  {
   "cell_type": "code",
   "execution_count": null,
   "metadata": {},
   "outputs": [],
   "source": [
    "from torchinfo import summary"
   ]
  },
  {
   "cell_type": "code",
   "execution_count": null,
   "metadata": {},
   "outputs": [],
   "source": [
    "# base_model=get_base_model('sup_regular')\n",
    "base_model=Net()"
   ]
  },
  {
   "cell_type": "code",
   "execution_count": null,
   "metadata": {},
   "outputs": [],
   "source": [
    "# view_img=torch.randn(2,3,512,512)\n",
    "view_img=torch.randn(1,3,32,32)"
   ]
  },
  {
   "cell_type": "code",
   "execution_count": null,
   "metadata": {},
   "outputs": [],
   "source": [
    "class Net(nn.Module):\n",
    "    def __init__(self):\n",
    "        super().__init__()\n",
    "        self.conv1 = nn.Conv2d(3, 6, 5)\n",
    "        self.relu1=nn.ReLU()\n",
    "        self.pool = nn.MaxPool2d(2, 2)\n",
    "        self.conv2 = nn.Conv2d(6, 16, 5)\n",
    "        self.relu2=nn.ReLU()\n",
    "        self.fc1 = nn.Linear(16 * 5 * 5, 120)\n",
    "        self.fc2 = nn.Linear(120, 84)\n",
    "        self.fc3 = nn.Linear(84, 10)\n",
    "\n",
    "    def forward(self, x):\n",
    "        x = self.pool(self.relu1(self.conv1(x)))\n",
    "        x = self.pool(self.relu2(self.conv2(x)))\n",
    "        x = torch.flatten(x, 1) # flatten all dimensions except batch\n",
    "        x = self.fc1(x)\n",
    "        x = self.fc2(x)\n",
    "        x = self.fc3(x)\n",
    "        return x"
   ]
  },
  {
   "cell_type": "code",
   "execution_count": null,
   "metadata": {},
   "outputs": [],
   "source": [
    "# summary(base_model,(1,3,512,512), device='cpu', verbose=0)\n",
    "summary(base_model,(1,3,32,32), device='cpu', verbose=0)"
   ]
  },
  {
   "cell_type": "code",
   "execution_count": null,
   "metadata": {},
   "outputs": [],
   "source": [
    "base_model"
   ]
  },
  {
   "cell_type": "code",
   "execution_count": null,
   "metadata": {},
   "outputs": [],
   "source": [
    "for name,module in base_model.named_modules():\n",
    "    print(name)"
   ]
  },
  {
   "cell_type": "markdown",
   "metadata": {},
   "source": [
    "# Trying a forward pass - This works"
   ]
  },
  {
   "cell_type": "code",
   "execution_count": null,
   "metadata": {},
   "outputs": [],
   "source": [
    "# base_model=get_base_model('sup_regular')\n",
    "# view_img=torch.randn(2,3,512,512)\n",
    "\n",
    "base_model=Net()\n",
    "view_img=torch.randn(1,3,32,32)"
   ]
  },
  {
   "cell_type": "code",
   "execution_count": null,
   "metadata": {},
   "outputs": [],
   "source": [
    "forward_activations_in=[]\n",
    "forward_activations_out=[]"
   ]
  },
  {
   "cell_type": "code",
   "execution_count": null,
   "metadata": {},
   "outputs": [],
   "source": [
    "def forward_hook_function(module, ten_in, ten_out):\n",
    "    forward_activations_in.append(ten_in)\n",
    "    forward_activations_out.append(ten_out)"
   ]
  },
  {
   "cell_type": "code",
   "execution_count": null,
   "metadata": {},
   "outputs": [],
   "source": [
    "for name,module in base_model.named_modules():\n",
    "    if(name=='relu1'):\n",
    "        module.register_forward_hook(forward_hook_function)\n",
    "        "
   ]
  },
  {
   "cell_type": "code",
   "execution_count": null,
   "metadata": {},
   "outputs": [],
   "source": [
    "print(forward_activations_in)\n",
    "print(forward_activations_out)"
   ]
  },
  {
   "cell_type": "code",
   "execution_count": null,
   "metadata": {},
   "outputs": [],
   "source": [
    "output=base_model(view_img)\n",
    "output.shape"
   ]
  },
  {
   "cell_type": "code",
   "execution_count": null,
   "metadata": {},
   "outputs": [],
   "source": [
    "print(forward_activations_in[0][0].shape)\n",
    "print(forward_activations_out[0].shape)"
   ]
  },
  {
   "cell_type": "markdown",
   "metadata": {},
   "source": [
    "# Trying a backward pass - This is hard lol"
   ]
  },
  {
   "cell_type": "code",
   "execution_count": null,
   "metadata": {},
   "outputs": [],
   "source": [
    "# base_model=get_base_model('sup_regular')\n",
    "# view_img=torch.randn(2,3,512,512)\n",
    "\n",
    "base_model=Net()\n",
    "view_img=torch.randn(1,3,32,32)"
   ]
  },
  {
   "cell_type": "code",
   "execution_count": null,
   "metadata": {},
   "outputs": [],
   "source": [
    "backward_gradients_in=[]\n",
    "backward_gradients_out=[]"
   ]
  },
  {
   "cell_type": "code",
   "execution_count": null,
   "metadata": {},
   "outputs": [],
   "source": [
    "def backward_hook_function(module, grad_in, grad_out):\n",
    "    backward_gradients_in.append(grad_in)\n",
    "    backward_gradients_out.append(grad_out)"
   ]
  },
  {
   "cell_type": "code",
   "execution_count": null,
   "metadata": {},
   "outputs": [],
   "source": [
    "for name,module in base_model.named_modules():\n",
    "    if(name=='conv2'):\n",
    "        module.register_backward_hook(backward_hook_function)\n",
    "        "
   ]
  },
  {
   "cell_type": "code",
   "execution_count": null,
   "metadata": {},
   "outputs": [],
   "source": [
    "backward_gradients_in"
   ]
  },
  {
   "cell_type": "code",
   "execution_count": null,
   "metadata": {},
   "outputs": [],
   "source": [
    "output=base_model(view_img)\n",
    "output.shape"
   ]
  },
  {
   "cell_type": "code",
   "execution_count": null,
   "metadata": {},
   "outputs": [],
   "source": [
    "backward_gradients_in"
   ]
  },
  {
   "cell_type": "code",
   "execution_count": null,
   "metadata": {},
   "outputs": [],
   "source": [
    "torch.mean(output).backward()"
   ]
  },
  {
   "cell_type": "code",
   "execution_count": null,
   "metadata": {},
   "outputs": [],
   "source": [
    "len(backward_gradients_in[0])"
   ]
  },
  {
   "cell_type": "code",
   "execution_count": null,
   "metadata": {},
   "outputs": [],
   "source": [
    "len(backward_gradients_out[0])"
   ]
  },
  {
   "cell_type": "code",
   "execution_count": null,
   "metadata": {},
   "outputs": [],
   "source": [
    "for i in range(len(backward_gradients_in[0])):\n",
    "    print(backward_gradients_in[0][i].shape)"
   ]
  },
  {
   "cell_type": "code",
   "execution_count": null,
   "metadata": {},
   "outputs": [],
   "source": [
    "for i in range(len(backward_gradients_out[0])):\n",
    "    print(backward_gradients_out[0][i].shape)"
   ]
  },
  {
   "cell_type": "markdown",
   "metadata": {},
   "source": [
    "# Combining the two"
   ]
  },
  {
   "cell_type": "code",
   "execution_count": null,
   "metadata": {},
   "outputs": [],
   "source": [
    "# base_model=get_base_model('sup_regular')\n",
    "# view_img=torch.randn(2,3,512,512)\n",
    "\n",
    "base_model=Net()\n",
    "view_img=torch.randn(1,3,32,32)"
   ]
  },
  {
   "cell_type": "code",
   "execution_count": null,
   "metadata": {},
   "outputs": [],
   "source": [
    "forward_activations_in=[]\n",
    "forward_activations_out=[]"
   ]
  },
  {
   "cell_type": "code",
   "execution_count": null,
   "metadata": {},
   "outputs": [],
   "source": [
    "backward_gradients_in=[]\n",
    "backward_gradients_out=[]"
   ]
  },
  {
   "cell_type": "code",
   "execution_count": null,
   "metadata": {},
   "outputs": [],
   "source": [
    "def backward_hook_function(module, grad_in, grad_out):\n",
    "    backward_gradients_in.append(grad_in)\n",
    "    backward_gradients_out.append(grad_out)"
   ]
  },
  {
   "cell_type": "code",
   "execution_count": null,
   "metadata": {},
   "outputs": [],
   "source": [
    "def forward_hook_function(module, ten_in, ten_out):\n",
    "    forward_activations_in.append(ten_in)\n",
    "    forward_activations_out.append(ten_out)"
   ]
  },
  {
   "cell_type": "code",
   "execution_count": null,
   "metadata": {},
   "outputs": [],
   "source": [
    "for name,module in base_model.named_modules():\n",
    "    if(name=='relu2'):\n",
    "        module.register_backward_hook(backward_hook_function)\n",
    "        module.register_forward_hook(forward_hook_function)\n",
    "        "
   ]
  },
  {
   "cell_type": "code",
   "execution_count": null,
   "metadata": {},
   "outputs": [],
   "source": [
    "output=base_model(view_img)\n",
    "torch.mean(output).backward()"
   ]
  },
  {
   "cell_type": "code",
   "execution_count": null,
   "metadata": {},
   "outputs": [],
   "source": [
    "for i in range(len(backward_gradients_in[0])):\n",
    "    print(backward_gradients_in[0][i].shape)\n",
    "\n",
    "for i in range(len(backward_gradients_out[0])):\n",
    "    print(backward_gradients_out[0][i].shape)"
   ]
  },
  {
   "cell_type": "code",
   "execution_count": null,
   "metadata": {},
   "outputs": [],
   "source": [
    "print(forward_activations_in[0][0].shape)\n",
    "print(forward_activations_out[0].shape)"
   ]
  },
  {
   "cell_type": "markdown",
   "metadata": {},
   "source": [
    "# Testing the grad_in and grad_out for relu layers"
   ]
  },
  {
   "cell_type": "code",
   "execution_count": null,
   "metadata": {},
   "outputs": [],
   "source": [
    "# base_model=get_base_model('sup_regular')\n",
    "# view_img=torch.randn(2,3,512,512)\n",
    "\n",
    "base_model=Net()\n",
    "view_img=torch.randn(1,3,32,32)"
   ]
  },
  {
   "cell_type": "code",
   "execution_count": null,
   "metadata": {},
   "outputs": [],
   "source": [
    "forward_activations_in=[]\n",
    "forward_activations_out=[]"
   ]
  },
  {
   "cell_type": "code",
   "execution_count": null,
   "metadata": {},
   "outputs": [],
   "source": [
    "backward_gradients_in=[]\n",
    "backward_gradients_out=[]"
   ]
  },
  {
   "cell_type": "code",
   "execution_count": null,
   "metadata": {},
   "outputs": [],
   "source": [
    "def backward_hook_function(module, grad_in, grad_out):\n",
    "    backward_gradients_in.append(grad_in)\n",
    "    backward_gradients_out.append(grad_out)"
   ]
  },
  {
   "cell_type": "code",
   "execution_count": null,
   "metadata": {},
   "outputs": [],
   "source": [
    "def forward_hook_function(module, ten_in, ten_out):\n",
    "    forward_activations_in.append(ten_in)\n",
    "    forward_activations_out.append(ten_out)"
   ]
  },
  {
   "cell_type": "code",
   "execution_count": null,
   "metadata": {},
   "outputs": [],
   "source": [
    "for name,module in base_model.named_modules():\n",
    "    if(name=='relu2'):\n",
    "        module.register_backward_hook(backward_hook_function)\n",
    "        module.register_forward_hook(forward_hook_function)\n",
    "        "
   ]
  },
  {
   "cell_type": "code",
   "execution_count": null,
   "metadata": {},
   "outputs": [],
   "source": [
    "output=base_model(view_img)\n",
    "torch.mean(output).backward()"
   ]
  },
  {
   "cell_type": "code",
   "execution_count": null,
   "metadata": {},
   "outputs": [],
   "source": [
    "for i in range(len(backward_gradients_in[0])):\n",
    "    print(backward_gradients_in[0][i].shape)\n",
    "\n",
    "for i in range(len(backward_gradients_out[0])):\n",
    "    print(backward_gradients_out[0][i].shape)"
   ]
  },
  {
   "cell_type": "code",
   "execution_count": null,
   "metadata": {},
   "outputs": [],
   "source": [
    "print(forward_activations_in[0][0].shape)\n",
    "print(forward_activations_out[0].shape)"
   ]
  },
  {
   "cell_type": "code",
   "execution_count": null,
   "metadata": {},
   "outputs": [],
   "source": [
    "grad_in=backward_gradients_in[0][0]"
   ]
  },
  {
   "cell_type": "code",
   "execution_count": null,
   "metadata": {},
   "outputs": [],
   "source": [
    "grad_out=backward_gradients_out[0][0]"
   ]
  },
  {
   "cell_type": "code",
   "execution_count": null,
   "metadata": {},
   "outputs": [],
   "source": [
    "tensor_in=forward_activations_in[0][0]"
   ]
  },
  {
   "cell_type": "code",
   "execution_count": null,
   "metadata": {},
   "outputs": [],
   "source": [
    "tensor_out=forward_activations_out[0]"
   ]
  },
  {
   "cell_type": "code",
   "execution_count": null,
   "metadata": {},
   "outputs": [],
   "source": [
    "sns.distplot(grad_in.numpy())"
   ]
  },
  {
   "cell_type": "code",
   "execution_count": null,
   "metadata": {},
   "outputs": [],
   "source": [
    "sns.distplot(torch.clamp(grad_in,min=0.0).numpy())"
   ]
  },
  {
   "cell_type": "code",
   "execution_count": null,
   "metadata": {},
   "outputs": [],
   "source": []
  },
  {
   "cell_type": "code",
   "execution_count": null,
   "metadata": {},
   "outputs": [],
   "source": []
  },
  {
   "cell_type": "code",
   "execution_count": null,
   "metadata": {},
   "outputs": [],
   "source": []
  },
  {
   "cell_type": "code",
   "execution_count": null,
   "metadata": {},
   "outputs": [],
   "source": []
  },
  {
   "cell_type": "code",
   "execution_count": null,
   "metadata": {},
   "outputs": [],
   "source": [
    "torch.equal(grad_out,grad_in)"
   ]
  },
  {
   "cell_type": "code",
   "execution_count": null,
   "metadata": {},
   "outputs": [],
   "source": [
    "tensor_out.shape"
   ]
  },
  {
   "cell_type": "code",
   "execution_count": null,
   "metadata": {},
   "outputs": [],
   "source": [
    "grad_out.shape"
   ]
  },
  {
   "cell_type": "code",
   "execution_count": null,
   "metadata": {},
   "outputs": [],
   "source": [
    "positions=tensor_out\n",
    "\n",
    "positions[positions>0]=1.0\n",
    "\n",
    "torch.equal(grad_out * positions, grad_in)"
   ]
  },
  {
   "cell_type": "markdown",
   "metadata": {},
   "source": [
    "### Hence to propagate negative gradients, just take grad_in and pass the positive values"
   ]
  },
  {
   "cell_type": "code",
   "execution_count": null,
   "metadata": {},
   "outputs": [],
   "source": [
    "new_grad_in=torch.clamp(grad_in,min=0.0)"
   ]
  },
  {
   "cell_type": "code",
   "execution_count": null,
   "metadata": {},
   "outputs": [],
   "source": []
  }
 ],
 "metadata": {
  "kernelspec": {
   "display_name": "Python 3 (ipykernel)",
   "language": "python",
   "name": "python3"
  },
  "language_info": {
   "codemirror_mode": {
    "name": "ipython",
    "version": 3
   },
   "file_extension": ".py",
   "mimetype": "text/x-python",
   "name": "python",
   "nbconvert_exporter": "python",
   "pygments_lexer": "ipython3",
   "version": "3.7.13"
  }
 },
 "nbformat": 4,
 "nbformat_minor": 4
}
