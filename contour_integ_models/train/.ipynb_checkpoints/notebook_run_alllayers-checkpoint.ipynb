{
 "cells": [
  {
   "cell_type": "code",
   "execution_count": 1,
   "id": "688dc05c-e201-436a-b49e-35e1036df28e",
   "metadata": {},
   "outputs": [
    {
     "name": "stdout",
     "output_type": "stream",
     "text": [
      "updated\n"
     ]
    }
   ],
   "source": [
    "%config Completer.use_jedi = False\n",
    "\n",
    "import sys\n",
    "sys.path.insert(1,'../')\n",
    "sys.path.insert(1,'../models/')\n",
    "\n",
    "\n",
    "# Pytorch related\n",
    "import torch\n",
    "import torch.nn as nn\n",
    "import torchvision\n",
    "import torchvision.transforms as transforms\n",
    "from torchvision import datasets, transforms\n",
    "from torch.utils import data as dt\n",
    "from torchinfo import summary\n",
    "import torchvision.models as pretrained_models\n",
    "from alexnet_pytorch import AlexNet\n",
    "import torch.optim as optim\n",
    "from torch.utils.data import Dataset, DataLoader\n",
    "from torch.utils import model_zoo\n",
    "\n",
    "\n",
    "\n",
    "import numpy as np\n",
    "import pandas as pd\n",
    "import os\n",
    "\n",
    "\n",
    "# Extra imports\n",
    "# from pytorch_pretrained_vit import ViT\n",
    "from lib.feature_extractor import FeatureExtractor\n",
    "from lib.build_fe_ft_models import *\n",
    "from models import barlow_twins\n"
   ]
  },
  {
   "cell_type": "code",
   "execution_count": 2,
   "id": "e0394fda-b79c-40eb-9c00-e0875910b90a",
   "metadata": {},
   "outputs": [
    {
     "name": "stdout",
     "output_type": "stream",
     "text": [
      "updated\n",
      "usage: train.py [-h] [--get-B GET_B [GET_B ...]] [--get-D GET_D [GET_D ...]]\n",
      "                [--get-A GET_A [GET_A ...]] [--fine-tune N]\n",
      "                [--base-model-name N] [--layer-name N] [--batch-size N]\n",
      "                [--num-workers N] [--use-device N] [--total-num-epochs N]\n",
      "                [--optimizer-name N] [--optimizer-lr N]\n",
      "                [--optimizer-momentum N] [--optimizer-wd N] [--is-scheduler]\n",
      "\n",
      "Evaluate model features on ImageNet\n",
      "\n",
      "optional arguments:\n",
      "  -h, --help            show this help message and exit\n",
      "  --get-B GET_B [GET_B ...]\n",
      "                        path element - global curvature\n",
      "  --get-D GET_D [GET_D ...]\n",
      "                        path element - distance between elements\n",
      "  --get-A GET_A [GET_A ...]\n",
      "                        path element - local curvature\n",
      "  --fine-tune N         Fine Tuning or Frozen weights in base model\n",
      "  --base-model-name N   base model to readout from\n",
      "  --layer-name N        layer of base model to readout from\n",
      "  --batch-size N        batch size\n",
      "  --num-workers N       number of workers\n",
      "  --use-device N        device - gpu or cpu\n",
      "  --total-num-epochs N  training epochs\n",
      "  --optimizer-name N    optimizer name\n",
      "  --optimizer-lr N      optimizer learning rate\n",
      "  --optimizer-momentum N\n",
      "                        optimizer momentum\n",
      "  --optimizer-wd N      optimizer weight decay\n",
      "  --is-scheduler        one cycle scheduler\n"
     ]
    }
   ],
   "source": [
    "!python train.py -h"
   ]
  },
  {
   "cell_type": "markdown",
   "id": "8dc66377-9b69-42d5-9cc9-d49b49c637d9",
   "metadata": {},
   "source": [
    "# Hyperparameters"
   ]
  },
  {
   "cell_type": "code",
   "execution_count": 3,
   "id": "4e3d62d3-cfa4-43f3-8c15-ecca0be146c7",
   "metadata": {},
   "outputs": [],
   "source": [
    "# base_model_name='alexnet-pytorch_regim_categ'\n",
    "\n",
    "# base_model_name='alexnet-bagnet33_regim_categ'\n",
    "# base_model_name='alexnet-bagnet17_regim_categ'\n",
    "\n",
    "# base_model_name='alexnet_styim_categ'\n",
    "\n",
    "\n",
    "base_model_name='alexnet-random_nodata_notask'\n",
    "\n",
    "\n",
    "\n",
    "\n",
    "use_device='2'\n",
    "fine_tune='true'\n",
    "# optimizer_lr=0.0001\n",
    "\n",
    "optimizer_lr=0.00001\n",
    "\n",
    "\n",
    "if('vit' not in base_model_name):\n",
    "    temp_input_to_base=torch.randn(2,3,512,512)\n",
    "    img_dim=512\n",
    "else:\n",
    "    temp_input_to_base=torch.randn(2,3,384,384)\n",
    "    img_dim=384\n",
    "    "
   ]
  },
  {
   "cell_type": "markdown",
   "id": "f979b57d-b437-4bd4-bf95-bb68705f061d",
   "metadata": {},
   "source": [
    "# Example training 1 layer for 2 epochs"
   ]
  },
  {
   "cell_type": "code",
   "execution_count": 4,
   "id": "1b8a702e-f915-40de-b1cc-f94fca761402",
   "metadata": {},
   "outputs": [],
   "source": [
    "# !python train.py --base-model-name $base_model_name --layer-name classifier.6 --use-device $use_device --total-num-epoch 10 --fine-tune $fine_tune"
   ]
  },
  {
   "cell_type": "markdown",
   "id": "a1492ed8-a0f9-4315-be73-38cb758b3e15",
   "metadata": {},
   "source": [
    "# Training all layers"
   ]
  },
  {
   "cell_type": "code",
   "execution_count": 5,
   "id": "ff20aaf2-1b3c-4ea6-a95c-f021ccd2676d",
   "metadata": {},
   "outputs": [],
   "source": [
    "def get_all_leaf_layers(model):\n",
    "    \n",
    "    def nested_children(m: torch.nn.Module):\n",
    "        children = dict(m.named_children())\n",
    "        output = {}\n",
    "        if children == {}:\n",
    "            # if module has no children; m is last child! :O\n",
    "            return m\n",
    "        else:\n",
    "            # look for children from children... to the last child!\n",
    "            for name, child in children.items():\n",
    "                try:\n",
    "                    output[name] = nested_children(child)\n",
    "                except TypeError:\n",
    "                    output[name] = nested_children(child)\n",
    "        return output\n",
    "    \n",
    "    \n",
    "\n",
    "\n",
    "    all_layer_name=[]\n",
    "    all_layer=[]\n",
    "    \n",
    "    def recursive_call(all_layer_dict, add_str=''):\n",
    "        for key in all_layer_dict.keys():\n",
    "            if(isinstance(all_layer_dict[key],dict)):\n",
    "                recursive_call(all_layer_dict[key],add_str=key+'_')\n",
    "            else:\n",
    "                all_layer_name.append((add_str+key))\n",
    "                all_layer.append(all_layer_dict[key])\n",
    "    \n",
    "    \n",
    "    \n",
    "    all_layer_dict=nested_children(model)\n",
    "    recursive_call(all_layer_dict)\n",
    "    \n",
    "    \n",
    "    all_module_dict=dict(model.named_modules())\n",
    "    \n",
    "    return all_layer_name, all_layer, all_layer_dict, all_module_dict\n",
    "    \n",
    "    \n",
    "    \n",
    "    "
   ]
  },
  {
   "cell_type": "markdown",
   "id": "e29e7819-daf4-4c6c-a179-e1b12ef04270",
   "metadata": {},
   "source": [
    "# Building, Saving and Loading feature extractor models examples"
   ]
  },
  {
   "cell_type": "code",
   "execution_count": 6,
   "id": "740cac4a-dabe-4bbd-ae61-32f21faa65f0",
   "metadata": {},
   "outputs": [
    {
     "data": {
      "text/plain": [
       "'alexnet-random_nodata_notask'"
      ]
     },
     "execution_count": 6,
     "metadata": {},
     "output_type": "execute_result"
    }
   ],
   "source": [
    "base_model_name"
   ]
  },
  {
   "cell_type": "code",
   "execution_count": 7,
   "id": "ff480a56-7b70-4554-b2a4-71fcd89bbfa3",
   "metadata": {},
   "outputs": [],
   "source": [
    "base_model=get_base_model(base_model_name)"
   ]
  },
  {
   "cell_type": "code",
   "execution_count": 8,
   "id": "91ea6b31-b97e-4d62-af5c-9d42e3c4fe33",
   "metadata": {},
   "outputs": [
    {
     "data": {
      "text/plain": [
       "AlexNet(\n",
       "  (features): Sequential(\n",
       "    (0): Conv2d(3, 64, kernel_size=(11, 11), stride=(4, 4), padding=(2, 2))\n",
       "    (1): ReLU(inplace=True)\n",
       "    (2): MaxPool2d(kernel_size=3, stride=2, padding=0, dilation=1, ceil_mode=False)\n",
       "    (3): Conv2d(64, 192, kernel_size=(5, 5), stride=(1, 1), padding=(2, 2))\n",
       "    (4): ReLU(inplace=True)\n",
       "    (5): MaxPool2d(kernel_size=3, stride=2, padding=0, dilation=1, ceil_mode=False)\n",
       "    (6): Conv2d(192, 384, kernel_size=(3, 3), stride=(1, 1), padding=(1, 1))\n",
       "    (7): ReLU(inplace=True)\n",
       "    (8): Conv2d(384, 256, kernel_size=(3, 3), stride=(1, 1), padding=(1, 1))\n",
       "    (9): ReLU(inplace=True)\n",
       "    (10): Conv2d(256, 256, kernel_size=(3, 3), stride=(1, 1), padding=(1, 1))\n",
       "    (11): ReLU(inplace=True)\n",
       "    (12): MaxPool2d(kernel_size=3, stride=2, padding=0, dilation=1, ceil_mode=False)\n",
       "  )\n",
       "  (avgpool): AdaptiveAvgPool2d(output_size=(6, 6))\n",
       "  (classifier): Sequential(\n",
       "    (0): Dropout(p=0.5, inplace=False)\n",
       "    (1): Linear(in_features=9216, out_features=4096, bias=True)\n",
       "    (2): ReLU(inplace=True)\n",
       "    (3): Dropout(p=0.5, inplace=False)\n",
       "    (4): Linear(in_features=4096, out_features=4096, bias=True)\n",
       "    (5): ReLU(inplace=True)\n",
       "    (6): Linear(in_features=4096, out_features=1000, bias=True)\n",
       "  )\n",
       ")"
      ]
     },
     "execution_count": 8,
     "metadata": {},
     "output_type": "execute_result"
    }
   ],
   "source": [
    "base_model"
   ]
  },
  {
   "cell_type": "code",
   "execution_count": 9,
   "id": "2cd203fc-67b4-458c-bbb5-99f515342c56",
   "metadata": {},
   "outputs": [
    {
     "data": {
      "text/plain": [
       "['features_0',\n",
       " 'features_1',\n",
       " 'features_2',\n",
       " 'features_3',\n",
       " 'features_4',\n",
       " 'features_5',\n",
       " 'features_6',\n",
       " 'features_7',\n",
       " 'features_8',\n",
       " 'features_9',\n",
       " 'features_10',\n",
       " 'features_11',\n",
       " 'features_12',\n",
       " 'avgpool',\n",
       " 'classifier_0',\n",
       " 'classifier_1',\n",
       " 'classifier_2',\n",
       " 'classifier_3',\n",
       " 'classifier_4',\n",
       " 'classifier_5',\n",
       " 'classifier_6']"
      ]
     },
     "execution_count": 9,
     "metadata": {},
     "output_type": "execute_result"
    }
   ],
   "source": [
    "leaf_modules,_,_,_=get_all_leaf_layers(base_model)\n",
    "leaf_modules"
   ]
  },
  {
   "cell_type": "code",
   "execution_count": null,
   "id": "0fc046a0-7932-428b-add6-984aa0d79ea0",
   "metadata": {},
   "outputs": [
    {
     "name": "stdout",
     "output_type": "stream",
     "text": [
      "updated\n",
      "  0%|          | 0/100 [00:00<?, ?it/s]\n",
      "updated\n",
      "  0%|          | 0/100 [00:00<?, ?it/s]\n",
      "updated\n",
      "  0%|          | 0/100 [00:00<?, ?it/s]\n",
      "updated\n",
      "  0%|          | 0/100 [00:00<?, ?it/s]\n",
      "updated\n",
      "  0%|          | 0/100 [00:00<?, ?it/s]\n",
      "updated\n",
      "  0%|          | 0/100 [00:00<?, ?it/s]\n",
      "updated\n",
      "  0%|          | 0/100 [00:00<?, ?it/s]\n",
      "updated\n",
      "  0%|          | 0/100 [00:00<?, ?it/s]\n"
     ]
    }
   ],
   "source": [
    "for i in range(len(leaf_modules)):\n",
    "# for i in range(10):\n",
    "    layer_name=leaf_modules[i].replace('_','.')\n",
    "    !python train.py --base-model-name $base_model_name --layer-name $layer_name --use-device $use_device --fine-tune $fine_tune --optimizer-lr $optimizer_lr"
   ]
  },
  {
   "cell_type": "code",
   "execution_count": null,
   "id": "2711acf7-364e-483b-9618-719f92f93715",
   "metadata": {},
   "outputs": [],
   "source": [
    "print('Done')"
   ]
  },
  {
   "cell_type": "code",
   "execution_count": null,
   "id": "83bfb5a6-3e84-4e77-b99e-681b63a3b2b7",
   "metadata": {},
   "outputs": [],
   "source": []
  }
 ],
 "metadata": {
  "kernelspec": {
   "display_name": "Python 3 (ipykernel)",
   "language": "python",
   "name": "python3"
  },
  "language_info": {
   "codemirror_mode": {
    "name": "ipython",
    "version": 3
   },
   "file_extension": ".py",
   "mimetype": "text/x-python",
   "name": "python",
   "nbconvert_exporter": "python",
   "pygments_lexer": "ipython3",
   "version": "3.7.13"
  }
 },
 "nbformat": 4,
 "nbformat_minor": 5
}
